{
  "nbformat": 4,
  "nbformat_minor": 0,
  "metadata": {
    "colab": {
      "provenance": [],
      "gpuType": "T4",
      "authorship_tag": "ABX9TyMrBdUU2QC2LmtnOWNTIrDi",
      "include_colab_link": true
    },
    "kernelspec": {
      "name": "python3",
      "display_name": "Python 3"
    },
    "language_info": {
      "name": "python"
    },
    "accelerator": "GPU",
    "widgets": {
      "application/vnd.jupyter.widget-state+json": {
        "96e0f26dfb1f4eac884170c938794bb0": {
          "model_module": "@jupyter-widgets/controls",
          "model_name": "HBoxModel",
          "model_module_version": "1.5.0",
          "state": {
            "_dom_classes": [],
            "_model_module": "@jupyter-widgets/controls",
            "_model_module_version": "1.5.0",
            "_model_name": "HBoxModel",
            "_view_count": null,
            "_view_module": "@jupyter-widgets/controls",
            "_view_module_version": "1.5.0",
            "_view_name": "HBoxView",
            "box_style": "",
            "children": [
              "IPY_MODEL_7daac956767e41bfa82f9bdf184eeb30",
              "IPY_MODEL_86b4a62144264157acf53a15d540624a",
              "IPY_MODEL_a93a7c9e671e4c289969a76a19cebacc"
            ],
            "layout": "IPY_MODEL_a828f9be15a04a86ab764bcd9628aa76"
          }
        },
        "7daac956767e41bfa82f9bdf184eeb30": {
          "model_module": "@jupyter-widgets/controls",
          "model_name": "HTMLModel",
          "model_module_version": "1.5.0",
          "state": {
            "_dom_classes": [],
            "_model_module": "@jupyter-widgets/controls",
            "_model_module_version": "1.5.0",
            "_model_name": "HTMLModel",
            "_view_count": null,
            "_view_module": "@jupyter-widgets/controls",
            "_view_module_version": "1.5.0",
            "_view_name": "HTMLView",
            "description": "",
            "description_tooltip": null,
            "layout": "IPY_MODEL_916e59bd5e6941f3b84af3d711575c41",
            "placeholder": "​",
            "style": "IPY_MODEL_c0f0fe6be4764ec58b5035296449de9e",
            "value": "tokenizer_config.json: 100%"
          }
        },
        "86b4a62144264157acf53a15d540624a": {
          "model_module": "@jupyter-widgets/controls",
          "model_name": "FloatProgressModel",
          "model_module_version": "1.5.0",
          "state": {
            "_dom_classes": [],
            "_model_module": "@jupyter-widgets/controls",
            "_model_module_version": "1.5.0",
            "_model_name": "FloatProgressModel",
            "_view_count": null,
            "_view_module": "@jupyter-widgets/controls",
            "_view_module_version": "1.5.0",
            "_view_name": "ProgressView",
            "bar_style": "success",
            "description": "",
            "description_tooltip": null,
            "layout": "IPY_MODEL_e1b290133bf0443bb642e81d31ceaae3",
            "max": 48,
            "min": 0,
            "orientation": "horizontal",
            "style": "IPY_MODEL_f55218aa2bda4771a6c302c3cc30c7fa",
            "value": 48
          }
        },
        "a93a7c9e671e4c289969a76a19cebacc": {
          "model_module": "@jupyter-widgets/controls",
          "model_name": "HTMLModel",
          "model_module_version": "1.5.0",
          "state": {
            "_dom_classes": [],
            "_model_module": "@jupyter-widgets/controls",
            "_model_module_version": "1.5.0",
            "_model_name": "HTMLModel",
            "_view_count": null,
            "_view_module": "@jupyter-widgets/controls",
            "_view_module_version": "1.5.0",
            "_view_name": "HTMLView",
            "description": "",
            "description_tooltip": null,
            "layout": "IPY_MODEL_d41bd59437cb4ec78dd365e68287f70f",
            "placeholder": "​",
            "style": "IPY_MODEL_3c26c9745fb44858b4ce97d013313dce",
            "value": " 48.0/48.0 [00:00&lt;00:00, 1.16kB/s]"
          }
        },
        "a828f9be15a04a86ab764bcd9628aa76": {
          "model_module": "@jupyter-widgets/base",
          "model_name": "LayoutModel",
          "model_module_version": "1.2.0",
          "state": {
            "_model_module": "@jupyter-widgets/base",
            "_model_module_version": "1.2.0",
            "_model_name": "LayoutModel",
            "_view_count": null,
            "_view_module": "@jupyter-widgets/base",
            "_view_module_version": "1.2.0",
            "_view_name": "LayoutView",
            "align_content": null,
            "align_items": null,
            "align_self": null,
            "border": null,
            "bottom": null,
            "display": null,
            "flex": null,
            "flex_flow": null,
            "grid_area": null,
            "grid_auto_columns": null,
            "grid_auto_flow": null,
            "grid_auto_rows": null,
            "grid_column": null,
            "grid_gap": null,
            "grid_row": null,
            "grid_template_areas": null,
            "grid_template_columns": null,
            "grid_template_rows": null,
            "height": null,
            "justify_content": null,
            "justify_items": null,
            "left": null,
            "margin": null,
            "max_height": null,
            "max_width": null,
            "min_height": null,
            "min_width": null,
            "object_fit": null,
            "object_position": null,
            "order": null,
            "overflow": null,
            "overflow_x": null,
            "overflow_y": null,
            "padding": null,
            "right": null,
            "top": null,
            "visibility": null,
            "width": null
          }
        },
        "916e59bd5e6941f3b84af3d711575c41": {
          "model_module": "@jupyter-widgets/base",
          "model_name": "LayoutModel",
          "model_module_version": "1.2.0",
          "state": {
            "_model_module": "@jupyter-widgets/base",
            "_model_module_version": "1.2.0",
            "_model_name": "LayoutModel",
            "_view_count": null,
            "_view_module": "@jupyter-widgets/base",
            "_view_module_version": "1.2.0",
            "_view_name": "LayoutView",
            "align_content": null,
            "align_items": null,
            "align_self": null,
            "border": null,
            "bottom": null,
            "display": null,
            "flex": null,
            "flex_flow": null,
            "grid_area": null,
            "grid_auto_columns": null,
            "grid_auto_flow": null,
            "grid_auto_rows": null,
            "grid_column": null,
            "grid_gap": null,
            "grid_row": null,
            "grid_template_areas": null,
            "grid_template_columns": null,
            "grid_template_rows": null,
            "height": null,
            "justify_content": null,
            "justify_items": null,
            "left": null,
            "margin": null,
            "max_height": null,
            "max_width": null,
            "min_height": null,
            "min_width": null,
            "object_fit": null,
            "object_position": null,
            "order": null,
            "overflow": null,
            "overflow_x": null,
            "overflow_y": null,
            "padding": null,
            "right": null,
            "top": null,
            "visibility": null,
            "width": null
          }
        },
        "c0f0fe6be4764ec58b5035296449de9e": {
          "model_module": "@jupyter-widgets/controls",
          "model_name": "DescriptionStyleModel",
          "model_module_version": "1.5.0",
          "state": {
            "_model_module": "@jupyter-widgets/controls",
            "_model_module_version": "1.5.0",
            "_model_name": "DescriptionStyleModel",
            "_view_count": null,
            "_view_module": "@jupyter-widgets/base",
            "_view_module_version": "1.2.0",
            "_view_name": "StyleView",
            "description_width": ""
          }
        },
        "e1b290133bf0443bb642e81d31ceaae3": {
          "model_module": "@jupyter-widgets/base",
          "model_name": "LayoutModel",
          "model_module_version": "1.2.0",
          "state": {
            "_model_module": "@jupyter-widgets/base",
            "_model_module_version": "1.2.0",
            "_model_name": "LayoutModel",
            "_view_count": null,
            "_view_module": "@jupyter-widgets/base",
            "_view_module_version": "1.2.0",
            "_view_name": "LayoutView",
            "align_content": null,
            "align_items": null,
            "align_self": null,
            "border": null,
            "bottom": null,
            "display": null,
            "flex": null,
            "flex_flow": null,
            "grid_area": null,
            "grid_auto_columns": null,
            "grid_auto_flow": null,
            "grid_auto_rows": null,
            "grid_column": null,
            "grid_gap": null,
            "grid_row": null,
            "grid_template_areas": null,
            "grid_template_columns": null,
            "grid_template_rows": null,
            "height": null,
            "justify_content": null,
            "justify_items": null,
            "left": null,
            "margin": null,
            "max_height": null,
            "max_width": null,
            "min_height": null,
            "min_width": null,
            "object_fit": null,
            "object_position": null,
            "order": null,
            "overflow": null,
            "overflow_x": null,
            "overflow_y": null,
            "padding": null,
            "right": null,
            "top": null,
            "visibility": null,
            "width": null
          }
        },
        "f55218aa2bda4771a6c302c3cc30c7fa": {
          "model_module": "@jupyter-widgets/controls",
          "model_name": "ProgressStyleModel",
          "model_module_version": "1.5.0",
          "state": {
            "_model_module": "@jupyter-widgets/controls",
            "_model_module_version": "1.5.0",
            "_model_name": "ProgressStyleModel",
            "_view_count": null,
            "_view_module": "@jupyter-widgets/base",
            "_view_module_version": "1.2.0",
            "_view_name": "StyleView",
            "bar_color": null,
            "description_width": ""
          }
        },
        "d41bd59437cb4ec78dd365e68287f70f": {
          "model_module": "@jupyter-widgets/base",
          "model_name": "LayoutModel",
          "model_module_version": "1.2.0",
          "state": {
            "_model_module": "@jupyter-widgets/base",
            "_model_module_version": "1.2.0",
            "_model_name": "LayoutModel",
            "_view_count": null,
            "_view_module": "@jupyter-widgets/base",
            "_view_module_version": "1.2.0",
            "_view_name": "LayoutView",
            "align_content": null,
            "align_items": null,
            "align_self": null,
            "border": null,
            "bottom": null,
            "display": null,
            "flex": null,
            "flex_flow": null,
            "grid_area": null,
            "grid_auto_columns": null,
            "grid_auto_flow": null,
            "grid_auto_rows": null,
            "grid_column": null,
            "grid_gap": null,
            "grid_row": null,
            "grid_template_areas": null,
            "grid_template_columns": null,
            "grid_template_rows": null,
            "height": null,
            "justify_content": null,
            "justify_items": null,
            "left": null,
            "margin": null,
            "max_height": null,
            "max_width": null,
            "min_height": null,
            "min_width": null,
            "object_fit": null,
            "object_position": null,
            "order": null,
            "overflow": null,
            "overflow_x": null,
            "overflow_y": null,
            "padding": null,
            "right": null,
            "top": null,
            "visibility": null,
            "width": null
          }
        },
        "3c26c9745fb44858b4ce97d013313dce": {
          "model_module": "@jupyter-widgets/controls",
          "model_name": "DescriptionStyleModel",
          "model_module_version": "1.5.0",
          "state": {
            "_model_module": "@jupyter-widgets/controls",
            "_model_module_version": "1.5.0",
            "_model_name": "DescriptionStyleModel",
            "_view_count": null,
            "_view_module": "@jupyter-widgets/base",
            "_view_module_version": "1.2.0",
            "_view_name": "StyleView",
            "description_width": ""
          }
        },
        "cc34f87a09604924a046ac0ae23aa27c": {
          "model_module": "@jupyter-widgets/controls",
          "model_name": "HBoxModel",
          "model_module_version": "1.5.0",
          "state": {
            "_dom_classes": [],
            "_model_module": "@jupyter-widgets/controls",
            "_model_module_version": "1.5.0",
            "_model_name": "HBoxModel",
            "_view_count": null,
            "_view_module": "@jupyter-widgets/controls",
            "_view_module_version": "1.5.0",
            "_view_name": "HBoxView",
            "box_style": "",
            "children": [
              "IPY_MODEL_2bb22bc6d9f444ec8e505da54b0f7d04",
              "IPY_MODEL_7211d0f5bf434a13bfe386ee2f90ccde",
              "IPY_MODEL_5502cd891f1c4371b1b789fcdb5e4374"
            ],
            "layout": "IPY_MODEL_82c8f399d76c44d3a609f73291b0a740"
          }
        },
        "2bb22bc6d9f444ec8e505da54b0f7d04": {
          "model_module": "@jupyter-widgets/controls",
          "model_name": "HTMLModel",
          "model_module_version": "1.5.0",
          "state": {
            "_dom_classes": [],
            "_model_module": "@jupyter-widgets/controls",
            "_model_module_version": "1.5.0",
            "_model_name": "HTMLModel",
            "_view_count": null,
            "_view_module": "@jupyter-widgets/controls",
            "_view_module_version": "1.5.0",
            "_view_name": "HTMLView",
            "description": "",
            "description_tooltip": null,
            "layout": "IPY_MODEL_fa94d3f1eb494eb3b7976bff13e2b4b0",
            "placeholder": "​",
            "style": "IPY_MODEL_0052999d839347b0b00bda9345033d32",
            "value": "config.json: 100%"
          }
        },
        "7211d0f5bf434a13bfe386ee2f90ccde": {
          "model_module": "@jupyter-widgets/controls",
          "model_name": "FloatProgressModel",
          "model_module_version": "1.5.0",
          "state": {
            "_dom_classes": [],
            "_model_module": "@jupyter-widgets/controls",
            "_model_module_version": "1.5.0",
            "_model_name": "FloatProgressModel",
            "_view_count": null,
            "_view_module": "@jupyter-widgets/controls",
            "_view_module_version": "1.5.0",
            "_view_name": "ProgressView",
            "bar_style": "success",
            "description": "",
            "description_tooltip": null,
            "layout": "IPY_MODEL_101228c8fda346758a092a4821c4e499",
            "max": 570,
            "min": 0,
            "orientation": "horizontal",
            "style": "IPY_MODEL_cc12814731324e268a5a4851fd74be95",
            "value": 570
          }
        },
        "5502cd891f1c4371b1b789fcdb5e4374": {
          "model_module": "@jupyter-widgets/controls",
          "model_name": "HTMLModel",
          "model_module_version": "1.5.0",
          "state": {
            "_dom_classes": [],
            "_model_module": "@jupyter-widgets/controls",
            "_model_module_version": "1.5.0",
            "_model_name": "HTMLModel",
            "_view_count": null,
            "_view_module": "@jupyter-widgets/controls",
            "_view_module_version": "1.5.0",
            "_view_name": "HTMLView",
            "description": "",
            "description_tooltip": null,
            "layout": "IPY_MODEL_542eb5da946840e8be9628a5f7a505dc",
            "placeholder": "​",
            "style": "IPY_MODEL_023e4b85f9434f7d936fbaa6d8536f7e",
            "value": " 570/570 [00:00&lt;00:00, 9.49kB/s]"
          }
        },
        "82c8f399d76c44d3a609f73291b0a740": {
          "model_module": "@jupyter-widgets/base",
          "model_name": "LayoutModel",
          "model_module_version": "1.2.0",
          "state": {
            "_model_module": "@jupyter-widgets/base",
            "_model_module_version": "1.2.0",
            "_model_name": "LayoutModel",
            "_view_count": null,
            "_view_module": "@jupyter-widgets/base",
            "_view_module_version": "1.2.0",
            "_view_name": "LayoutView",
            "align_content": null,
            "align_items": null,
            "align_self": null,
            "border": null,
            "bottom": null,
            "display": null,
            "flex": null,
            "flex_flow": null,
            "grid_area": null,
            "grid_auto_columns": null,
            "grid_auto_flow": null,
            "grid_auto_rows": null,
            "grid_column": null,
            "grid_gap": null,
            "grid_row": null,
            "grid_template_areas": null,
            "grid_template_columns": null,
            "grid_template_rows": null,
            "height": null,
            "justify_content": null,
            "justify_items": null,
            "left": null,
            "margin": null,
            "max_height": null,
            "max_width": null,
            "min_height": null,
            "min_width": null,
            "object_fit": null,
            "object_position": null,
            "order": null,
            "overflow": null,
            "overflow_x": null,
            "overflow_y": null,
            "padding": null,
            "right": null,
            "top": null,
            "visibility": null,
            "width": null
          }
        },
        "fa94d3f1eb494eb3b7976bff13e2b4b0": {
          "model_module": "@jupyter-widgets/base",
          "model_name": "LayoutModel",
          "model_module_version": "1.2.0",
          "state": {
            "_model_module": "@jupyter-widgets/base",
            "_model_module_version": "1.2.0",
            "_model_name": "LayoutModel",
            "_view_count": null,
            "_view_module": "@jupyter-widgets/base",
            "_view_module_version": "1.2.0",
            "_view_name": "LayoutView",
            "align_content": null,
            "align_items": null,
            "align_self": null,
            "border": null,
            "bottom": null,
            "display": null,
            "flex": null,
            "flex_flow": null,
            "grid_area": null,
            "grid_auto_columns": null,
            "grid_auto_flow": null,
            "grid_auto_rows": null,
            "grid_column": null,
            "grid_gap": null,
            "grid_row": null,
            "grid_template_areas": null,
            "grid_template_columns": null,
            "grid_template_rows": null,
            "height": null,
            "justify_content": null,
            "justify_items": null,
            "left": null,
            "margin": null,
            "max_height": null,
            "max_width": null,
            "min_height": null,
            "min_width": null,
            "object_fit": null,
            "object_position": null,
            "order": null,
            "overflow": null,
            "overflow_x": null,
            "overflow_y": null,
            "padding": null,
            "right": null,
            "top": null,
            "visibility": null,
            "width": null
          }
        },
        "0052999d839347b0b00bda9345033d32": {
          "model_module": "@jupyter-widgets/controls",
          "model_name": "DescriptionStyleModel",
          "model_module_version": "1.5.0",
          "state": {
            "_model_module": "@jupyter-widgets/controls",
            "_model_module_version": "1.5.0",
            "_model_name": "DescriptionStyleModel",
            "_view_count": null,
            "_view_module": "@jupyter-widgets/base",
            "_view_module_version": "1.2.0",
            "_view_name": "StyleView",
            "description_width": ""
          }
        },
        "101228c8fda346758a092a4821c4e499": {
          "model_module": "@jupyter-widgets/base",
          "model_name": "LayoutModel",
          "model_module_version": "1.2.0",
          "state": {
            "_model_module": "@jupyter-widgets/base",
            "_model_module_version": "1.2.0",
            "_model_name": "LayoutModel",
            "_view_count": null,
            "_view_module": "@jupyter-widgets/base",
            "_view_module_version": "1.2.0",
            "_view_name": "LayoutView",
            "align_content": null,
            "align_items": null,
            "align_self": null,
            "border": null,
            "bottom": null,
            "display": null,
            "flex": null,
            "flex_flow": null,
            "grid_area": null,
            "grid_auto_columns": null,
            "grid_auto_flow": null,
            "grid_auto_rows": null,
            "grid_column": null,
            "grid_gap": null,
            "grid_row": null,
            "grid_template_areas": null,
            "grid_template_columns": null,
            "grid_template_rows": null,
            "height": null,
            "justify_content": null,
            "justify_items": null,
            "left": null,
            "margin": null,
            "max_height": null,
            "max_width": null,
            "min_height": null,
            "min_width": null,
            "object_fit": null,
            "object_position": null,
            "order": null,
            "overflow": null,
            "overflow_x": null,
            "overflow_y": null,
            "padding": null,
            "right": null,
            "top": null,
            "visibility": null,
            "width": null
          }
        },
        "cc12814731324e268a5a4851fd74be95": {
          "model_module": "@jupyter-widgets/controls",
          "model_name": "ProgressStyleModel",
          "model_module_version": "1.5.0",
          "state": {
            "_model_module": "@jupyter-widgets/controls",
            "_model_module_version": "1.5.0",
            "_model_name": "ProgressStyleModel",
            "_view_count": null,
            "_view_module": "@jupyter-widgets/base",
            "_view_module_version": "1.2.0",
            "_view_name": "StyleView",
            "bar_color": null,
            "description_width": ""
          }
        },
        "542eb5da946840e8be9628a5f7a505dc": {
          "model_module": "@jupyter-widgets/base",
          "model_name": "LayoutModel",
          "model_module_version": "1.2.0",
          "state": {
            "_model_module": "@jupyter-widgets/base",
            "_model_module_version": "1.2.0",
            "_model_name": "LayoutModel",
            "_view_count": null,
            "_view_module": "@jupyter-widgets/base",
            "_view_module_version": "1.2.0",
            "_view_name": "LayoutView",
            "align_content": null,
            "align_items": null,
            "align_self": null,
            "border": null,
            "bottom": null,
            "display": null,
            "flex": null,
            "flex_flow": null,
            "grid_area": null,
            "grid_auto_columns": null,
            "grid_auto_flow": null,
            "grid_auto_rows": null,
            "grid_column": null,
            "grid_gap": null,
            "grid_row": null,
            "grid_template_areas": null,
            "grid_template_columns": null,
            "grid_template_rows": null,
            "height": null,
            "justify_content": null,
            "justify_items": null,
            "left": null,
            "margin": null,
            "max_height": null,
            "max_width": null,
            "min_height": null,
            "min_width": null,
            "object_fit": null,
            "object_position": null,
            "order": null,
            "overflow": null,
            "overflow_x": null,
            "overflow_y": null,
            "padding": null,
            "right": null,
            "top": null,
            "visibility": null,
            "width": null
          }
        },
        "023e4b85f9434f7d936fbaa6d8536f7e": {
          "model_module": "@jupyter-widgets/controls",
          "model_name": "DescriptionStyleModel",
          "model_module_version": "1.5.0",
          "state": {
            "_model_module": "@jupyter-widgets/controls",
            "_model_module_version": "1.5.0",
            "_model_name": "DescriptionStyleModel",
            "_view_count": null,
            "_view_module": "@jupyter-widgets/base",
            "_view_module_version": "1.2.0",
            "_view_name": "StyleView",
            "description_width": ""
          }
        },
        "671e45f7898a44b0bfeed5e13b2a177e": {
          "model_module": "@jupyter-widgets/controls",
          "model_name": "HBoxModel",
          "model_module_version": "1.5.0",
          "state": {
            "_dom_classes": [],
            "_model_module": "@jupyter-widgets/controls",
            "_model_module_version": "1.5.0",
            "_model_name": "HBoxModel",
            "_view_count": null,
            "_view_module": "@jupyter-widgets/controls",
            "_view_module_version": "1.5.0",
            "_view_name": "HBoxView",
            "box_style": "",
            "children": [
              "IPY_MODEL_9fb60a66ed594f73a0091b2c4d3c0c03",
              "IPY_MODEL_d3c79e0af5cd4474a5c1827daa94c809",
              "IPY_MODEL_037de5108feb4706b62193ddf89cedaf"
            ],
            "layout": "IPY_MODEL_cf35f440e35e47dba210b9f852dab452"
          }
        },
        "9fb60a66ed594f73a0091b2c4d3c0c03": {
          "model_module": "@jupyter-widgets/controls",
          "model_name": "HTMLModel",
          "model_module_version": "1.5.0",
          "state": {
            "_dom_classes": [],
            "_model_module": "@jupyter-widgets/controls",
            "_model_module_version": "1.5.0",
            "_model_name": "HTMLModel",
            "_view_count": null,
            "_view_module": "@jupyter-widgets/controls",
            "_view_module_version": "1.5.0",
            "_view_name": "HTMLView",
            "description": "",
            "description_tooltip": null,
            "layout": "IPY_MODEL_aaa636cf29194d7096dccc0ab526fb99",
            "placeholder": "​",
            "style": "IPY_MODEL_1b35c559bab146a99893f4a3bac688a6",
            "value": "vocab.txt: "
          }
        },
        "d3c79e0af5cd4474a5c1827daa94c809": {
          "model_module": "@jupyter-widgets/controls",
          "model_name": "FloatProgressModel",
          "model_module_version": "1.5.0",
          "state": {
            "_dom_classes": [],
            "_model_module": "@jupyter-widgets/controls",
            "_model_module_version": "1.5.0",
            "_model_name": "FloatProgressModel",
            "_view_count": null,
            "_view_module": "@jupyter-widgets/controls",
            "_view_module_version": "1.5.0",
            "_view_name": "ProgressView",
            "bar_style": "success",
            "description": "",
            "description_tooltip": null,
            "layout": "IPY_MODEL_e19eca00b6b84e678b12a53556be916d",
            "max": 1,
            "min": 0,
            "orientation": "horizontal",
            "style": "IPY_MODEL_58cc66f84cc44de3badcac52eaca067a",
            "value": 1
          }
        },
        "037de5108feb4706b62193ddf89cedaf": {
          "model_module": "@jupyter-widgets/controls",
          "model_name": "HTMLModel",
          "model_module_version": "1.5.0",
          "state": {
            "_dom_classes": [],
            "_model_module": "@jupyter-widgets/controls",
            "_model_module_version": "1.5.0",
            "_model_name": "HTMLModel",
            "_view_count": null,
            "_view_module": "@jupyter-widgets/controls",
            "_view_module_version": "1.5.0",
            "_view_name": "HTMLView",
            "description": "",
            "description_tooltip": null,
            "layout": "IPY_MODEL_504f008ab14947dea7f4adcc740e87bf",
            "placeholder": "​",
            "style": "IPY_MODEL_c0a6797c13f147e4ab34b79d62e6508b",
            "value": " 232k/? [00:00&lt;00:00, 7.04MB/s]"
          }
        },
        "cf35f440e35e47dba210b9f852dab452": {
          "model_module": "@jupyter-widgets/base",
          "model_name": "LayoutModel",
          "model_module_version": "1.2.0",
          "state": {
            "_model_module": "@jupyter-widgets/base",
            "_model_module_version": "1.2.0",
            "_model_name": "LayoutModel",
            "_view_count": null,
            "_view_module": "@jupyter-widgets/base",
            "_view_module_version": "1.2.0",
            "_view_name": "LayoutView",
            "align_content": null,
            "align_items": null,
            "align_self": null,
            "border": null,
            "bottom": null,
            "display": null,
            "flex": null,
            "flex_flow": null,
            "grid_area": null,
            "grid_auto_columns": null,
            "grid_auto_flow": null,
            "grid_auto_rows": null,
            "grid_column": null,
            "grid_gap": null,
            "grid_row": null,
            "grid_template_areas": null,
            "grid_template_columns": null,
            "grid_template_rows": null,
            "height": null,
            "justify_content": null,
            "justify_items": null,
            "left": null,
            "margin": null,
            "max_height": null,
            "max_width": null,
            "min_height": null,
            "min_width": null,
            "object_fit": null,
            "object_position": null,
            "order": null,
            "overflow": null,
            "overflow_x": null,
            "overflow_y": null,
            "padding": null,
            "right": null,
            "top": null,
            "visibility": null,
            "width": null
          }
        },
        "aaa636cf29194d7096dccc0ab526fb99": {
          "model_module": "@jupyter-widgets/base",
          "model_name": "LayoutModel",
          "model_module_version": "1.2.0",
          "state": {
            "_model_module": "@jupyter-widgets/base",
            "_model_module_version": "1.2.0",
            "_model_name": "LayoutModel",
            "_view_count": null,
            "_view_module": "@jupyter-widgets/base",
            "_view_module_version": "1.2.0",
            "_view_name": "LayoutView",
            "align_content": null,
            "align_items": null,
            "align_self": null,
            "border": null,
            "bottom": null,
            "display": null,
            "flex": null,
            "flex_flow": null,
            "grid_area": null,
            "grid_auto_columns": null,
            "grid_auto_flow": null,
            "grid_auto_rows": null,
            "grid_column": null,
            "grid_gap": null,
            "grid_row": null,
            "grid_template_areas": null,
            "grid_template_columns": null,
            "grid_template_rows": null,
            "height": null,
            "justify_content": null,
            "justify_items": null,
            "left": null,
            "margin": null,
            "max_height": null,
            "max_width": null,
            "min_height": null,
            "min_width": null,
            "object_fit": null,
            "object_position": null,
            "order": null,
            "overflow": null,
            "overflow_x": null,
            "overflow_y": null,
            "padding": null,
            "right": null,
            "top": null,
            "visibility": null,
            "width": null
          }
        },
        "1b35c559bab146a99893f4a3bac688a6": {
          "model_module": "@jupyter-widgets/controls",
          "model_name": "DescriptionStyleModel",
          "model_module_version": "1.5.0",
          "state": {
            "_model_module": "@jupyter-widgets/controls",
            "_model_module_version": "1.5.0",
            "_model_name": "DescriptionStyleModel",
            "_view_count": null,
            "_view_module": "@jupyter-widgets/base",
            "_view_module_version": "1.2.0",
            "_view_name": "StyleView",
            "description_width": ""
          }
        },
        "e19eca00b6b84e678b12a53556be916d": {
          "model_module": "@jupyter-widgets/base",
          "model_name": "LayoutModel",
          "model_module_version": "1.2.0",
          "state": {
            "_model_module": "@jupyter-widgets/base",
            "_model_module_version": "1.2.0",
            "_model_name": "LayoutModel",
            "_view_count": null,
            "_view_module": "@jupyter-widgets/base",
            "_view_module_version": "1.2.0",
            "_view_name": "LayoutView",
            "align_content": null,
            "align_items": null,
            "align_self": null,
            "border": null,
            "bottom": null,
            "display": null,
            "flex": null,
            "flex_flow": null,
            "grid_area": null,
            "grid_auto_columns": null,
            "grid_auto_flow": null,
            "grid_auto_rows": null,
            "grid_column": null,
            "grid_gap": null,
            "grid_row": null,
            "grid_template_areas": null,
            "grid_template_columns": null,
            "grid_template_rows": null,
            "height": null,
            "justify_content": null,
            "justify_items": null,
            "left": null,
            "margin": null,
            "max_height": null,
            "max_width": null,
            "min_height": null,
            "min_width": null,
            "object_fit": null,
            "object_position": null,
            "order": null,
            "overflow": null,
            "overflow_x": null,
            "overflow_y": null,
            "padding": null,
            "right": null,
            "top": null,
            "visibility": null,
            "width": "20px"
          }
        },
        "58cc66f84cc44de3badcac52eaca067a": {
          "model_module": "@jupyter-widgets/controls",
          "model_name": "ProgressStyleModel",
          "model_module_version": "1.5.0",
          "state": {
            "_model_module": "@jupyter-widgets/controls",
            "_model_module_version": "1.5.0",
            "_model_name": "ProgressStyleModel",
            "_view_count": null,
            "_view_module": "@jupyter-widgets/base",
            "_view_module_version": "1.2.0",
            "_view_name": "StyleView",
            "bar_color": null,
            "description_width": ""
          }
        },
        "504f008ab14947dea7f4adcc740e87bf": {
          "model_module": "@jupyter-widgets/base",
          "model_name": "LayoutModel",
          "model_module_version": "1.2.0",
          "state": {
            "_model_module": "@jupyter-widgets/base",
            "_model_module_version": "1.2.0",
            "_model_name": "LayoutModel",
            "_view_count": null,
            "_view_module": "@jupyter-widgets/base",
            "_view_module_version": "1.2.0",
            "_view_name": "LayoutView",
            "align_content": null,
            "align_items": null,
            "align_self": null,
            "border": null,
            "bottom": null,
            "display": null,
            "flex": null,
            "flex_flow": null,
            "grid_area": null,
            "grid_auto_columns": null,
            "grid_auto_flow": null,
            "grid_auto_rows": null,
            "grid_column": null,
            "grid_gap": null,
            "grid_row": null,
            "grid_template_areas": null,
            "grid_template_columns": null,
            "grid_template_rows": null,
            "height": null,
            "justify_content": null,
            "justify_items": null,
            "left": null,
            "margin": null,
            "max_height": null,
            "max_width": null,
            "min_height": null,
            "min_width": null,
            "object_fit": null,
            "object_position": null,
            "order": null,
            "overflow": null,
            "overflow_x": null,
            "overflow_y": null,
            "padding": null,
            "right": null,
            "top": null,
            "visibility": null,
            "width": null
          }
        },
        "c0a6797c13f147e4ab34b79d62e6508b": {
          "model_module": "@jupyter-widgets/controls",
          "model_name": "DescriptionStyleModel",
          "model_module_version": "1.5.0",
          "state": {
            "_model_module": "@jupyter-widgets/controls",
            "_model_module_version": "1.5.0",
            "_model_name": "DescriptionStyleModel",
            "_view_count": null,
            "_view_module": "@jupyter-widgets/base",
            "_view_module_version": "1.2.0",
            "_view_name": "StyleView",
            "description_width": ""
          }
        },
        "553c45a1abaf4bd7b4424adc04261ff0": {
          "model_module": "@jupyter-widgets/controls",
          "model_name": "HBoxModel",
          "model_module_version": "1.5.0",
          "state": {
            "_dom_classes": [],
            "_model_module": "@jupyter-widgets/controls",
            "_model_module_version": "1.5.0",
            "_model_name": "HBoxModel",
            "_view_count": null,
            "_view_module": "@jupyter-widgets/controls",
            "_view_module_version": "1.5.0",
            "_view_name": "HBoxView",
            "box_style": "",
            "children": [
              "IPY_MODEL_5a723bf1e623414491b4337815267ecf",
              "IPY_MODEL_24e06b11a5de43a1bd02355697efca0c",
              "IPY_MODEL_702aa5619abf459c8e917f61eb60bdff"
            ],
            "layout": "IPY_MODEL_fce3744fabfb4f27845d0462a2ca8370"
          }
        },
        "5a723bf1e623414491b4337815267ecf": {
          "model_module": "@jupyter-widgets/controls",
          "model_name": "HTMLModel",
          "model_module_version": "1.5.0",
          "state": {
            "_dom_classes": [],
            "_model_module": "@jupyter-widgets/controls",
            "_model_module_version": "1.5.0",
            "_model_name": "HTMLModel",
            "_view_count": null,
            "_view_module": "@jupyter-widgets/controls",
            "_view_module_version": "1.5.0",
            "_view_name": "HTMLView",
            "description": "",
            "description_tooltip": null,
            "layout": "IPY_MODEL_86c8de2a36f740ec95f4f8b047dec46c",
            "placeholder": "​",
            "style": "IPY_MODEL_2fe657a33bc44fc8b2324dcd82314150",
            "value": "tokenizer.json: "
          }
        },
        "24e06b11a5de43a1bd02355697efca0c": {
          "model_module": "@jupyter-widgets/controls",
          "model_name": "FloatProgressModel",
          "model_module_version": "1.5.0",
          "state": {
            "_dom_classes": [],
            "_model_module": "@jupyter-widgets/controls",
            "_model_module_version": "1.5.0",
            "_model_name": "FloatProgressModel",
            "_view_count": null,
            "_view_module": "@jupyter-widgets/controls",
            "_view_module_version": "1.5.0",
            "_view_name": "ProgressView",
            "bar_style": "success",
            "description": "",
            "description_tooltip": null,
            "layout": "IPY_MODEL_fa20bedeeb224d7483c2a5177b34fe90",
            "max": 1,
            "min": 0,
            "orientation": "horizontal",
            "style": "IPY_MODEL_ca29d05fed764846a8a2b36104cff158",
            "value": 1
          }
        },
        "702aa5619abf459c8e917f61eb60bdff": {
          "model_module": "@jupyter-widgets/controls",
          "model_name": "HTMLModel",
          "model_module_version": "1.5.0",
          "state": {
            "_dom_classes": [],
            "_model_module": "@jupyter-widgets/controls",
            "_model_module_version": "1.5.0",
            "_model_name": "HTMLModel",
            "_view_count": null,
            "_view_module": "@jupyter-widgets/controls",
            "_view_module_version": "1.5.0",
            "_view_name": "HTMLView",
            "description": "",
            "description_tooltip": null,
            "layout": "IPY_MODEL_55bb61de82514e7e9e3d6c52891eaba5",
            "placeholder": "​",
            "style": "IPY_MODEL_e5f2ccb139cb40d7a736e42119bec2c9",
            "value": " 466k/? [00:00&lt;00:00, 19.0MB/s]"
          }
        },
        "fce3744fabfb4f27845d0462a2ca8370": {
          "model_module": "@jupyter-widgets/base",
          "model_name": "LayoutModel",
          "model_module_version": "1.2.0",
          "state": {
            "_model_module": "@jupyter-widgets/base",
            "_model_module_version": "1.2.0",
            "_model_name": "LayoutModel",
            "_view_count": null,
            "_view_module": "@jupyter-widgets/base",
            "_view_module_version": "1.2.0",
            "_view_name": "LayoutView",
            "align_content": null,
            "align_items": null,
            "align_self": null,
            "border": null,
            "bottom": null,
            "display": null,
            "flex": null,
            "flex_flow": null,
            "grid_area": null,
            "grid_auto_columns": null,
            "grid_auto_flow": null,
            "grid_auto_rows": null,
            "grid_column": null,
            "grid_gap": null,
            "grid_row": null,
            "grid_template_areas": null,
            "grid_template_columns": null,
            "grid_template_rows": null,
            "height": null,
            "justify_content": null,
            "justify_items": null,
            "left": null,
            "margin": null,
            "max_height": null,
            "max_width": null,
            "min_height": null,
            "min_width": null,
            "object_fit": null,
            "object_position": null,
            "order": null,
            "overflow": null,
            "overflow_x": null,
            "overflow_y": null,
            "padding": null,
            "right": null,
            "top": null,
            "visibility": null,
            "width": null
          }
        },
        "86c8de2a36f740ec95f4f8b047dec46c": {
          "model_module": "@jupyter-widgets/base",
          "model_name": "LayoutModel",
          "model_module_version": "1.2.0",
          "state": {
            "_model_module": "@jupyter-widgets/base",
            "_model_module_version": "1.2.0",
            "_model_name": "LayoutModel",
            "_view_count": null,
            "_view_module": "@jupyter-widgets/base",
            "_view_module_version": "1.2.0",
            "_view_name": "LayoutView",
            "align_content": null,
            "align_items": null,
            "align_self": null,
            "border": null,
            "bottom": null,
            "display": null,
            "flex": null,
            "flex_flow": null,
            "grid_area": null,
            "grid_auto_columns": null,
            "grid_auto_flow": null,
            "grid_auto_rows": null,
            "grid_column": null,
            "grid_gap": null,
            "grid_row": null,
            "grid_template_areas": null,
            "grid_template_columns": null,
            "grid_template_rows": null,
            "height": null,
            "justify_content": null,
            "justify_items": null,
            "left": null,
            "margin": null,
            "max_height": null,
            "max_width": null,
            "min_height": null,
            "min_width": null,
            "object_fit": null,
            "object_position": null,
            "order": null,
            "overflow": null,
            "overflow_x": null,
            "overflow_y": null,
            "padding": null,
            "right": null,
            "top": null,
            "visibility": null,
            "width": null
          }
        },
        "2fe657a33bc44fc8b2324dcd82314150": {
          "model_module": "@jupyter-widgets/controls",
          "model_name": "DescriptionStyleModel",
          "model_module_version": "1.5.0",
          "state": {
            "_model_module": "@jupyter-widgets/controls",
            "_model_module_version": "1.5.0",
            "_model_name": "DescriptionStyleModel",
            "_view_count": null,
            "_view_module": "@jupyter-widgets/base",
            "_view_module_version": "1.2.0",
            "_view_name": "StyleView",
            "description_width": ""
          }
        },
        "fa20bedeeb224d7483c2a5177b34fe90": {
          "model_module": "@jupyter-widgets/base",
          "model_name": "LayoutModel",
          "model_module_version": "1.2.0",
          "state": {
            "_model_module": "@jupyter-widgets/base",
            "_model_module_version": "1.2.0",
            "_model_name": "LayoutModel",
            "_view_count": null,
            "_view_module": "@jupyter-widgets/base",
            "_view_module_version": "1.2.0",
            "_view_name": "LayoutView",
            "align_content": null,
            "align_items": null,
            "align_self": null,
            "border": null,
            "bottom": null,
            "display": null,
            "flex": null,
            "flex_flow": null,
            "grid_area": null,
            "grid_auto_columns": null,
            "grid_auto_flow": null,
            "grid_auto_rows": null,
            "grid_column": null,
            "grid_gap": null,
            "grid_row": null,
            "grid_template_areas": null,
            "grid_template_columns": null,
            "grid_template_rows": null,
            "height": null,
            "justify_content": null,
            "justify_items": null,
            "left": null,
            "margin": null,
            "max_height": null,
            "max_width": null,
            "min_height": null,
            "min_width": null,
            "object_fit": null,
            "object_position": null,
            "order": null,
            "overflow": null,
            "overflow_x": null,
            "overflow_y": null,
            "padding": null,
            "right": null,
            "top": null,
            "visibility": null,
            "width": "20px"
          }
        },
        "ca29d05fed764846a8a2b36104cff158": {
          "model_module": "@jupyter-widgets/controls",
          "model_name": "ProgressStyleModel",
          "model_module_version": "1.5.0",
          "state": {
            "_model_module": "@jupyter-widgets/controls",
            "_model_module_version": "1.5.0",
            "_model_name": "ProgressStyleModel",
            "_view_count": null,
            "_view_module": "@jupyter-widgets/base",
            "_view_module_version": "1.2.0",
            "_view_name": "StyleView",
            "bar_color": null,
            "description_width": ""
          }
        },
        "55bb61de82514e7e9e3d6c52891eaba5": {
          "model_module": "@jupyter-widgets/base",
          "model_name": "LayoutModel",
          "model_module_version": "1.2.0",
          "state": {
            "_model_module": "@jupyter-widgets/base",
            "_model_module_version": "1.2.0",
            "_model_name": "LayoutModel",
            "_view_count": null,
            "_view_module": "@jupyter-widgets/base",
            "_view_module_version": "1.2.0",
            "_view_name": "LayoutView",
            "align_content": null,
            "align_items": null,
            "align_self": null,
            "border": null,
            "bottom": null,
            "display": null,
            "flex": null,
            "flex_flow": null,
            "grid_area": null,
            "grid_auto_columns": null,
            "grid_auto_flow": null,
            "grid_auto_rows": null,
            "grid_column": null,
            "grid_gap": null,
            "grid_row": null,
            "grid_template_areas": null,
            "grid_template_columns": null,
            "grid_template_rows": null,
            "height": null,
            "justify_content": null,
            "justify_items": null,
            "left": null,
            "margin": null,
            "max_height": null,
            "max_width": null,
            "min_height": null,
            "min_width": null,
            "object_fit": null,
            "object_position": null,
            "order": null,
            "overflow": null,
            "overflow_x": null,
            "overflow_y": null,
            "padding": null,
            "right": null,
            "top": null,
            "visibility": null,
            "width": null
          }
        },
        "e5f2ccb139cb40d7a736e42119bec2c9": {
          "model_module": "@jupyter-widgets/controls",
          "model_name": "DescriptionStyleModel",
          "model_module_version": "1.5.0",
          "state": {
            "_model_module": "@jupyter-widgets/controls",
            "_model_module_version": "1.5.0",
            "_model_name": "DescriptionStyleModel",
            "_view_count": null,
            "_view_module": "@jupyter-widgets/base",
            "_view_module_version": "1.2.0",
            "_view_name": "StyleView",
            "description_width": ""
          }
        },
        "76d040bab72e4e09a109910da5e6d94e": {
          "model_module": "@jupyter-widgets/controls",
          "model_name": "HBoxModel",
          "model_module_version": "1.5.0",
          "state": {
            "_dom_classes": [],
            "_model_module": "@jupyter-widgets/controls",
            "_model_module_version": "1.5.0",
            "_model_name": "HBoxModel",
            "_view_count": null,
            "_view_module": "@jupyter-widgets/controls",
            "_view_module_version": "1.5.0",
            "_view_name": "HBoxView",
            "box_style": "",
            "children": [
              "IPY_MODEL_23b399947dea44f4b7eddf10057bbf47",
              "IPY_MODEL_8254e4bfcb454cb787278f0e59c6201f",
              "IPY_MODEL_422e45ec433f4fa0abb2625c5d8c8719"
            ],
            "layout": "IPY_MODEL_6400f8e6e31745548d377b5358f03c68"
          }
        },
        "23b399947dea44f4b7eddf10057bbf47": {
          "model_module": "@jupyter-widgets/controls",
          "model_name": "HTMLModel",
          "model_module_version": "1.5.0",
          "state": {
            "_dom_classes": [],
            "_model_module": "@jupyter-widgets/controls",
            "_model_module_version": "1.5.0",
            "_model_name": "HTMLModel",
            "_view_count": null,
            "_view_module": "@jupyter-widgets/controls",
            "_view_module_version": "1.5.0",
            "_view_name": "HTMLView",
            "description": "",
            "description_tooltip": null,
            "layout": "IPY_MODEL_472457f58a204805be0aa2b040984f03",
            "placeholder": "​",
            "style": "IPY_MODEL_bb252e7b505a400c89f1446d9f95829e",
            "value": "model.safetensors: 100%"
          }
        },
        "8254e4bfcb454cb787278f0e59c6201f": {
          "model_module": "@jupyter-widgets/controls",
          "model_name": "FloatProgressModel",
          "model_module_version": "1.5.0",
          "state": {
            "_dom_classes": [],
            "_model_module": "@jupyter-widgets/controls",
            "_model_module_version": "1.5.0",
            "_model_name": "FloatProgressModel",
            "_view_count": null,
            "_view_module": "@jupyter-widgets/controls",
            "_view_module_version": "1.5.0",
            "_view_name": "ProgressView",
            "bar_style": "success",
            "description": "",
            "description_tooltip": null,
            "layout": "IPY_MODEL_52c4e430b6a34525b664a0631a6d55ba",
            "max": 440449768,
            "min": 0,
            "orientation": "horizontal",
            "style": "IPY_MODEL_5f51035c31e3419eb21d7ddc6c43843f",
            "value": 440449768
          }
        },
        "422e45ec433f4fa0abb2625c5d8c8719": {
          "model_module": "@jupyter-widgets/controls",
          "model_name": "HTMLModel",
          "model_module_version": "1.5.0",
          "state": {
            "_dom_classes": [],
            "_model_module": "@jupyter-widgets/controls",
            "_model_module_version": "1.5.0",
            "_model_name": "HTMLModel",
            "_view_count": null,
            "_view_module": "@jupyter-widgets/controls",
            "_view_module_version": "1.5.0",
            "_view_name": "HTMLView",
            "description": "",
            "description_tooltip": null,
            "layout": "IPY_MODEL_54e7c17dbb704decba1b8407e47e4db4",
            "placeholder": "​",
            "style": "IPY_MODEL_caa6fb76e609485b9383d76f482dc2f6",
            "value": " 440M/440M [00:09&lt;00:00, 34.9MB/s]"
          }
        },
        "6400f8e6e31745548d377b5358f03c68": {
          "model_module": "@jupyter-widgets/base",
          "model_name": "LayoutModel",
          "model_module_version": "1.2.0",
          "state": {
            "_model_module": "@jupyter-widgets/base",
            "_model_module_version": "1.2.0",
            "_model_name": "LayoutModel",
            "_view_count": null,
            "_view_module": "@jupyter-widgets/base",
            "_view_module_version": "1.2.0",
            "_view_name": "LayoutView",
            "align_content": null,
            "align_items": null,
            "align_self": null,
            "border": null,
            "bottom": null,
            "display": null,
            "flex": null,
            "flex_flow": null,
            "grid_area": null,
            "grid_auto_columns": null,
            "grid_auto_flow": null,
            "grid_auto_rows": null,
            "grid_column": null,
            "grid_gap": null,
            "grid_row": null,
            "grid_template_areas": null,
            "grid_template_columns": null,
            "grid_template_rows": null,
            "height": null,
            "justify_content": null,
            "justify_items": null,
            "left": null,
            "margin": null,
            "max_height": null,
            "max_width": null,
            "min_height": null,
            "min_width": null,
            "object_fit": null,
            "object_position": null,
            "order": null,
            "overflow": null,
            "overflow_x": null,
            "overflow_y": null,
            "padding": null,
            "right": null,
            "top": null,
            "visibility": null,
            "width": null
          }
        },
        "472457f58a204805be0aa2b040984f03": {
          "model_module": "@jupyter-widgets/base",
          "model_name": "LayoutModel",
          "model_module_version": "1.2.0",
          "state": {
            "_model_module": "@jupyter-widgets/base",
            "_model_module_version": "1.2.0",
            "_model_name": "LayoutModel",
            "_view_count": null,
            "_view_module": "@jupyter-widgets/base",
            "_view_module_version": "1.2.0",
            "_view_name": "LayoutView",
            "align_content": null,
            "align_items": null,
            "align_self": null,
            "border": null,
            "bottom": null,
            "display": null,
            "flex": null,
            "flex_flow": null,
            "grid_area": null,
            "grid_auto_columns": null,
            "grid_auto_flow": null,
            "grid_auto_rows": null,
            "grid_column": null,
            "grid_gap": null,
            "grid_row": null,
            "grid_template_areas": null,
            "grid_template_columns": null,
            "grid_template_rows": null,
            "height": null,
            "justify_content": null,
            "justify_items": null,
            "left": null,
            "margin": null,
            "max_height": null,
            "max_width": null,
            "min_height": null,
            "min_width": null,
            "object_fit": null,
            "object_position": null,
            "order": null,
            "overflow": null,
            "overflow_x": null,
            "overflow_y": null,
            "padding": null,
            "right": null,
            "top": null,
            "visibility": null,
            "width": null
          }
        },
        "bb252e7b505a400c89f1446d9f95829e": {
          "model_module": "@jupyter-widgets/controls",
          "model_name": "DescriptionStyleModel",
          "model_module_version": "1.5.0",
          "state": {
            "_model_module": "@jupyter-widgets/controls",
            "_model_module_version": "1.5.0",
            "_model_name": "DescriptionStyleModel",
            "_view_count": null,
            "_view_module": "@jupyter-widgets/base",
            "_view_module_version": "1.2.0",
            "_view_name": "StyleView",
            "description_width": ""
          }
        },
        "52c4e430b6a34525b664a0631a6d55ba": {
          "model_module": "@jupyter-widgets/base",
          "model_name": "LayoutModel",
          "model_module_version": "1.2.0",
          "state": {
            "_model_module": "@jupyter-widgets/base",
            "_model_module_version": "1.2.0",
            "_model_name": "LayoutModel",
            "_view_count": null,
            "_view_module": "@jupyter-widgets/base",
            "_view_module_version": "1.2.0",
            "_view_name": "LayoutView",
            "align_content": null,
            "align_items": null,
            "align_self": null,
            "border": null,
            "bottom": null,
            "display": null,
            "flex": null,
            "flex_flow": null,
            "grid_area": null,
            "grid_auto_columns": null,
            "grid_auto_flow": null,
            "grid_auto_rows": null,
            "grid_column": null,
            "grid_gap": null,
            "grid_row": null,
            "grid_template_areas": null,
            "grid_template_columns": null,
            "grid_template_rows": null,
            "height": null,
            "justify_content": null,
            "justify_items": null,
            "left": null,
            "margin": null,
            "max_height": null,
            "max_width": null,
            "min_height": null,
            "min_width": null,
            "object_fit": null,
            "object_position": null,
            "order": null,
            "overflow": null,
            "overflow_x": null,
            "overflow_y": null,
            "padding": null,
            "right": null,
            "top": null,
            "visibility": null,
            "width": null
          }
        },
        "5f51035c31e3419eb21d7ddc6c43843f": {
          "model_module": "@jupyter-widgets/controls",
          "model_name": "ProgressStyleModel",
          "model_module_version": "1.5.0",
          "state": {
            "_model_module": "@jupyter-widgets/controls",
            "_model_module_version": "1.5.0",
            "_model_name": "ProgressStyleModel",
            "_view_count": null,
            "_view_module": "@jupyter-widgets/base",
            "_view_module_version": "1.2.0",
            "_view_name": "StyleView",
            "bar_color": null,
            "description_width": ""
          }
        },
        "54e7c17dbb704decba1b8407e47e4db4": {
          "model_module": "@jupyter-widgets/base",
          "model_name": "LayoutModel",
          "model_module_version": "1.2.0",
          "state": {
            "_model_module": "@jupyter-widgets/base",
            "_model_module_version": "1.2.0",
            "_model_name": "LayoutModel",
            "_view_count": null,
            "_view_module": "@jupyter-widgets/base",
            "_view_module_version": "1.2.0",
            "_view_name": "LayoutView",
            "align_content": null,
            "align_items": null,
            "align_self": null,
            "border": null,
            "bottom": null,
            "display": null,
            "flex": null,
            "flex_flow": null,
            "grid_area": null,
            "grid_auto_columns": null,
            "grid_auto_flow": null,
            "grid_auto_rows": null,
            "grid_column": null,
            "grid_gap": null,
            "grid_row": null,
            "grid_template_areas": null,
            "grid_template_columns": null,
            "grid_template_rows": null,
            "height": null,
            "justify_content": null,
            "justify_items": null,
            "left": null,
            "margin": null,
            "max_height": null,
            "max_width": null,
            "min_height": null,
            "min_width": null,
            "object_fit": null,
            "object_position": null,
            "order": null,
            "overflow": null,
            "overflow_x": null,
            "overflow_y": null,
            "padding": null,
            "right": null,
            "top": null,
            "visibility": null,
            "width": null
          }
        },
        "caa6fb76e609485b9383d76f482dc2f6": {
          "model_module": "@jupyter-widgets/controls",
          "model_name": "DescriptionStyleModel",
          "model_module_version": "1.5.0",
          "state": {
            "_model_module": "@jupyter-widgets/controls",
            "_model_module_version": "1.5.0",
            "_model_name": "DescriptionStyleModel",
            "_view_count": null,
            "_view_module": "@jupyter-widgets/base",
            "_view_module_version": "1.2.0",
            "_view_name": "StyleView",
            "description_width": ""
          }
        }
      }
    }
  },
  "cells": [
    {
      "cell_type": "markdown",
      "metadata": {
        "id": "view-in-github",
        "colab_type": "text"
      },
      "source": [
        "<a href=\"https://colab.research.google.com/github/Dellayfd/DSA4213_Fine-tune_BRRT/blob/main/Assignment3.ipynb\" target=\"_parent\"><img src=\"https://colab.research.google.com/assets/colab-badge.svg\" alt=\"Open In Colab\"/></a>"
      ]
    },
    {
      "cell_type": "code",
      "execution_count": 1,
      "metadata": {
        "collapsed": true,
        "id": "V9X0kB8NP2Mp"
      },
      "outputs": [],
      "source": [
        "#!pip install -U transformers peft optuna"
      ]
    },
    {
      "cell_type": "code",
      "source": [
        "!pip install optuna"
      ],
      "metadata": {
        "colab": {
          "base_uri": "https://localhost:8080/"
        },
        "collapsed": true,
        "id": "5-o6MtM2T6OE",
        "outputId": "aafcefac-7657-4b6b-f78e-75fb9ff56d19"
      },
      "execution_count": 3,
      "outputs": [
        {
          "output_type": "stream",
          "name": "stdout",
          "text": [
            "Collecting optuna\n",
            "  Downloading optuna-4.5.0-py3-none-any.whl.metadata (17 kB)\n",
            "Requirement already satisfied: alembic>=1.5.0 in /usr/local/lib/python3.12/dist-packages (from optuna) (1.16.5)\n",
            "Collecting colorlog (from optuna)\n",
            "  Downloading colorlog-6.10.1-py3-none-any.whl.metadata (11 kB)\n",
            "Requirement already satisfied: numpy in /usr/local/lib/python3.12/dist-packages (from optuna) (2.0.2)\n",
            "Requirement already satisfied: packaging>=20.0 in /usr/local/lib/python3.12/dist-packages (from optuna) (25.0)\n",
            "Requirement already satisfied: sqlalchemy>=1.4.2 in /usr/local/lib/python3.12/dist-packages (from optuna) (2.0.43)\n",
            "Requirement already satisfied: tqdm in /usr/local/lib/python3.12/dist-packages (from optuna) (4.67.1)\n",
            "Requirement already satisfied: PyYAML in /usr/local/lib/python3.12/dist-packages (from optuna) (6.0.3)\n",
            "Requirement already satisfied: Mako in /usr/local/lib/python3.12/dist-packages (from alembic>=1.5.0->optuna) (1.3.10)\n",
            "Requirement already satisfied: typing-extensions>=4.12 in /usr/local/lib/python3.12/dist-packages (from alembic>=1.5.0->optuna) (4.15.0)\n",
            "Requirement already satisfied: greenlet>=1 in /usr/local/lib/python3.12/dist-packages (from sqlalchemy>=1.4.2->optuna) (3.2.4)\n",
            "Requirement already satisfied: MarkupSafe>=0.9.2 in /usr/local/lib/python3.12/dist-packages (from Mako->alembic>=1.5.0->optuna) (3.0.3)\n",
            "Downloading optuna-4.5.0-py3-none-any.whl (400 kB)\n",
            "\u001b[2K   \u001b[90m━━━━━━━━━━━━━━━━━━━━━━━━━━━━━━━━━━━━━━━━\u001b[0m \u001b[32m400.9/400.9 kB\u001b[0m \u001b[31m16.7 MB/s\u001b[0m eta \u001b[36m0:00:00\u001b[0m\n",
            "\u001b[?25hDownloading colorlog-6.10.1-py3-none-any.whl (11 kB)\n",
            "Installing collected packages: colorlog, optuna\n",
            "Successfully installed colorlog-6.10.1 optuna-4.5.0\n"
          ]
        }
      ]
    },
    {
      "cell_type": "markdown",
      "source": [
        "# Preprocess Dataset"
      ],
      "metadata": {
        "id": "mJIutCYWP96I"
      }
    },
    {
      "cell_type": "code",
      "source": [
        "import torch\n",
        "from torch.utils.data import DataLoader, Dataset\n",
        "from torch.optim import AdamW\n",
        "import pandas as pd\n",
        "import numpy as np\n",
        "from datasets import load_dataset\n",
        "from sklearn.preprocessing import LabelEncoder\n",
        "from transformers import AutoTokenizer, AutoModelForSequenceClassification, TrainingArguments, Trainer\n",
        "from sklearn.metrics import accuracy_score, precision_score, recall_score, f1_score, confusion_matrix\n",
        "import optuna\n",
        "from torch import nn\n",
        "from torch.nn import CrossEntropyLoss\n",
        "from sklearn.utils.class_weight import compute_class_weight\n",
        "from peft import LoraConfig, get_peft_model, prepare_model_for_kbit_training\n",
        "from transformers import EarlyStoppingCallback\n",
        "import wandb\n",
        "from sklearn.metrics import accuracy_score, precision_recall_fscore_support"
      ],
      "metadata": {
        "id": "axiLYYlJP_Nq"
      },
      "execution_count": 4,
      "outputs": []
    },
    {
      "cell_type": "code",
      "source": [
        "import os\n",
        "def set_seed(seed=42):\n",
        "    np.random.seed(seed)\n",
        "    os.environ[\"PYTHONHASHSEED\"] = str(seed)\n",
        "    torch.manual_seed(seed)\n",
        "    torch.cuda.manual_seed(seed)\n",
        "    torch.cuda.manual_seed_all(seed)  # if you use multi-GPU\n",
        "\n",
        "    # For deterministic behavior in cuDNN\n",
        "    torch.backends.cudnn.deterministic = True\n",
        "    torch.backends.cudnn.benchmark = False\n",
        "    optuna.seed = seed\n",
        "\n",
        "set_seed(42)"
      ],
      "metadata": {
        "id": "CW2iCwPOTv8X"
      },
      "execution_count": 7,
      "outputs": []
    },
    {
      "cell_type": "code",
      "source": [
        "splits = {'train': 'data/1123/toxic-chat_annotation_train.csv', 'test': 'data/1123/toxic-chat_annotation_test.csv'}\n",
        "train= pd.read_csv(\"hf://datasets/lmsys/toxic-chat/\" + splits[\"train\"])\n",
        "test= pd.read_csv(\"hf://datasets/lmsys/toxic-chat/\" + splits[\"test\"])"
      ],
      "metadata": {
        "colab": {
          "base_uri": "https://localhost:8080/"
        },
        "id": "MnYrrUWmQAlN",
        "outputId": "8ac7588c-50ce-4d28-d1d1-2898b7bd2a31"
      },
      "execution_count": 8,
      "outputs": [
        {
          "output_type": "stream",
          "name": "stderr",
          "text": [
            "/usr/local/lib/python3.12/dist-packages/huggingface_hub/utils/_auth.py:94: UserWarning: \n",
            "The secret `HF_TOKEN` does not exist in your Colab secrets.\n",
            "To authenticate with the Hugging Face Hub, create a token in your settings tab (https://huggingface.co/settings/tokens), set it as secret in your Google Colab and restart your session.\n",
            "You will be able to reuse this secret in all of your notebooks.\n",
            "Please note that authentication is recommended but still optional to access public models or datasets.\n",
            "  warnings.warn(\n"
          ]
        }
      ]
    },
    {
      "cell_type": "code",
      "source": [
        "df=pd.concat([train,test]).reset_index(drop=True)"
      ],
      "metadata": {
        "id": "Nxu_vIctQDMW"
      },
      "execution_count": 9,
      "outputs": []
    },
    {
      "cell_type": "code",
      "source": [
        "train=df.sample(frac=0.8, random_state=42)\n",
        "validation=df.drop(train.index).sample(frac=0.5, random_state=42)\n",
        "test=df.drop(validation.index).drop(train.index)\n",
        "\n",
        "train=train.reset_index(drop=True)\n",
        "validation=validation.reset_index(drop=True)\n",
        "test=test.reset_index(drop=True)"
      ],
      "metadata": {
        "id": "jsm3iu_KQHgs"
      },
      "execution_count": 10,
      "outputs": []
    },
    {
      "cell_type": "markdown",
      "source": [
        "# Import Pre-trained BERT"
      ],
      "metadata": {
        "id": "cAyCuiCkQJeG"
      }
    },
    {
      "cell_type": "code",
      "source": [
        "tokenizer = AutoTokenizer.from_pretrained(\"google-bert/bert-base-uncased\")\n",
        "model = AutoModelForSequenceClassification.from_pretrained(\"google-bert/bert-base-uncased\")"
      ],
      "metadata": {
        "colab": {
          "base_uri": "https://localhost:8080/",
          "height": 233,
          "referenced_widgets": [
            "96e0f26dfb1f4eac884170c938794bb0",
            "7daac956767e41bfa82f9bdf184eeb30",
            "86b4a62144264157acf53a15d540624a",
            "a93a7c9e671e4c289969a76a19cebacc",
            "a828f9be15a04a86ab764bcd9628aa76",
            "916e59bd5e6941f3b84af3d711575c41",
            "c0f0fe6be4764ec58b5035296449de9e",
            "e1b290133bf0443bb642e81d31ceaae3",
            "f55218aa2bda4771a6c302c3cc30c7fa",
            "d41bd59437cb4ec78dd365e68287f70f",
            "3c26c9745fb44858b4ce97d013313dce",
            "cc34f87a09604924a046ac0ae23aa27c",
            "2bb22bc6d9f444ec8e505da54b0f7d04",
            "7211d0f5bf434a13bfe386ee2f90ccde",
            "5502cd891f1c4371b1b789fcdb5e4374",
            "82c8f399d76c44d3a609f73291b0a740",
            "fa94d3f1eb494eb3b7976bff13e2b4b0",
            "0052999d839347b0b00bda9345033d32",
            "101228c8fda346758a092a4821c4e499",
            "cc12814731324e268a5a4851fd74be95",
            "542eb5da946840e8be9628a5f7a505dc",
            "023e4b85f9434f7d936fbaa6d8536f7e",
            "671e45f7898a44b0bfeed5e13b2a177e",
            "9fb60a66ed594f73a0091b2c4d3c0c03",
            "d3c79e0af5cd4474a5c1827daa94c809",
            "037de5108feb4706b62193ddf89cedaf",
            "cf35f440e35e47dba210b9f852dab452",
            "aaa636cf29194d7096dccc0ab526fb99",
            "1b35c559bab146a99893f4a3bac688a6",
            "e19eca00b6b84e678b12a53556be916d",
            "58cc66f84cc44de3badcac52eaca067a",
            "504f008ab14947dea7f4adcc740e87bf",
            "c0a6797c13f147e4ab34b79d62e6508b",
            "553c45a1abaf4bd7b4424adc04261ff0",
            "5a723bf1e623414491b4337815267ecf",
            "24e06b11a5de43a1bd02355697efca0c",
            "702aa5619abf459c8e917f61eb60bdff",
            "fce3744fabfb4f27845d0462a2ca8370",
            "86c8de2a36f740ec95f4f8b047dec46c",
            "2fe657a33bc44fc8b2324dcd82314150",
            "fa20bedeeb224d7483c2a5177b34fe90",
            "ca29d05fed764846a8a2b36104cff158",
            "55bb61de82514e7e9e3d6c52891eaba5",
            "e5f2ccb139cb40d7a736e42119bec2c9",
            "76d040bab72e4e09a109910da5e6d94e",
            "23b399947dea44f4b7eddf10057bbf47",
            "8254e4bfcb454cb787278f0e59c6201f",
            "422e45ec433f4fa0abb2625c5d8c8719",
            "6400f8e6e31745548d377b5358f03c68",
            "472457f58a204805be0aa2b040984f03",
            "bb252e7b505a400c89f1446d9f95829e",
            "52c4e430b6a34525b664a0631a6d55ba",
            "5f51035c31e3419eb21d7ddc6c43843f",
            "54e7c17dbb704decba1b8407e47e4db4",
            "caa6fb76e609485b9383d76f482dc2f6"
          ]
        },
        "id": "ov1E2T7jUQtc",
        "outputId": "4c9fd615-efb9-4637-a9e6-b2edb98bad53"
      },
      "execution_count": 12,
      "outputs": [
        {
          "output_type": "display_data",
          "data": {
            "text/plain": [
              "tokenizer_config.json:   0%|          | 0.00/48.0 [00:00<?, ?B/s]"
            ],
            "application/vnd.jupyter.widget-view+json": {
              "version_major": 2,
              "version_minor": 0,
              "model_id": "96e0f26dfb1f4eac884170c938794bb0"
            }
          },
          "metadata": {}
        },
        {
          "output_type": "display_data",
          "data": {
            "text/plain": [
              "config.json:   0%|          | 0.00/570 [00:00<?, ?B/s]"
            ],
            "application/vnd.jupyter.widget-view+json": {
              "version_major": 2,
              "version_minor": 0,
              "model_id": "cc34f87a09604924a046ac0ae23aa27c"
            }
          },
          "metadata": {}
        },
        {
          "output_type": "display_data",
          "data": {
            "text/plain": [
              "vocab.txt: 0.00B [00:00, ?B/s]"
            ],
            "application/vnd.jupyter.widget-view+json": {
              "version_major": 2,
              "version_minor": 0,
              "model_id": "671e45f7898a44b0bfeed5e13b2a177e"
            }
          },
          "metadata": {}
        },
        {
          "output_type": "display_data",
          "data": {
            "text/plain": [
              "tokenizer.json: 0.00B [00:00, ?B/s]"
            ],
            "application/vnd.jupyter.widget-view+json": {
              "version_major": 2,
              "version_minor": 0,
              "model_id": "553c45a1abaf4bd7b4424adc04261ff0"
            }
          },
          "metadata": {}
        },
        {
          "output_type": "display_data",
          "data": {
            "text/plain": [
              "model.safetensors:   0%|          | 0.00/440M [00:00<?, ?B/s]"
            ],
            "application/vnd.jupyter.widget-view+json": {
              "version_major": 2,
              "version_minor": 0,
              "model_id": "76d040bab72e4e09a109910da5e6d94e"
            }
          },
          "metadata": {}
        },
        {
          "output_type": "stream",
          "name": "stderr",
          "text": [
            "Some weights of BertForSequenceClassification were not initialized from the model checkpoint at google-bert/bert-base-uncased and are newly initialized: ['classifier.bias', 'classifier.weight']\n",
            "You should probably TRAIN this model on a down-stream task to be able to use it for predictions and inference.\n"
          ]
        }
      ]
    },
    {
      "cell_type": "code",
      "source": [
        "class ClassificationDataset(Dataset):\n",
        "    def __init__(self, texts, labels, tokenizer, max_len):\n",
        "        self.texts = texts\n",
        "        self.labels = labels\n",
        "        self.tokenizer = tokenizer\n",
        "        self.max_len = max_len\n",
        "\n",
        "    def __len__(self):\n",
        "        return len(self.texts)\n",
        "\n",
        "    def __getitem__(self, idx):\n",
        "        text = self.texts[idx]\n",
        "        label = self.labels[idx]\n",
        "        encoding = self.tokenizer(\n",
        "            text,\n",
        "            add_special_tokens=True,\n",
        "            max_length=self.max_len,\n",
        "            padding=\"max_length\",\n",
        "            truncation=True,\n",
        "            return_tensors=\"pt\",\n",
        "        )\n",
        "        return {\n",
        "            \"input_ids\": encoding[\"input_ids\"].squeeze(0),\n",
        "            \"attention_mask\": encoding[\"attention_mask\"].squeeze(0),\n",
        "            \"label\": torch.tensor(label, dtype=torch.long),\n",
        "        }\n",
        "\n",
        "# Define dataset\n",
        "max_len = 128\n",
        "train_dataset = ClassificationDataset(train['user_input'], train['toxicity'], tokenizer, max_len)\n",
        "val_dataset = ClassificationDataset(validation['user_input'], validation['toxicity'], tokenizer, max_len)\n",
        "test_dataset = ClassificationDataset(test['user_input'], test['toxicity'], tokenizer, max_len)"
      ],
      "metadata": {
        "id": "tzIR-pVxQJR5"
      },
      "execution_count": 13,
      "outputs": []
    },
    {
      "cell_type": "code",
      "source": [
        "device=torch.device('cuda' if torch.cuda.is_available() else 'cpu')\n",
        "model.to(device)"
      ],
      "metadata": {
        "colab": {
          "base_uri": "https://localhost:8080/"
        },
        "collapsed": true,
        "id": "j9vOQasrU1F1",
        "outputId": "89289f0c-1e81-49c8-fcbc-116a9eaccdb1"
      },
      "execution_count": 17,
      "outputs": [
        {
          "output_type": "execute_result",
          "data": {
            "text/plain": [
              "BertForSequenceClassification(\n",
              "  (bert): BertModel(\n",
              "    (embeddings): BertEmbeddings(\n",
              "      (word_embeddings): Embedding(30522, 768, padding_idx=0)\n",
              "      (position_embeddings): Embedding(512, 768)\n",
              "      (token_type_embeddings): Embedding(2, 768)\n",
              "      (LayerNorm): LayerNorm((768,), eps=1e-12, elementwise_affine=True)\n",
              "      (dropout): Dropout(p=0.1, inplace=False)\n",
              "    )\n",
              "    (encoder): BertEncoder(\n",
              "      (layer): ModuleList(\n",
              "        (0-11): 12 x BertLayer(\n",
              "          (attention): BertAttention(\n",
              "            (self): BertSdpaSelfAttention(\n",
              "              (query): Linear(in_features=768, out_features=768, bias=True)\n",
              "              (key): Linear(in_features=768, out_features=768, bias=True)\n",
              "              (value): Linear(in_features=768, out_features=768, bias=True)\n",
              "              (dropout): Dropout(p=0.1, inplace=False)\n",
              "            )\n",
              "            (output): BertSelfOutput(\n",
              "              (dense): Linear(in_features=768, out_features=768, bias=True)\n",
              "              (LayerNorm): LayerNorm((768,), eps=1e-12, elementwise_affine=True)\n",
              "              (dropout): Dropout(p=0.1, inplace=False)\n",
              "            )\n",
              "          )\n",
              "          (intermediate): BertIntermediate(\n",
              "            (dense): Linear(in_features=768, out_features=3072, bias=True)\n",
              "            (intermediate_act_fn): GELUActivation()\n",
              "          )\n",
              "          (output): BertOutput(\n",
              "            (dense): Linear(in_features=3072, out_features=768, bias=True)\n",
              "            (LayerNorm): LayerNorm((768,), eps=1e-12, elementwise_affine=True)\n",
              "            (dropout): Dropout(p=0.1, inplace=False)\n",
              "          )\n",
              "        )\n",
              "      )\n",
              "    )\n",
              "    (pooler): BertPooler(\n",
              "      (dense): Linear(in_features=768, out_features=768, bias=True)\n",
              "      (activation): Tanh()\n",
              "    )\n",
              "  )\n",
              "  (dropout): Dropout(p=0.1, inplace=False)\n",
              "  (classifier): Linear(in_features=768, out_features=2, bias=True)\n",
              ")"
            ]
          },
          "metadata": {},
          "execution_count": 17
        }
      ]
    },
    {
      "cell_type": "code",
      "source": [
        "test_loader = DataLoader(test_dataset, batch_size=16, shuffle=False)\n",
        "model.eval()\n",
        "predictions = []\n",
        "true_labels = []\n",
        "\n",
        "with torch.no_grad():\n",
        "    for batch in test_loader:\n",
        "        input_ids = batch['input_ids'].to(device)\n",
        "        attention_mask = batch['attention_mask'].to(device)\n",
        "        labels = batch['label'].to(device)\n",
        "\n",
        "        outputs = model(input_ids=input_ids, attention_mask=attention_mask)\n",
        "        logits = outputs.logits\n",
        "        preds = torch.argmax(logits, dim=1)\n",
        "\n",
        "        predictions.extend(preds.cpu().numpy())\n",
        "        true_labels.extend(labels.cpu().numpy())\n",
        "\n",
        "accuracy = accuracy_score(true_labels, predictions)\n",
        "precision = precision_score(true_labels, predictions, average='weighted', zero_division=0)\n",
        "recall = recall_score(true_labels, predictions, average='weighted', zero_division=0)\n",
        "f1 = f1_score(true_labels, predictions, average='weighted', zero_division=0)\n",
        "conf_matrix = confusion_matrix(true_labels, predictions)\n",
        "\n",
        "print(\"Model Performance on Test Set Before Training:\")\n",
        "print(f\"Accuracy: {accuracy:.4f}\")\n",
        "print(f\"Precision: {precision:.4f}\")\n",
        "print(f\"Recall: {recall:.4f}\")\n",
        "print(f\"F1 Score: {f1:.4f}\")\n",
        "print(\"Confusion Matrix:\")\n",
        "print(conf_matrix)"
      ],
      "metadata": {
        "colab": {
          "base_uri": "https://localhost:8080/"
        },
        "id": "WVNZ41suQOJ3",
        "outputId": "13112b9c-2e42-40de-d7aa-ec55e15d3a8a"
      },
      "execution_count": 18,
      "outputs": [
        {
          "output_type": "stream",
          "name": "stdout",
          "text": [
            "Model Performance on Test Set Before Training:\n",
            "Accuracy: 0.1396\n",
            "Precision: 0.8423\n",
            "Recall: 0.1396\n",
            "F1 Score: 0.1453\n",
            "Confusion Matrix:\n",
            "[[ 75 867]\n",
            " [  8  67]]\n"
          ]
        }
      ]
    },
    {
      "cell_type": "markdown",
      "source": [
        "## Balance classes"
      ],
      "metadata": {
        "id": "CCAs2wLzUeia"
      }
    },
    {
      "cell_type": "code",
      "source": [
        "# lables in each class"
      ],
      "metadata": {
        "id": "ciP29VCjeD61"
      },
      "execution_count": null,
      "outputs": []
    },
    {
      "cell_type": "code",
      "source": [
        "labels = train[\"toxicity\"].values\n",
        "class_weights = compute_class_weight(\n",
        "    class_weight=\"balanced\",\n",
        "    classes=np.unique(labels),\n",
        "    y=labels\n",
        ")\n",
        "class_weights = torch.tensor(class_weights, dtype=torch.float)\n",
        "print(\"Class weights:\", class_weights)"
      ],
      "metadata": {
        "colab": {
          "base_uri": "https://localhost:8080/"
        },
        "id": "ew0nO2BkQQqg",
        "outputId": "3bc0eebe-413a-40eb-a679-c050cc6c24b1"
      },
      "execution_count": 19,
      "outputs": [
        {
          "output_type": "stream",
          "name": "stdout",
          "text": [
            "Class weights: tensor([0.5396, 6.8107])\n"
          ]
        }
      ]
    },
    {
      "cell_type": "code",
      "source": [
        "def compute_loss(model, inputs, return_outputs=False):\n",
        "    labels = inputs.pop(\"labels\")\n",
        "    outputs = model(**inputs)\n",
        "    logits = outputs.logits\n",
        "    loss_fct = nn.CrossEntropyLoss(weight=class_weights.to(device))\n",
        "    loss = loss_fct(logits.view(-1, 2), labels.view(-1))\n",
        "    return (loss, outputs) if return_outputs else loss"
      ],
      "metadata": {
        "id": "FfzqcQcUQR46"
      },
      "execution_count": 20,
      "outputs": []
    },
    {
      "cell_type": "code",
      "source": [
        "class WeightedTrainer(Trainer):\n",
        "    def __init__(self, class_weights=None, *args, **kwargs):\n",
        "        super().__init__(*args, **kwargs)\n",
        "        self.class_weights = class_weights\n",
        "\n",
        "    def compute_loss(self, model, inputs, return_outputs=False, **kwargs):  # <— add **kwargs\n",
        "        labels = inputs.get(\"labels\")\n",
        "        outputs = model(**inputs)\n",
        "        logits = outputs.get(\"logits\")\n",
        "\n",
        "        # Weighted cross-entropy loss\n",
        "        if self.class_weights is not None:\n",
        "            loss_fct = nn.CrossEntropyLoss(weight=self.class_weights.to(model.device))\n",
        "        else:\n",
        "            loss_fct = nn.CrossEntropyLoss()\n",
        "\n",
        "        loss = loss_fct(logits.view(-1, self.model.config.num_labels), labels.view(-1))\n",
        "        return (loss, outputs) if return_outputs else loss\n"
      ],
      "metadata": {
        "id": "a0ISJgwbQTCW"
      },
      "execution_count": 21,
      "outputs": []
    },
    {
      "cell_type": "code",
      "source": [
        "\n",
        "def compute_metrics(pred):\n",
        "    labels = pred.label_ids\n",
        "    preds = pred.predictions.argmax(-1)\n",
        "    precision, recall, f1, _ = precision_recall_fscore_support(labels, preds, average=\"binary\")\n",
        "    acc = accuracy_score(labels, preds)\n",
        "    return {\"accuracy\": acc, \"f1\": f1, \"precision\": precision, \"recall\": recall}"
      ],
      "metadata": {
        "id": "KyuqTsRkQUXR"
      },
      "execution_count": 22,
      "outputs": []
    },
    {
      "cell_type": "code",
      "source": [
        "early_stopping = EarlyStoppingCallback(\n",
        "    early_stopping_patience=2,        # Stop if F1 hasn't improved for 2 evaluation rounds\n",
        "    early_stopping_threshold=0.01      # Optional: minimum improvement required (0 = any improvement)\n",
        ")\n"
      ],
      "metadata": {
        "id": "5MGDOt7oQVlC"
      },
      "execution_count": 23,
      "outputs": []
    },
    {
      "cell_type": "markdown",
      "source": [
        "# LoRA"
      ],
      "metadata": {
        "id": "iBlbjyX3QWUD"
      }
    },
    {
      "cell_type": "code",
      "source": [
        "def model_init_lora(trial):\n",
        "    model = AutoModelForSequenceClassification.from_pretrained(\"google-bert/bert-base-uncased\", num_labels=2)\n",
        "\n",
        "    lora_config = LoraConfig(\n",
        "        r=8,\n",
        "        lora_alpha=16,\n",
        "        target_modules=[\"query\", \"value\"],\n",
        "        lora_dropout=0.05,\n",
        "        bias=\"none\",\n",
        "        task_type=\"SEQ_CLS\",\n",
        "    )\n",
        "    model = get_peft_model(model, lora_config)\n",
        "    return model\n"
      ],
      "metadata": {
        "id": "kjmjqLlVV2tz"
      },
      "execution_count": 26,
      "outputs": []
    },
    {
      "cell_type": "code",
      "source": [
        "def lora_objective(trial):\n",
        "    wandb.init(\n",
        "        project=\"bert-lora-optuna\",\n",
        "        name=f\"trial_{trial.number}\",\n",
        "        reinit=True\n",
        "    )\n",
        "\n",
        "    # Sample hyperparameters\n",
        "    lora_r = trial.suggest_categorical(\"lora_r\", [8, 16])\n",
        "    lora_alpha = trial.suggest_categorical(\"lora_alpha\", [32, 64])\n",
        "    lora_dropout = trial.suggest_categorical(\"lora_dropout\",[0.0, 0.1])\n",
        "    learning_rate = trial.suggest_categorical(\"learning_rate\", [1e-5,3e-5, 5e-5] )\n",
        "    warmup_ratio = trial.suggest_categorical(\"warmup_ratio\", [0.0, 0.1])\n",
        "    batch_size = trial.suggest_categorical(\"batch_size\", [16, 32])\n",
        "\n",
        "    # Reinitialize base model every trial\n",
        "    model = AutoModelForSequenceClassification.from_pretrained(\"google-bert/bert-base-uncased\", num_labels=2)\n",
        "\n",
        "    # Apply LoRA config\n",
        "    lora_config = LoraConfig(\n",
        "        r=lora_r,\n",
        "        lora_alpha=lora_alpha,\n",
        "        lora_dropout=lora_dropout,\n",
        "        target_modules=[\"query\", \"value\"],\n",
        "        task_type=\"SEQ_CLS\"\n",
        "    )\n",
        "    model = get_peft_model(model, lora_config)\n",
        "\n",
        "    # Build training args\n",
        "    training_args = TrainingArguments(\n",
        "        output_dir=f\"./results/trial_{trial.number}\",\n",
        "        learning_rate=learning_rate,\n",
        "        per_device_train_batch_size=batch_size,\n",
        "        per_device_eval_batch_size=batch_size,\n",
        "        num_train_epochs=8,\n",
        "        eval_strategy=\"epoch\",\n",
        "        save_strategy=\"epoch\",\n",
        "        load_best_model_at_end=True,\n",
        "        metric_for_best_model=\"f1\",\n",
        "        greater_is_better=True,\n",
        "        warmup_ratio=warmup_ratio,\n",
        "        logging_dir=f\"./logs/trial_{trial.number}\",\n",
        "        report_to=[\"wandb\"],\n",
        "        run_name=f\"trial_{trial.number}\",\n",
        "        logging_steps=50,\n",
        "        save_total_limit=2,\n",
        "        seed=trial.number\n",
        "    )\n",
        "\n",
        "    trainer = WeightedTrainer(\n",
        "        model_init=lambda trial: model_init_lora(trial),\n",
        "        args=training_args,\n",
        "        train_dataset=train_dataset,\n",
        "        eval_dataset=val_dataset,\n",
        "        tokenizer=tokenizer,\n",
        "        compute_metrics=compute_metrics,\n",
        "        callbacks=[early_stopping],\n",
        "        class_weights=class_weights\n",
        "    )\n",
        "\n",
        "    trainer.train()\n",
        "    metrics = trainer.evaluate()\n",
        "    return metrics[\"eval_f1\"]\n"
      ],
      "metadata": {
        "id": "qXFqb9yHQYM-"
      },
      "execution_count": 27,
      "outputs": []
    },
    {
      "cell_type": "code",
      "source": [
        "lora_study = optuna.create_study(direction=\"maximize\")\n",
        "lora_study.optimize(lora_objective, n_trials=8)\n",
        "\n",
        "print(\"Best trial:\")\n",
        "print(lora_study.best_trial.params)"
      ],
      "metadata": {
        "colab": {
          "base_uri": "https://localhost:8080/",
          "height": 1000
        },
        "id": "yLmJgpD9RAzZ",
        "outputId": "72a0fd75-d279-466c-dc3a-5967475f6319"
      },
      "execution_count": 28,
      "outputs": [
        {
          "output_type": "stream",
          "name": "stderr",
          "text": [
            "[I 2025-10-17 08:44:55,633] A new study created in memory with name: no-name-d73ed7b5-96c3-41d1-b873-93c493f38444\n"
          ]
        },
        {
          "output_type": "display_data",
          "data": {
            "text/plain": [
              "<IPython.core.display.HTML object>"
            ],
            "text/html": [
              "Finishing previous runs because reinit is set to True."
            ]
          },
          "metadata": {}
        },
        {
          "output_type": "display_data",
          "data": {
            "text/plain": [
              "<IPython.core.display.HTML object>"
            ],
            "text/html": []
          },
          "metadata": {}
        },
        {
          "output_type": "display_data",
          "data": {
            "text/plain": [
              "<IPython.core.display.HTML object>"
            ],
            "text/html": [
              " View run <strong style=\"color:#cdcd00\">trial_0</strong> at: <a href='https://wandb.ai/cassieyfd-/bert-lora-optuna/runs/ssgtfq42' target=\"_blank\">https://wandb.ai/cassieyfd-/bert-lora-optuna/runs/ssgtfq42</a><br> View project at: <a href='https://wandb.ai/cassieyfd-/bert-lora-optuna' target=\"_blank\">https://wandb.ai/cassieyfd-/bert-lora-optuna</a><br>Synced 5 W&B file(s), 0 media file(s), 0 artifact file(s) and 0 other file(s)"
            ]
          },
          "metadata": {}
        },
        {
          "output_type": "display_data",
          "data": {
            "text/plain": [
              "<IPython.core.display.HTML object>"
            ],
            "text/html": [
              "Find logs at: <code>./wandb/run-20251017_084220-ssgtfq42/logs</code>"
            ]
          },
          "metadata": {}
        },
        {
          "output_type": "display_data",
          "data": {
            "text/plain": [
              "<IPython.core.display.HTML object>"
            ],
            "text/html": []
          },
          "metadata": {}
        },
        {
          "output_type": "display_data",
          "data": {
            "text/plain": [
              "<IPython.core.display.HTML object>"
            ],
            "text/html": [
              "Tracking run with wandb version 0.22.2"
            ]
          },
          "metadata": {}
        },
        {
          "output_type": "display_data",
          "data": {
            "text/plain": [
              "<IPython.core.display.HTML object>"
            ],
            "text/html": [
              "Run data is saved locally in <code>/content/wandb/run-20251017_084455-eejwzwi8</code>"
            ]
          },
          "metadata": {}
        },
        {
          "output_type": "display_data",
          "data": {
            "text/plain": [
              "<IPython.core.display.HTML object>"
            ],
            "text/html": [
              "Syncing run <strong><a href='https://wandb.ai/cassieyfd-/bert-lora-optuna/runs/eejwzwi8' target=\"_blank\">trial_0</a></strong> to <a href='https://wandb.ai/cassieyfd-/bert-lora-optuna' target=\"_blank\">Weights & Biases</a> (<a href='https://wandb.me/developer-guide' target=\"_blank\">docs</a>)<br>"
            ]
          },
          "metadata": {}
        },
        {
          "output_type": "display_data",
          "data": {
            "text/plain": [
              "<IPython.core.display.HTML object>"
            ],
            "text/html": [
              " View project at <a href='https://wandb.ai/cassieyfd-/bert-lora-optuna' target=\"_blank\">https://wandb.ai/cassieyfd-/bert-lora-optuna</a>"
            ]
          },
          "metadata": {}
        },
        {
          "output_type": "display_data",
          "data": {
            "text/plain": [
              "<IPython.core.display.HTML object>"
            ],
            "text/html": [
              " View run at <a href='https://wandb.ai/cassieyfd-/bert-lora-optuna/runs/eejwzwi8' target=\"_blank\">https://wandb.ai/cassieyfd-/bert-lora-optuna/runs/eejwzwi8</a>"
            ]
          },
          "metadata": {}
        },
        {
          "output_type": "stream",
          "name": "stderr",
          "text": [
            "Some weights of BertForSequenceClassification were not initialized from the model checkpoint at google-bert/bert-base-uncased and are newly initialized: ['classifier.bias', 'classifier.weight']\n",
            "You should probably TRAIN this model on a down-stream task to be able to use it for predictions and inference.\n",
            "/tmp/ipython-input-2755200925.py:3: FutureWarning: `tokenizer` is deprecated and will be removed in version 5.0.0 for `WeightedTrainer.__init__`. Use `processing_class` instead.\n",
            "  super().__init__(*args, **kwargs)\n",
            "Some weights of BertForSequenceClassification were not initialized from the model checkpoint at google-bert/bert-base-uncased and are newly initialized: ['classifier.bias', 'classifier.weight']\n",
            "You should probably TRAIN this model on a down-stream task to be able to use it for predictions and inference.\n",
            "Some weights of BertForSequenceClassification were not initialized from the model checkpoint at google-bert/bert-base-uncased and are newly initialized: ['classifier.bias', 'classifier.weight']\n",
            "You should probably TRAIN this model on a down-stream task to be able to use it for predictions and inference.\n"
          ]
        },
        {
          "output_type": "display_data",
          "data": {
            "text/plain": [
              "<IPython.core.display.HTML object>"
            ],
            "text/html": [
              "\n",
              "    <div>\n",
              "      \n",
              "      <progress value='1785' max='2040' style='width:300px; height:20px; vertical-align: middle;'></progress>\n",
              "      [1785/2040 14:23 < 02:03, 2.06 it/s, Epoch 7/8]\n",
              "    </div>\n",
              "    <table border=\"1\" class=\"dataframe\">\n",
              "  <thead>\n",
              " <tr style=\"text-align: left;\">\n",
              "      <th>Epoch</th>\n",
              "      <th>Training Loss</th>\n",
              "      <th>Validation Loss</th>\n",
              "      <th>Accuracy</th>\n",
              "      <th>F1</th>\n",
              "      <th>Precision</th>\n",
              "      <th>Recall</th>\n",
              "    </tr>\n",
              "  </thead>\n",
              "  <tbody>\n",
              "    <tr>\n",
              "      <td>1</td>\n",
              "      <td>0.527500</td>\n",
              "      <td>0.467153</td>\n",
              "      <td>0.886811</td>\n",
              "      <td>0.371585</td>\n",
              "      <td>0.272000</td>\n",
              "      <td>0.586207</td>\n",
              "    </tr>\n",
              "    <tr>\n",
              "      <td>2</td>\n",
              "      <td>0.410100</td>\n",
              "      <td>0.344169</td>\n",
              "      <td>0.910433</td>\n",
              "      <td>0.480000</td>\n",
              "      <td>0.358974</td>\n",
              "      <td>0.724138</td>\n",
              "    </tr>\n",
              "    <tr>\n",
              "      <td>3</td>\n",
              "      <td>0.360800</td>\n",
              "      <td>0.285112</td>\n",
              "      <td>0.911417</td>\n",
              "      <td>0.516129</td>\n",
              "      <td>0.375000</td>\n",
              "      <td>0.827586</td>\n",
              "    </tr>\n",
              "    <tr>\n",
              "      <td>4</td>\n",
              "      <td>0.417200</td>\n",
              "      <td>0.251857</td>\n",
              "      <td>0.931102</td>\n",
              "      <td>0.573171</td>\n",
              "      <td>0.443396</td>\n",
              "      <td>0.810345</td>\n",
              "    </tr>\n",
              "    <tr>\n",
              "      <td>5</td>\n",
              "      <td>0.385600</td>\n",
              "      <td>0.242721</td>\n",
              "      <td>0.949803</td>\n",
              "      <td>0.643357</td>\n",
              "      <td>0.541176</td>\n",
              "      <td>0.793103</td>\n",
              "    </tr>\n",
              "    <tr>\n",
              "      <td>6</td>\n",
              "      <td>0.406300</td>\n",
              "      <td>0.230174</td>\n",
              "      <td>0.935039</td>\n",
              "      <td>0.592593</td>\n",
              "      <td>0.461538</td>\n",
              "      <td>0.827586</td>\n",
              "    </tr>\n",
              "    <tr>\n",
              "      <td>7</td>\n",
              "      <td>0.320300</td>\n",
              "      <td>0.225824</td>\n",
              "      <td>0.935039</td>\n",
              "      <td>0.592593</td>\n",
              "      <td>0.461538</td>\n",
              "      <td>0.827586</td>\n",
              "    </tr>\n",
              "  </tbody>\n",
              "</table><p>"
            ]
          },
          "metadata": {}
        },
        {
          "output_type": "display_data",
          "data": {
            "text/plain": [
              "<IPython.core.display.HTML object>"
            ],
            "text/html": [
              "\n",
              "    <div>\n",
              "      \n",
              "      <progress value='32' max='32' style='width:300px; height:20px; vertical-align: middle;'></progress>\n",
              "      [32/32 00:06]\n",
              "    </div>\n",
              "    "
            ]
          },
          "metadata": {}
        },
        {
          "output_type": "stream",
          "name": "stderr",
          "text": [
            "[I 2025-10-17 08:59:31,219] Trial 0 finished with value: 0.6433566433566433 and parameters: {'lora_r': 16, 'lora_alpha': 64, 'lora_dropout': 0.1, 'learning_rate': 5e-05, 'warmup_ratio': 0.0, 'batch_size': 32}. Best is trial 0 with value: 0.6433566433566433.\n"
          ]
        },
        {
          "output_type": "display_data",
          "data": {
            "text/plain": [
              "<IPython.core.display.HTML object>"
            ],
            "text/html": [
              "Finishing previous runs because reinit is set to True."
            ]
          },
          "metadata": {}
        },
        {
          "output_type": "display_data",
          "data": {
            "text/plain": [
              "<IPython.core.display.HTML object>"
            ],
            "text/html": []
          },
          "metadata": {}
        },
        {
          "output_type": "display_data",
          "data": {
            "text/plain": [
              "<IPython.core.display.HTML object>"
            ],
            "text/html": [
              "<br>    <style><br>        .wandb-row {<br>            display: flex;<br>            flex-direction: row;<br>            flex-wrap: wrap;<br>            justify-content: flex-start;<br>            width: 100%;<br>        }<br>        .wandb-col {<br>            display: flex;<br>            flex-direction: column;<br>            flex-basis: 100%;<br>            flex: 1;<br>            padding: 10px;<br>        }<br>    </style><br><div class=\"wandb-row\"><div class=\"wandb-col\"><h3>Run history:</h3><br/><table class=\"wandb\"><tr><td>eval/accuracy</td><td>▁▄▄▆█▆▆█</td></tr><tr><td>eval/f1</td><td>▁▄▅▆█▇▇█</td></tr><tr><td>eval/loss</td><td>█▄▃▂▁▁▁▁</td></tr><tr><td>eval/precision</td><td>▁▃▄▅█▆▆█</td></tr><tr><td>eval/recall</td><td>▁▅█▇▇██▇</td></tr><tr><td>eval/runtime</td><td>▃▂▂▁▂█▁▂</td></tr><tr><td>eval/samples_per_second</td><td>▆▇▇█▇▁█▇</td></tr><tr><td>eval/steps_per_second</td><td>▆▇▇█▇▁█▇</td></tr><tr><td>train/epoch</td><td>▁▁▁▂▂▂▂▂▂▃▃▃▃▃▄▄▄▄▄▄▅▅▅▅▅▆▆▆▆▆▇▇▇▇▇▇████</td></tr><tr><td>train/global_step</td><td>▁▁▁▂▂▂▂▂▂▃▃▃▃▃▄▄▄▄▄▄▅▅▅▅▅▆▆▆▆▆▇▇▇▇▇▇████</td></tr><tr><td>+3</td><td>...</td></tr></table><br/></div><div class=\"wandb-col\"><h3>Run summary:</h3><br/><table class=\"wandb\"><tr><td>eval/accuracy</td><td>0.9498</td></tr><tr><td>eval/f1</td><td>0.64336</td></tr><tr><td>eval/loss</td><td>0.24272</td></tr><tr><td>eval/precision</td><td>0.54118</td></tr><tr><td>eval/recall</td><td>0.7931</td></tr><tr><td>eval/runtime</td><td>7.0849</td></tr><tr><td>eval/samples_per_second</td><td>143.403</td></tr><tr><td>eval/steps_per_second</td><td>4.517</td></tr><tr><td>total_flos</td><td>3757293520834560.0</td></tr><tr><td>train/epoch</td><td>7</td></tr><tr><td>+8</td><td>...</td></tr></table><br/></div></div>"
            ]
          },
          "metadata": {}
        },
        {
          "output_type": "display_data",
          "data": {
            "text/plain": [
              "<IPython.core.display.HTML object>"
            ],
            "text/html": [
              " View run <strong style=\"color:#cdcd00\">trial_0</strong> at: <a href='https://wandb.ai/cassieyfd-/bert-lora-optuna/runs/eejwzwi8' target=\"_blank\">https://wandb.ai/cassieyfd-/bert-lora-optuna/runs/eejwzwi8</a><br> View project at: <a href='https://wandb.ai/cassieyfd-/bert-lora-optuna' target=\"_blank\">https://wandb.ai/cassieyfd-/bert-lora-optuna</a><br>Synced 5 W&B file(s), 0 media file(s), 0 artifact file(s) and 0 other file(s)"
            ]
          },
          "metadata": {}
        },
        {
          "output_type": "display_data",
          "data": {
            "text/plain": [
              "<IPython.core.display.HTML object>"
            ],
            "text/html": [
              "Find logs at: <code>./wandb/run-20251017_084455-eejwzwi8/logs</code>"
            ]
          },
          "metadata": {}
        },
        {
          "output_type": "display_data",
          "data": {
            "text/plain": [
              "<IPython.core.display.HTML object>"
            ],
            "text/html": []
          },
          "metadata": {}
        },
        {
          "output_type": "display_data",
          "data": {
            "text/plain": [
              "<IPython.core.display.HTML object>"
            ],
            "text/html": [
              "Tracking run with wandb version 0.22.2"
            ]
          },
          "metadata": {}
        },
        {
          "output_type": "display_data",
          "data": {
            "text/plain": [
              "<IPython.core.display.HTML object>"
            ],
            "text/html": [
              "Run data is saved locally in <code>/content/wandb/run-20251017_085931-8ykkc1u5</code>"
            ]
          },
          "metadata": {}
        },
        {
          "output_type": "display_data",
          "data": {
            "text/plain": [
              "<IPython.core.display.HTML object>"
            ],
            "text/html": [
              "Syncing run <strong><a href='https://wandb.ai/cassieyfd-/bert-lora-optuna/runs/8ykkc1u5' target=\"_blank\">trial_1</a></strong> to <a href='https://wandb.ai/cassieyfd-/bert-lora-optuna' target=\"_blank\">Weights & Biases</a> (<a href='https://wandb.me/developer-guide' target=\"_blank\">docs</a>)<br>"
            ]
          },
          "metadata": {}
        },
        {
          "output_type": "display_data",
          "data": {
            "text/plain": [
              "<IPython.core.display.HTML object>"
            ],
            "text/html": [
              " View project at <a href='https://wandb.ai/cassieyfd-/bert-lora-optuna' target=\"_blank\">https://wandb.ai/cassieyfd-/bert-lora-optuna</a>"
            ]
          },
          "metadata": {}
        },
        {
          "output_type": "display_data",
          "data": {
            "text/plain": [
              "<IPython.core.display.HTML object>"
            ],
            "text/html": [
              " View run at <a href='https://wandb.ai/cassieyfd-/bert-lora-optuna/runs/8ykkc1u5' target=\"_blank\">https://wandb.ai/cassieyfd-/bert-lora-optuna/runs/8ykkc1u5</a>"
            ]
          },
          "metadata": {}
        },
        {
          "output_type": "stream",
          "name": "stderr",
          "text": [
            "Some weights of BertForSequenceClassification were not initialized from the model checkpoint at google-bert/bert-base-uncased and are newly initialized: ['classifier.bias', 'classifier.weight']\n",
            "You should probably TRAIN this model on a down-stream task to be able to use it for predictions and inference.\n",
            "/tmp/ipython-input-2755200925.py:3: FutureWarning: `tokenizer` is deprecated and will be removed in version 5.0.0 for `WeightedTrainer.__init__`. Use `processing_class` instead.\n",
            "  super().__init__(*args, **kwargs)\n",
            "Some weights of BertForSequenceClassification were not initialized from the model checkpoint at google-bert/bert-base-uncased and are newly initialized: ['classifier.bias', 'classifier.weight']\n",
            "You should probably TRAIN this model on a down-stream task to be able to use it for predictions and inference.\n",
            "Some weights of BertForSequenceClassification were not initialized from the model checkpoint at google-bert/bert-base-uncased and are newly initialized: ['classifier.bias', 'classifier.weight']\n",
            "You should probably TRAIN this model on a down-stream task to be able to use it for predictions and inference.\n"
          ]
        },
        {
          "output_type": "display_data",
          "data": {
            "text/plain": [
              "<IPython.core.display.HTML object>"
            ],
            "text/html": [
              "\n",
              "    <div>\n",
              "      \n",
              "      <progress value='4072' max='4072' style='width:300px; height:20px; vertical-align: middle;'></progress>\n",
              "      [4072/4072 17:20, Epoch 8/8]\n",
              "    </div>\n",
              "    <table border=\"1\" class=\"dataframe\">\n",
              "  <thead>\n",
              " <tr style=\"text-align: left;\">\n",
              "      <th>Epoch</th>\n",
              "      <th>Training Loss</th>\n",
              "      <th>Validation Loss</th>\n",
              "      <th>Accuracy</th>\n",
              "      <th>F1</th>\n",
              "      <th>Precision</th>\n",
              "      <th>Recall</th>\n",
              "    </tr>\n",
              "  </thead>\n",
              "  <tbody>\n",
              "    <tr>\n",
              "      <td>1</td>\n",
              "      <td>0.544200</td>\n",
              "      <td>0.505456</td>\n",
              "      <td>0.826772</td>\n",
              "      <td>0.278689</td>\n",
              "      <td>0.182796</td>\n",
              "      <td>0.586207</td>\n",
              "    </tr>\n",
              "    <tr>\n",
              "      <td>2</td>\n",
              "      <td>0.504900</td>\n",
              "      <td>0.450145</td>\n",
              "      <td>0.944882</td>\n",
              "      <td>0.525424</td>\n",
              "      <td>0.516667</td>\n",
              "      <td>0.534483</td>\n",
              "    </tr>\n",
              "    <tr>\n",
              "      <td>3</td>\n",
              "      <td>0.457000</td>\n",
              "      <td>0.415825</td>\n",
              "      <td>0.948819</td>\n",
              "      <td>0.551724</td>\n",
              "      <td>0.551724</td>\n",
              "      <td>0.551724</td>\n",
              "    </tr>\n",
              "    <tr>\n",
              "      <td>4</td>\n",
              "      <td>0.503400</td>\n",
              "      <td>0.374618</td>\n",
              "      <td>0.947835</td>\n",
              "      <td>0.554622</td>\n",
              "      <td>0.540984</td>\n",
              "      <td>0.568966</td>\n",
              "    </tr>\n",
              "    <tr>\n",
              "      <td>5</td>\n",
              "      <td>0.631100</td>\n",
              "      <td>0.367212</td>\n",
              "      <td>0.956693</td>\n",
              "      <td>0.600000</td>\n",
              "      <td>0.634615</td>\n",
              "      <td>0.568966</td>\n",
              "    </tr>\n",
              "    <tr>\n",
              "      <td>6</td>\n",
              "      <td>0.487400</td>\n",
              "      <td>0.317143</td>\n",
              "      <td>0.951772</td>\n",
              "      <td>0.631579</td>\n",
              "      <td>0.560000</td>\n",
              "      <td>0.724138</td>\n",
              "    </tr>\n",
              "    <tr>\n",
              "      <td>7</td>\n",
              "      <td>0.486800</td>\n",
              "      <td>0.348996</td>\n",
              "      <td>0.962598</td>\n",
              "      <td>0.660714</td>\n",
              "      <td>0.685185</td>\n",
              "      <td>0.637931</td>\n",
              "    </tr>\n",
              "    <tr>\n",
              "      <td>8</td>\n",
              "      <td>0.636200</td>\n",
              "      <td>0.358015</td>\n",
              "      <td>0.961614</td>\n",
              "      <td>0.648649</td>\n",
              "      <td>0.679245</td>\n",
              "      <td>0.620690</td>\n",
              "    </tr>\n",
              "  </tbody>\n",
              "</table><p>"
            ]
          },
          "metadata": {}
        },
        {
          "output_type": "display_data",
          "data": {
            "text/plain": [
              "<IPython.core.display.HTML object>"
            ],
            "text/html": [
              "\n",
              "    <div>\n",
              "      \n",
              "      <progress value='64' max='64' style='width:300px; height:20px; vertical-align: middle;'></progress>\n",
              "      [64/64 00:07]\n",
              "    </div>\n",
              "    "
            ]
          },
          "metadata": {}
        },
        {
          "output_type": "stream",
          "name": "stderr",
          "text": [
            "[I 2025-10-17 09:17:03,303] Trial 1 finished with value: 0.6607142857142857 and parameters: {'lora_r': 16, 'lora_alpha': 64, 'lora_dropout': 0.1, 'learning_rate': 3e-05, 'warmup_ratio': 0.1, 'batch_size': 16}. Best is trial 1 with value: 0.6607142857142857.\n"
          ]
        },
        {
          "output_type": "display_data",
          "data": {
            "text/plain": [
              "<IPython.core.display.HTML object>"
            ],
            "text/html": [
              "Finishing previous runs because reinit is set to True."
            ]
          },
          "metadata": {}
        },
        {
          "output_type": "display_data",
          "data": {
            "text/plain": [
              "<IPython.core.display.HTML object>"
            ],
            "text/html": []
          },
          "metadata": {}
        },
        {
          "output_type": "display_data",
          "data": {
            "text/plain": [
              "<IPython.core.display.HTML object>"
            ],
            "text/html": [
              "<br>    <style><br>        .wandb-row {<br>            display: flex;<br>            flex-direction: row;<br>            flex-wrap: wrap;<br>            justify-content: flex-start;<br>            width: 100%;<br>        }<br>        .wandb-col {<br>            display: flex;<br>            flex-direction: column;<br>            flex-basis: 100%;<br>            flex: 1;<br>            padding: 10px;<br>        }<br>    </style><br><div class=\"wandb-row\"><div class=\"wandb-col\"><h3>Run history:</h3><br/><table class=\"wandb\"><tr><td>eval/accuracy</td><td>▁▇▇▇█▇███</td></tr><tr><td>eval/f1</td><td>▁▆▆▆▇▇███</td></tr><tr><td>eval/loss</td><td>█▆▅▃▃▁▂▃▂</td></tr><tr><td>eval/precision</td><td>▁▆▆▆▇▆███</td></tr><tr><td>eval/recall</td><td>▃▁▂▂▂█▅▄▅</td></tr><tr><td>eval/runtime</td><td>▄██▁██▂▆▅</td></tr><tr><td>eval/samples_per_second</td><td>▅▁▁█▁▁▇▃▄</td></tr><tr><td>eval/steps_per_second</td><td>▅▁▁█▁▁▇▃▄</td></tr><tr><td>train/epoch</td><td>▁▁▂▂▂▂▂▂▂▂▃▃▃▃▃▄▄▄▄▄▅▅▅▅▅▆▆▆▆▆▇▇▇▇▇▇████</td></tr><tr><td>train/global_step</td><td>▁▁▁▁▁▂▂▂▂▂▂▃▃▃▃▄▄▄▄▄▅▅▅▅▅▅▆▆▆▆▆▆▇▇▇▇▇███</td></tr><tr><td>+3</td><td>...</td></tr></table><br/></div><div class=\"wandb-col\"><h3>Run summary:</h3><br/><table class=\"wandb\"><tr><td>eval/accuracy</td><td>0.9626</td></tr><tr><td>eval/f1</td><td>0.66071</td></tr><tr><td>eval/loss</td><td>0.349</td></tr><tr><td>eval/precision</td><td>0.68519</td></tr><tr><td>eval/recall</td><td>0.63793</td></tr><tr><td>eval/runtime</td><td>7.5939</td></tr><tr><td>eval/samples_per_second</td><td>133.792</td></tr><tr><td>eval/steps_per_second</td><td>8.428</td></tr><tr><td>total_flos</td><td>4294049738096640.0</td></tr><tr><td>train/epoch</td><td>8</td></tr><tr><td>+8</td><td>...</td></tr></table><br/></div></div>"
            ]
          },
          "metadata": {}
        },
        {
          "output_type": "display_data",
          "data": {
            "text/plain": [
              "<IPython.core.display.HTML object>"
            ],
            "text/html": [
              " View run <strong style=\"color:#cdcd00\">trial_1</strong> at: <a href='https://wandb.ai/cassieyfd-/bert-lora-optuna/runs/8ykkc1u5' target=\"_blank\">https://wandb.ai/cassieyfd-/bert-lora-optuna/runs/8ykkc1u5</a><br> View project at: <a href='https://wandb.ai/cassieyfd-/bert-lora-optuna' target=\"_blank\">https://wandb.ai/cassieyfd-/bert-lora-optuna</a><br>Synced 5 W&B file(s), 0 media file(s), 0 artifact file(s) and 0 other file(s)"
            ]
          },
          "metadata": {}
        },
        {
          "output_type": "display_data",
          "data": {
            "text/plain": [
              "<IPython.core.display.HTML object>"
            ],
            "text/html": [
              "Find logs at: <code>./wandb/run-20251017_085931-8ykkc1u5/logs</code>"
            ]
          },
          "metadata": {}
        },
        {
          "output_type": "display_data",
          "data": {
            "text/plain": [
              "<IPython.core.display.HTML object>"
            ],
            "text/html": []
          },
          "metadata": {}
        },
        {
          "output_type": "display_data",
          "data": {
            "text/plain": [
              "<IPython.core.display.HTML object>"
            ],
            "text/html": [
              "Tracking run with wandb version 0.22.2"
            ]
          },
          "metadata": {}
        },
        {
          "output_type": "display_data",
          "data": {
            "text/plain": [
              "<IPython.core.display.HTML object>"
            ],
            "text/html": [
              "Run data is saved locally in <code>/content/wandb/run-20251017_091703-jsujgbn3</code>"
            ]
          },
          "metadata": {}
        },
        {
          "output_type": "display_data",
          "data": {
            "text/plain": [
              "<IPython.core.display.HTML object>"
            ],
            "text/html": [
              "Syncing run <strong><a href='https://wandb.ai/cassieyfd-/bert-lora-optuna/runs/jsujgbn3' target=\"_blank\">trial_2</a></strong> to <a href='https://wandb.ai/cassieyfd-/bert-lora-optuna' target=\"_blank\">Weights & Biases</a> (<a href='https://wandb.me/developer-guide' target=\"_blank\">docs</a>)<br>"
            ]
          },
          "metadata": {}
        },
        {
          "output_type": "display_data",
          "data": {
            "text/plain": [
              "<IPython.core.display.HTML object>"
            ],
            "text/html": [
              " View project at <a href='https://wandb.ai/cassieyfd-/bert-lora-optuna' target=\"_blank\">https://wandb.ai/cassieyfd-/bert-lora-optuna</a>"
            ]
          },
          "metadata": {}
        },
        {
          "output_type": "display_data",
          "data": {
            "text/plain": [
              "<IPython.core.display.HTML object>"
            ],
            "text/html": [
              " View run at <a href='https://wandb.ai/cassieyfd-/bert-lora-optuna/runs/jsujgbn3' target=\"_blank\">https://wandb.ai/cassieyfd-/bert-lora-optuna/runs/jsujgbn3</a>"
            ]
          },
          "metadata": {}
        },
        {
          "output_type": "stream",
          "name": "stderr",
          "text": [
            "Some weights of BertForSequenceClassification were not initialized from the model checkpoint at google-bert/bert-base-uncased and are newly initialized: ['classifier.bias', 'classifier.weight']\n",
            "You should probably TRAIN this model on a down-stream task to be able to use it for predictions and inference.\n",
            "/tmp/ipython-input-2755200925.py:3: FutureWarning: `tokenizer` is deprecated and will be removed in version 5.0.0 for `WeightedTrainer.__init__`. Use `processing_class` instead.\n",
            "  super().__init__(*args, **kwargs)\n",
            "Some weights of BertForSequenceClassification were not initialized from the model checkpoint at google-bert/bert-base-uncased and are newly initialized: ['classifier.bias', 'classifier.weight']\n",
            "You should probably TRAIN this model on a down-stream task to be able to use it for predictions and inference.\n",
            "Some weights of BertForSequenceClassification were not initialized from the model checkpoint at google-bert/bert-base-uncased and are newly initialized: ['classifier.bias', 'classifier.weight']\n",
            "You should probably TRAIN this model on a down-stream task to be able to use it for predictions and inference.\n"
          ]
        },
        {
          "output_type": "display_data",
          "data": {
            "text/plain": [
              "<IPython.core.display.HTML object>"
            ],
            "text/html": [
              "\n",
              "    <div>\n",
              "      \n",
              "      <progress value='4072' max='4072' style='width:300px; height:20px; vertical-align: middle;'></progress>\n",
              "      [4072/4072 17:23, Epoch 8/8]\n",
              "    </div>\n",
              "    <table border=\"1\" class=\"dataframe\">\n",
              "  <thead>\n",
              " <tr style=\"text-align: left;\">\n",
              "      <th>Epoch</th>\n",
              "      <th>Training Loss</th>\n",
              "      <th>Validation Loss</th>\n",
              "      <th>Accuracy</th>\n",
              "      <th>F1</th>\n",
              "      <th>Precision</th>\n",
              "      <th>Recall</th>\n",
              "    </tr>\n",
              "  </thead>\n",
              "  <tbody>\n",
              "    <tr>\n",
              "      <td>1</td>\n",
              "      <td>0.488300</td>\n",
              "      <td>0.449962</td>\n",
              "      <td>0.884843</td>\n",
              "      <td>0.353591</td>\n",
              "      <td>0.260163</td>\n",
              "      <td>0.551724</td>\n",
              "    </tr>\n",
              "    <tr>\n",
              "      <td>2</td>\n",
              "      <td>0.501700</td>\n",
              "      <td>0.412083</td>\n",
              "      <td>0.932087</td>\n",
              "      <td>0.496350</td>\n",
              "      <td>0.430380</td>\n",
              "      <td>0.586207</td>\n",
              "    </tr>\n",
              "    <tr>\n",
              "      <td>3</td>\n",
              "      <td>0.486100</td>\n",
              "      <td>0.392568</td>\n",
              "      <td>0.945866</td>\n",
              "      <td>0.552846</td>\n",
              "      <td>0.523077</td>\n",
              "      <td>0.586207</td>\n",
              "    </tr>\n",
              "    <tr>\n",
              "      <td>4</td>\n",
              "      <td>0.567400</td>\n",
              "      <td>0.361379</td>\n",
              "      <td>0.949803</td>\n",
              "      <td>0.578512</td>\n",
              "      <td>0.555556</td>\n",
              "      <td>0.603448</td>\n",
              "    </tr>\n",
              "    <tr>\n",
              "      <td>5</td>\n",
              "      <td>0.423400</td>\n",
              "      <td>0.317750</td>\n",
              "      <td>0.950787</td>\n",
              "      <td>0.632353</td>\n",
              "      <td>0.551282</td>\n",
              "      <td>0.741379</td>\n",
              "    </tr>\n",
              "    <tr>\n",
              "      <td>6</td>\n",
              "      <td>0.520600</td>\n",
              "      <td>0.323161</td>\n",
              "      <td>0.956693</td>\n",
              "      <td>0.656250</td>\n",
              "      <td>0.600000</td>\n",
              "      <td>0.724138</td>\n",
              "    </tr>\n",
              "    <tr>\n",
              "      <td>7</td>\n",
              "      <td>0.689800</td>\n",
              "      <td>0.330143</td>\n",
              "      <td>0.958661</td>\n",
              "      <td>0.661290</td>\n",
              "      <td>0.621212</td>\n",
              "      <td>0.706897</td>\n",
              "    </tr>\n",
              "    <tr>\n",
              "      <td>8</td>\n",
              "      <td>0.502400</td>\n",
              "      <td>0.332152</td>\n",
              "      <td>0.960630</td>\n",
              "      <td>0.677419</td>\n",
              "      <td>0.636364</td>\n",
              "      <td>0.724138</td>\n",
              "    </tr>\n",
              "  </tbody>\n",
              "</table><p>"
            ]
          },
          "metadata": {}
        },
        {
          "output_type": "display_data",
          "data": {
            "text/plain": [
              "<IPython.core.display.HTML object>"
            ],
            "text/html": [
              "\n",
              "    <div>\n",
              "      \n",
              "      <progress value='64' max='64' style='width:300px; height:20px; vertical-align: middle;'></progress>\n",
              "      [64/64 00:07]\n",
              "    </div>\n",
              "    "
            ]
          },
          "metadata": {}
        },
        {
          "output_type": "stream",
          "name": "stderr",
          "text": [
            "[I 2025-10-17 09:34:39,381] Trial 2 finished with value: 0.6774193548387096 and parameters: {'lora_r': 16, 'lora_alpha': 32, 'lora_dropout': 0.0, 'learning_rate': 3e-05, 'warmup_ratio': 0.0, 'batch_size': 16}. Best is trial 2 with value: 0.6774193548387096.\n"
          ]
        },
        {
          "output_type": "display_data",
          "data": {
            "text/plain": [
              "<IPython.core.display.HTML object>"
            ],
            "text/html": [
              "Finishing previous runs because reinit is set to True."
            ]
          },
          "metadata": {}
        },
        {
          "output_type": "display_data",
          "data": {
            "text/plain": [
              "<IPython.core.display.HTML object>"
            ],
            "text/html": []
          },
          "metadata": {}
        },
        {
          "output_type": "display_data",
          "data": {
            "text/plain": [
              "<IPython.core.display.HTML object>"
            ],
            "text/html": [
              "<br>    <style><br>        .wandb-row {<br>            display: flex;<br>            flex-direction: row;<br>            flex-wrap: wrap;<br>            justify-content: flex-start;<br>            width: 100%;<br>        }<br>        .wandb-col {<br>            display: flex;<br>            flex-direction: column;<br>            flex-basis: 100%;<br>            flex: 1;<br>            padding: 10px;<br>        }<br>    </style><br><div class=\"wandb-row\"><div class=\"wandb-col\"><h3>Run history:</h3><br/><table class=\"wandb\"><tr><td>eval/accuracy</td><td>▁▅▇▇▇████</td></tr><tr><td>eval/f1</td><td>▁▄▅▆▇████</td></tr><tr><td>eval/loss</td><td>█▆▅▃▁▁▂▂▂</td></tr><tr><td>eval/precision</td><td>▁▄▆▆▆▇███</td></tr><tr><td>eval/recall</td><td>▁▂▂▃█▇▇▇▇</td></tr><tr><td>eval/runtime</td><td>▇▆▁▆█▁▇▅▇</td></tr><tr><td>eval/samples_per_second</td><td>▂▃█▃▁█▂▄▂</td></tr><tr><td>eval/steps_per_second</td><td>▂▃█▃▁█▂▄▂</td></tr><tr><td>train/epoch</td><td>▁▁▁▁▁▂▂▂▂▃▃▃▃▃▄▄▄▄▄▄▅▅▅▅▅▆▆▆▆▆▇▇▇▇▇▇████</td></tr><tr><td>train/global_step</td><td>▁▁▁▁▁▂▂▂▂▂▂▃▃▃▃▃▃▄▄▄▄▄▅▅▅▅▅▆▆▆▆▆▆▇▇▇▇███</td></tr><tr><td>+3</td><td>...</td></tr></table><br/></div><div class=\"wandb-col\"><h3>Run summary:</h3><br/><table class=\"wandb\"><tr><td>eval/accuracy</td><td>0.96063</td></tr><tr><td>eval/f1</td><td>0.67742</td></tr><tr><td>eval/loss</td><td>0.33215</td></tr><tr><td>eval/precision</td><td>0.63636</td></tr><tr><td>eval/recall</td><td>0.72414</td></tr><tr><td>eval/runtime</td><td>7.631</td></tr><tr><td>eval/samples_per_second</td><td>133.142</td></tr><tr><td>eval/steps_per_second</td><td>8.387</td></tr><tr><td>total_flos</td><td>4294049738096640.0</td></tr><tr><td>train/epoch</td><td>8</td></tr><tr><td>+8</td><td>...</td></tr></table><br/></div></div>"
            ]
          },
          "metadata": {}
        },
        {
          "output_type": "display_data",
          "data": {
            "text/plain": [
              "<IPython.core.display.HTML object>"
            ],
            "text/html": [
              " View run <strong style=\"color:#cdcd00\">trial_2</strong> at: <a href='https://wandb.ai/cassieyfd-/bert-lora-optuna/runs/jsujgbn3' target=\"_blank\">https://wandb.ai/cassieyfd-/bert-lora-optuna/runs/jsujgbn3</a><br> View project at: <a href='https://wandb.ai/cassieyfd-/bert-lora-optuna' target=\"_blank\">https://wandb.ai/cassieyfd-/bert-lora-optuna</a><br>Synced 5 W&B file(s), 0 media file(s), 0 artifact file(s) and 0 other file(s)"
            ]
          },
          "metadata": {}
        },
        {
          "output_type": "display_data",
          "data": {
            "text/plain": [
              "<IPython.core.display.HTML object>"
            ],
            "text/html": [
              "Find logs at: <code>./wandb/run-20251017_091703-jsujgbn3/logs</code>"
            ]
          },
          "metadata": {}
        },
        {
          "output_type": "display_data",
          "data": {
            "text/plain": [
              "<IPython.core.display.HTML object>"
            ],
            "text/html": []
          },
          "metadata": {}
        },
        {
          "output_type": "display_data",
          "data": {
            "text/plain": [
              "<IPython.core.display.HTML object>"
            ],
            "text/html": [
              "Tracking run with wandb version 0.22.2"
            ]
          },
          "metadata": {}
        },
        {
          "output_type": "display_data",
          "data": {
            "text/plain": [
              "<IPython.core.display.HTML object>"
            ],
            "text/html": [
              "Run data is saved locally in <code>/content/wandb/run-20251017_093439-q0absdab</code>"
            ]
          },
          "metadata": {}
        },
        {
          "output_type": "display_data",
          "data": {
            "text/plain": [
              "<IPython.core.display.HTML object>"
            ],
            "text/html": [
              "Syncing run <strong><a href='https://wandb.ai/cassieyfd-/bert-lora-optuna/runs/q0absdab' target=\"_blank\">trial_3</a></strong> to <a href='https://wandb.ai/cassieyfd-/bert-lora-optuna' target=\"_blank\">Weights & Biases</a> (<a href='https://wandb.me/developer-guide' target=\"_blank\">docs</a>)<br>"
            ]
          },
          "metadata": {}
        },
        {
          "output_type": "display_data",
          "data": {
            "text/plain": [
              "<IPython.core.display.HTML object>"
            ],
            "text/html": [
              " View project at <a href='https://wandb.ai/cassieyfd-/bert-lora-optuna' target=\"_blank\">https://wandb.ai/cassieyfd-/bert-lora-optuna</a>"
            ]
          },
          "metadata": {}
        },
        {
          "output_type": "display_data",
          "data": {
            "text/plain": [
              "<IPython.core.display.HTML object>"
            ],
            "text/html": [
              " View run at <a href='https://wandb.ai/cassieyfd-/bert-lora-optuna/runs/q0absdab' target=\"_blank\">https://wandb.ai/cassieyfd-/bert-lora-optuna/runs/q0absdab</a>"
            ]
          },
          "metadata": {}
        },
        {
          "output_type": "stream",
          "name": "stderr",
          "text": [
            "Some weights of BertForSequenceClassification were not initialized from the model checkpoint at google-bert/bert-base-uncased and are newly initialized: ['classifier.bias', 'classifier.weight']\n",
            "You should probably TRAIN this model on a down-stream task to be able to use it for predictions and inference.\n",
            "/tmp/ipython-input-2755200925.py:3: FutureWarning: `tokenizer` is deprecated and will be removed in version 5.0.0 for `WeightedTrainer.__init__`. Use `processing_class` instead.\n",
            "  super().__init__(*args, **kwargs)\n",
            "Some weights of BertForSequenceClassification were not initialized from the model checkpoint at google-bert/bert-base-uncased and are newly initialized: ['classifier.bias', 'classifier.weight']\n",
            "You should probably TRAIN this model on a down-stream task to be able to use it for predictions and inference.\n",
            "Some weights of BertForSequenceClassification were not initialized from the model checkpoint at google-bert/bert-base-uncased and are newly initialized: ['classifier.bias', 'classifier.weight']\n",
            "You should probably TRAIN this model on a down-stream task to be able to use it for predictions and inference.\n"
          ]
        },
        {
          "output_type": "display_data",
          "data": {
            "text/plain": [
              "<IPython.core.display.HTML object>"
            ],
            "text/html": [
              "\n",
              "    <div>\n",
              "      \n",
              "      <progress value='2040' max='2040' style='width:300px; height:20px; vertical-align: middle;'></progress>\n",
              "      [2040/2040 16:13, Epoch 8/8]\n",
              "    </div>\n",
              "    <table border=\"1\" class=\"dataframe\">\n",
              "  <thead>\n",
              " <tr style=\"text-align: left;\">\n",
              "      <th>Epoch</th>\n",
              "      <th>Training Loss</th>\n",
              "      <th>Validation Loss</th>\n",
              "      <th>Accuracy</th>\n",
              "      <th>F1</th>\n",
              "      <th>Precision</th>\n",
              "      <th>Recall</th>\n",
              "    </tr>\n",
              "  </thead>\n",
              "  <tbody>\n",
              "    <tr>\n",
              "      <td>1</td>\n",
              "      <td>0.588900</td>\n",
              "      <td>0.501403</td>\n",
              "      <td>0.806102</td>\n",
              "      <td>0.273063</td>\n",
              "      <td>0.173709</td>\n",
              "      <td>0.637931</td>\n",
              "    </tr>\n",
              "    <tr>\n",
              "      <td>2</td>\n",
              "      <td>0.453500</td>\n",
              "      <td>0.345498</td>\n",
              "      <td>0.901575</td>\n",
              "      <td>0.468085</td>\n",
              "      <td>0.338462</td>\n",
              "      <td>0.758621</td>\n",
              "    </tr>\n",
              "    <tr>\n",
              "      <td>3</td>\n",
              "      <td>0.431300</td>\n",
              "      <td>0.294596</td>\n",
              "      <td>0.935039</td>\n",
              "      <td>0.571429</td>\n",
              "      <td>0.458333</td>\n",
              "      <td>0.758621</td>\n",
              "    </tr>\n",
              "    <tr>\n",
              "      <td>4</td>\n",
              "      <td>0.327200</td>\n",
              "      <td>0.244950</td>\n",
              "      <td>0.936024</td>\n",
              "      <td>0.610778</td>\n",
              "      <td>0.467890</td>\n",
              "      <td>0.879310</td>\n",
              "    </tr>\n",
              "    <tr>\n",
              "      <td>5</td>\n",
              "      <td>0.402300</td>\n",
              "      <td>0.232511</td>\n",
              "      <td>0.935039</td>\n",
              "      <td>0.607143</td>\n",
              "      <td>0.463636</td>\n",
              "      <td>0.879310</td>\n",
              "    </tr>\n",
              "    <tr>\n",
              "      <td>6</td>\n",
              "      <td>0.278200</td>\n",
              "      <td>0.238217</td>\n",
              "      <td>0.949803</td>\n",
              "      <td>0.653061</td>\n",
              "      <td>0.539326</td>\n",
              "      <td>0.827586</td>\n",
              "    </tr>\n",
              "    <tr>\n",
              "      <td>7</td>\n",
              "      <td>0.285300</td>\n",
              "      <td>0.233741</td>\n",
              "      <td>0.945866</td>\n",
              "      <td>0.635762</td>\n",
              "      <td>0.516129</td>\n",
              "      <td>0.827586</td>\n",
              "    </tr>\n",
              "    <tr>\n",
              "      <td>8</td>\n",
              "      <td>0.305000</td>\n",
              "      <td>0.238514</td>\n",
              "      <td>0.950787</td>\n",
              "      <td>0.657534</td>\n",
              "      <td>0.545455</td>\n",
              "      <td>0.827586</td>\n",
              "    </tr>\n",
              "  </tbody>\n",
              "</table><p>"
            ]
          },
          "metadata": {}
        },
        {
          "output_type": "display_data",
          "data": {
            "text/plain": [
              "<IPython.core.display.HTML object>"
            ],
            "text/html": [
              "\n",
              "    <div>\n",
              "      \n",
              "      <progress value='32' max='32' style='width:300px; height:20px; vertical-align: middle;'></progress>\n",
              "      [32/32 00:06]\n",
              "    </div>\n",
              "    "
            ]
          },
          "metadata": {}
        },
        {
          "output_type": "stream",
          "name": "stderr",
          "text": [
            "[I 2025-10-17 09:51:04,677] Trial 3 finished with value: 0.6575342465753424 and parameters: {'lora_r': 8, 'lora_alpha': 64, 'lora_dropout': 0.1, 'learning_rate': 5e-05, 'warmup_ratio': 0.1, 'batch_size': 32}. Best is trial 2 with value: 0.6774193548387096.\n"
          ]
        },
        {
          "output_type": "display_data",
          "data": {
            "text/plain": [
              "<IPython.core.display.HTML object>"
            ],
            "text/html": [
              "Finishing previous runs because reinit is set to True."
            ]
          },
          "metadata": {}
        },
        {
          "output_type": "display_data",
          "data": {
            "text/plain": [
              "<IPython.core.display.HTML object>"
            ],
            "text/html": []
          },
          "metadata": {}
        },
        {
          "output_type": "display_data",
          "data": {
            "text/plain": [
              "<IPython.core.display.HTML object>"
            ],
            "text/html": [
              "<br>    <style><br>        .wandb-row {<br>            display: flex;<br>            flex-direction: row;<br>            flex-wrap: wrap;<br>            justify-content: flex-start;<br>            width: 100%;<br>        }<br>        .wandb-col {<br>            display: flex;<br>            flex-direction: column;<br>            flex-basis: 100%;<br>            flex: 1;<br>            padding: 10px;<br>        }<br>    </style><br><div class=\"wandb-row\"><div class=\"wandb-col\"><h3>Run history:</h3><br/><table class=\"wandb\"><tr><td>eval/accuracy</td><td>▁▆▇▇▇████</td></tr><tr><td>eval/f1</td><td>▁▅▆▇▇████</td></tr><tr><td>eval/loss</td><td>█▄▃▁▁▁▁▁▁</td></tr><tr><td>eval/precision</td><td>▁▄▆▇▆█▇██</td></tr><tr><td>eval/recall</td><td>▁▄▄██▇▇▇▇</td></tr><tr><td>eval/runtime</td><td>█▁█▇▁▇▆▁▇</td></tr><tr><td>eval/samples_per_second</td><td>▁█▁▂█▂▃█▂</td></tr><tr><td>eval/steps_per_second</td><td>▁█▁▂█▂▃█▂</td></tr><tr><td>train/epoch</td><td>▁▁▁▂▂▂▂▂▂▃▃▃▃▃▄▄▄▄▄▄▅▅▅▅▅▆▆▆▆▆▇▇▇▇▇█████</td></tr><tr><td>train/global_step</td><td>▁▁▁▂▂▂▂▂▂▂▃▃▃▃▃▄▄▄▄▄▅▅▅▅▅▆▆▆▆▆▇▇▇▇▇▇████</td></tr><tr><td>+3</td><td>...</td></tr></table><br/></div><div class=\"wandb-col\"><h3>Run summary:</h3><br/><table class=\"wandb\"><tr><td>eval/accuracy</td><td>0.95079</td></tr><tr><td>eval/f1</td><td>0.65753</td></tr><tr><td>eval/loss</td><td>0.23851</td></tr><tr><td>eval/precision</td><td>0.54545</td></tr><tr><td>eval/recall</td><td>0.82759</td></tr><tr><td>eval/runtime</td><td>7.1174</td></tr><tr><td>eval/samples_per_second</td><td>142.749</td></tr><tr><td>eval/steps_per_second</td><td>4.496</td></tr><tr><td>total_flos</td><td>4294049738096640.0</td></tr><tr><td>train/epoch</td><td>8</td></tr><tr><td>+8</td><td>...</td></tr></table><br/></div></div>"
            ]
          },
          "metadata": {}
        },
        {
          "output_type": "display_data",
          "data": {
            "text/plain": [
              "<IPython.core.display.HTML object>"
            ],
            "text/html": [
              " View run <strong style=\"color:#cdcd00\">trial_3</strong> at: <a href='https://wandb.ai/cassieyfd-/bert-lora-optuna/runs/q0absdab' target=\"_blank\">https://wandb.ai/cassieyfd-/bert-lora-optuna/runs/q0absdab</a><br> View project at: <a href='https://wandb.ai/cassieyfd-/bert-lora-optuna' target=\"_blank\">https://wandb.ai/cassieyfd-/bert-lora-optuna</a><br>Synced 5 W&B file(s), 0 media file(s), 0 artifact file(s) and 0 other file(s)"
            ]
          },
          "metadata": {}
        },
        {
          "output_type": "display_data",
          "data": {
            "text/plain": [
              "<IPython.core.display.HTML object>"
            ],
            "text/html": [
              "Find logs at: <code>./wandb/run-20251017_093439-q0absdab/logs</code>"
            ]
          },
          "metadata": {}
        },
        {
          "output_type": "display_data",
          "data": {
            "text/plain": [
              "<IPython.core.display.HTML object>"
            ],
            "text/html": []
          },
          "metadata": {}
        },
        {
          "output_type": "display_data",
          "data": {
            "text/plain": [
              "<IPython.core.display.HTML object>"
            ],
            "text/html": [
              "Tracking run with wandb version 0.22.2"
            ]
          },
          "metadata": {}
        },
        {
          "output_type": "display_data",
          "data": {
            "text/plain": [
              "<IPython.core.display.HTML object>"
            ],
            "text/html": [
              "Run data is saved locally in <code>/content/wandb/run-20251017_095104-5md1ecdq</code>"
            ]
          },
          "metadata": {}
        },
        {
          "output_type": "display_data",
          "data": {
            "text/plain": [
              "<IPython.core.display.HTML object>"
            ],
            "text/html": [
              "Syncing run <strong><a href='https://wandb.ai/cassieyfd-/bert-lora-optuna/runs/5md1ecdq' target=\"_blank\">trial_4</a></strong> to <a href='https://wandb.ai/cassieyfd-/bert-lora-optuna' target=\"_blank\">Weights & Biases</a> (<a href='https://wandb.me/developer-guide' target=\"_blank\">docs</a>)<br>"
            ]
          },
          "metadata": {}
        },
        {
          "output_type": "display_data",
          "data": {
            "text/plain": [
              "<IPython.core.display.HTML object>"
            ],
            "text/html": [
              " View project at <a href='https://wandb.ai/cassieyfd-/bert-lora-optuna' target=\"_blank\">https://wandb.ai/cassieyfd-/bert-lora-optuna</a>"
            ]
          },
          "metadata": {}
        },
        {
          "output_type": "display_data",
          "data": {
            "text/plain": [
              "<IPython.core.display.HTML object>"
            ],
            "text/html": [
              " View run at <a href='https://wandb.ai/cassieyfd-/bert-lora-optuna/runs/5md1ecdq' target=\"_blank\">https://wandb.ai/cassieyfd-/bert-lora-optuna/runs/5md1ecdq</a>"
            ]
          },
          "metadata": {}
        },
        {
          "output_type": "stream",
          "name": "stderr",
          "text": [
            "Some weights of BertForSequenceClassification were not initialized from the model checkpoint at google-bert/bert-base-uncased and are newly initialized: ['classifier.bias', 'classifier.weight']\n",
            "You should probably TRAIN this model on a down-stream task to be able to use it for predictions and inference.\n",
            "/tmp/ipython-input-2755200925.py:3: FutureWarning: `tokenizer` is deprecated and will be removed in version 5.0.0 for `WeightedTrainer.__init__`. Use `processing_class` instead.\n",
            "  super().__init__(*args, **kwargs)\n",
            "Some weights of BertForSequenceClassification were not initialized from the model checkpoint at google-bert/bert-base-uncased and are newly initialized: ['classifier.bias', 'classifier.weight']\n",
            "You should probably TRAIN this model on a down-stream task to be able to use it for predictions and inference.\n",
            "Some weights of BertForSequenceClassification were not initialized from the model checkpoint at google-bert/bert-base-uncased and are newly initialized: ['classifier.bias', 'classifier.weight']\n",
            "You should probably TRAIN this model on a down-stream task to be able to use it for predictions and inference.\n"
          ]
        },
        {
          "output_type": "display_data",
          "data": {
            "text/plain": [
              "<IPython.core.display.HTML object>"
            ],
            "text/html": [
              "\n",
              "    <div>\n",
              "      \n",
              "      <progress value='4072' max='4072' style='width:300px; height:20px; vertical-align: middle;'></progress>\n",
              "      [4072/4072 17:21, Epoch 8/8]\n",
              "    </div>\n",
              "    <table border=\"1\" class=\"dataframe\">\n",
              "  <thead>\n",
              " <tr style=\"text-align: left;\">\n",
              "      <th>Epoch</th>\n",
              "      <th>Training Loss</th>\n",
              "      <th>Validation Loss</th>\n",
              "      <th>Accuracy</th>\n",
              "      <th>F1</th>\n",
              "      <th>Precision</th>\n",
              "      <th>Recall</th>\n",
              "    </tr>\n",
              "  </thead>\n",
              "  <tbody>\n",
              "    <tr>\n",
              "      <td>1</td>\n",
              "      <td>0.564000</td>\n",
              "      <td>0.520695</td>\n",
              "      <td>0.816929</td>\n",
              "      <td>0.279070</td>\n",
              "      <td>0.180000</td>\n",
              "      <td>0.620690</td>\n",
              "    </tr>\n",
              "    <tr>\n",
              "      <td>2</td>\n",
              "      <td>0.509100</td>\n",
              "      <td>0.411082</td>\n",
              "      <td>0.932087</td>\n",
              "      <td>0.496350</td>\n",
              "      <td>0.430380</td>\n",
              "      <td>0.586207</td>\n",
              "    </tr>\n",
              "    <tr>\n",
              "      <td>3</td>\n",
              "      <td>0.529500</td>\n",
              "      <td>0.379746</td>\n",
              "      <td>0.939961</td>\n",
              "      <td>0.541353</td>\n",
              "      <td>0.480000</td>\n",
              "      <td>0.620690</td>\n",
              "    </tr>\n",
              "    <tr>\n",
              "      <td>4</td>\n",
              "      <td>0.539700</td>\n",
              "      <td>0.337900</td>\n",
              "      <td>0.938976</td>\n",
              "      <td>0.544118</td>\n",
              "      <td>0.474359</td>\n",
              "      <td>0.637931</td>\n",
              "    </tr>\n",
              "    <tr>\n",
              "      <td>5</td>\n",
              "      <td>0.508200</td>\n",
              "      <td>0.338572</td>\n",
              "      <td>0.947835</td>\n",
              "      <td>0.589147</td>\n",
              "      <td>0.535211</td>\n",
              "      <td>0.655172</td>\n",
              "    </tr>\n",
              "    <tr>\n",
              "      <td>6</td>\n",
              "      <td>0.433600</td>\n",
              "      <td>0.354943</td>\n",
              "      <td>0.954724</td>\n",
              "      <td>0.629032</td>\n",
              "      <td>0.590909</td>\n",
              "      <td>0.672414</td>\n",
              "    </tr>\n",
              "    <tr>\n",
              "      <td>7</td>\n",
              "      <td>0.427700</td>\n",
              "      <td>0.344941</td>\n",
              "      <td>0.957677</td>\n",
              "      <td>0.656000</td>\n",
              "      <td>0.611940</td>\n",
              "      <td>0.706897</td>\n",
              "    </tr>\n",
              "    <tr>\n",
              "      <td>8</td>\n",
              "      <td>0.627800</td>\n",
              "      <td>0.345711</td>\n",
              "      <td>0.959646</td>\n",
              "      <td>0.666667</td>\n",
              "      <td>0.630769</td>\n",
              "      <td>0.706897</td>\n",
              "    </tr>\n",
              "  </tbody>\n",
              "</table><p>"
            ]
          },
          "metadata": {}
        },
        {
          "output_type": "display_data",
          "data": {
            "text/plain": [
              "<IPython.core.display.HTML object>"
            ],
            "text/html": [
              "\n",
              "    <div>\n",
              "      \n",
              "      <progress value='64' max='64' style='width:300px; height:20px; vertical-align: middle;'></progress>\n",
              "      [64/64 00:07]\n",
              "    </div>\n",
              "    "
            ]
          },
          "metadata": {}
        },
        {
          "output_type": "stream",
          "name": "stderr",
          "text": [
            "[I 2025-10-17 10:08:37,547] Trial 4 finished with value: 0.6666666666666666 and parameters: {'lora_r': 8, 'lora_alpha': 32, 'lora_dropout': 0.1, 'learning_rate': 3e-05, 'warmup_ratio': 0.1, 'batch_size': 16}. Best is trial 2 with value: 0.6774193548387096.\n"
          ]
        },
        {
          "output_type": "display_data",
          "data": {
            "text/plain": [
              "<IPython.core.display.HTML object>"
            ],
            "text/html": [
              "Finishing previous runs because reinit is set to True."
            ]
          },
          "metadata": {}
        },
        {
          "output_type": "display_data",
          "data": {
            "text/plain": [
              "<IPython.core.display.HTML object>"
            ],
            "text/html": []
          },
          "metadata": {}
        },
        {
          "output_type": "display_data",
          "data": {
            "text/plain": [
              "<IPython.core.display.HTML object>"
            ],
            "text/html": [
              "<br>    <style><br>        .wandb-row {<br>            display: flex;<br>            flex-direction: row;<br>            flex-wrap: wrap;<br>            justify-content: flex-start;<br>            width: 100%;<br>        }<br>        .wandb-col {<br>            display: flex;<br>            flex-direction: column;<br>            flex-basis: 100%;<br>            flex: 1;<br>            padding: 10px;<br>        }<br>    </style><br><div class=\"wandb-row\"><div class=\"wandb-col\"><h3>Run history:</h3><br/><table class=\"wandb\"><tr><td>eval/accuracy</td><td>▁▇▇▇▇████</td></tr><tr><td>eval/f1</td><td>▁▅▆▆▇▇███</td></tr><tr><td>eval/loss</td><td>█▄▃▁▁▂▁▁▁</td></tr><tr><td>eval/precision</td><td>▁▅▆▆▇▇███</td></tr><tr><td>eval/recall</td><td>▃▁▃▄▅▆███</td></tr><tr><td>eval/runtime</td><td>▅▆▅▄▆▆▃█▁</td></tr><tr><td>eval/samples_per_second</td><td>▄▂▄▅▃▃▆▁█</td></tr><tr><td>eval/steps_per_second</td><td>▄▃▄▅▃▃▆▁█</td></tr><tr><td>train/epoch</td><td>▁▁▁▁▁▂▂▂▂▂▂▃▃▃▃▃▃▄▄▄▄▄▅▅▅▅▆▆▆▆▆▇▇▇▇▇▇███</td></tr><tr><td>train/global_step</td><td>▁▁▁▁▁▂▂▂▂▂▂▃▃▃▃▃▃▄▄▄▄▄▄▅▅▅▅▆▆▆▆▇▇▇▇▇████</td></tr><tr><td>+3</td><td>...</td></tr></table><br/></div><div class=\"wandb-col\"><h3>Run summary:</h3><br/><table class=\"wandb\"><tr><td>eval/accuracy</td><td>0.95965</td></tr><tr><td>eval/f1</td><td>0.66667</td></tr><tr><td>eval/loss</td><td>0.34571</td></tr><tr><td>eval/precision</td><td>0.63077</td></tr><tr><td>eval/recall</td><td>0.7069</td></tr><tr><td>eval/runtime</td><td>7.5389</td></tr><tr><td>eval/samples_per_second</td><td>134.768</td></tr><tr><td>eval/steps_per_second</td><td>8.489</td></tr><tr><td>total_flos</td><td>4294049738096640.0</td></tr><tr><td>train/epoch</td><td>8</td></tr><tr><td>+8</td><td>...</td></tr></table><br/></div></div>"
            ]
          },
          "metadata": {}
        },
        {
          "output_type": "display_data",
          "data": {
            "text/plain": [
              "<IPython.core.display.HTML object>"
            ],
            "text/html": [
              " View run <strong style=\"color:#cdcd00\">trial_4</strong> at: <a href='https://wandb.ai/cassieyfd-/bert-lora-optuna/runs/5md1ecdq' target=\"_blank\">https://wandb.ai/cassieyfd-/bert-lora-optuna/runs/5md1ecdq</a><br> View project at: <a href='https://wandb.ai/cassieyfd-/bert-lora-optuna' target=\"_blank\">https://wandb.ai/cassieyfd-/bert-lora-optuna</a><br>Synced 5 W&B file(s), 0 media file(s), 0 artifact file(s) and 0 other file(s)"
            ]
          },
          "metadata": {}
        },
        {
          "output_type": "display_data",
          "data": {
            "text/plain": [
              "<IPython.core.display.HTML object>"
            ],
            "text/html": [
              "Find logs at: <code>./wandb/run-20251017_095104-5md1ecdq/logs</code>"
            ]
          },
          "metadata": {}
        },
        {
          "output_type": "display_data",
          "data": {
            "text/plain": [
              "<IPython.core.display.HTML object>"
            ],
            "text/html": []
          },
          "metadata": {}
        },
        {
          "output_type": "display_data",
          "data": {
            "text/plain": [
              "<IPython.core.display.HTML object>"
            ],
            "text/html": [
              "Tracking run with wandb version 0.22.2"
            ]
          },
          "metadata": {}
        },
        {
          "output_type": "display_data",
          "data": {
            "text/plain": [
              "<IPython.core.display.HTML object>"
            ],
            "text/html": [
              "Run data is saved locally in <code>/content/wandb/run-20251017_100837-eta8ks4n</code>"
            ]
          },
          "metadata": {}
        },
        {
          "output_type": "display_data",
          "data": {
            "text/plain": [
              "<IPython.core.display.HTML object>"
            ],
            "text/html": [
              "Syncing run <strong><a href='https://wandb.ai/cassieyfd-/bert-lora-optuna/runs/eta8ks4n' target=\"_blank\">trial_5</a></strong> to <a href='https://wandb.ai/cassieyfd-/bert-lora-optuna' target=\"_blank\">Weights & Biases</a> (<a href='https://wandb.me/developer-guide' target=\"_blank\">docs</a>)<br>"
            ]
          },
          "metadata": {}
        },
        {
          "output_type": "display_data",
          "data": {
            "text/plain": [
              "<IPython.core.display.HTML object>"
            ],
            "text/html": [
              " View project at <a href='https://wandb.ai/cassieyfd-/bert-lora-optuna' target=\"_blank\">https://wandb.ai/cassieyfd-/bert-lora-optuna</a>"
            ]
          },
          "metadata": {}
        },
        {
          "output_type": "display_data",
          "data": {
            "text/plain": [
              "<IPython.core.display.HTML object>"
            ],
            "text/html": [
              " View run at <a href='https://wandb.ai/cassieyfd-/bert-lora-optuna/runs/eta8ks4n' target=\"_blank\">https://wandb.ai/cassieyfd-/bert-lora-optuna/runs/eta8ks4n</a>"
            ]
          },
          "metadata": {}
        },
        {
          "output_type": "stream",
          "name": "stderr",
          "text": [
            "Some weights of BertForSequenceClassification were not initialized from the model checkpoint at google-bert/bert-base-uncased and are newly initialized: ['classifier.bias', 'classifier.weight']\n",
            "You should probably TRAIN this model on a down-stream task to be able to use it for predictions and inference.\n",
            "/tmp/ipython-input-2755200925.py:3: FutureWarning: `tokenizer` is deprecated and will be removed in version 5.0.0 for `WeightedTrainer.__init__`. Use `processing_class` instead.\n",
            "  super().__init__(*args, **kwargs)\n",
            "Some weights of BertForSequenceClassification were not initialized from the model checkpoint at google-bert/bert-base-uncased and are newly initialized: ['classifier.bias', 'classifier.weight']\n",
            "You should probably TRAIN this model on a down-stream task to be able to use it for predictions and inference.\n",
            "Some weights of BertForSequenceClassification were not initialized from the model checkpoint at google-bert/bert-base-uncased and are newly initialized: ['classifier.bias', 'classifier.weight']\n",
            "You should probably TRAIN this model on a down-stream task to be able to use it for predictions and inference.\n"
          ]
        },
        {
          "output_type": "display_data",
          "data": {
            "text/plain": [
              "<IPython.core.display.HTML object>"
            ],
            "text/html": [
              "\n",
              "    <div>\n",
              "      \n",
              "      <progress value='4072' max='4072' style='width:300px; height:20px; vertical-align: middle;'></progress>\n",
              "      [4072/4072 17:27, Epoch 8/8]\n",
              "    </div>\n",
              "    <table border=\"1\" class=\"dataframe\">\n",
              "  <thead>\n",
              " <tr style=\"text-align: left;\">\n",
              "      <th>Epoch</th>\n",
              "      <th>Training Loss</th>\n",
              "      <th>Validation Loss</th>\n",
              "      <th>Accuracy</th>\n",
              "      <th>F1</th>\n",
              "      <th>Precision</th>\n",
              "      <th>Recall</th>\n",
              "    </tr>\n",
              "  </thead>\n",
              "  <tbody>\n",
              "    <tr>\n",
              "      <td>1</td>\n",
              "      <td>0.548900</td>\n",
              "      <td>0.507349</td>\n",
              "      <td>0.823819</td>\n",
              "      <td>0.286853</td>\n",
              "      <td>0.186528</td>\n",
              "      <td>0.620690</td>\n",
              "    </tr>\n",
              "    <tr>\n",
              "      <td>2</td>\n",
              "      <td>0.529300</td>\n",
              "      <td>0.385297</td>\n",
              "      <td>0.921260</td>\n",
              "      <td>0.487179</td>\n",
              "      <td>0.387755</td>\n",
              "      <td>0.655172</td>\n",
              "    </tr>\n",
              "    <tr>\n",
              "      <td>3</td>\n",
              "      <td>0.545700</td>\n",
              "      <td>0.372422</td>\n",
              "      <td>0.939961</td>\n",
              "      <td>0.541353</td>\n",
              "      <td>0.480000</td>\n",
              "      <td>0.620690</td>\n",
              "    </tr>\n",
              "    <tr>\n",
              "      <td>4</td>\n",
              "      <td>0.666200</td>\n",
              "      <td>0.376012</td>\n",
              "      <td>0.949803</td>\n",
              "      <td>0.592000</td>\n",
              "      <td>0.552239</td>\n",
              "      <td>0.637931</td>\n",
              "    </tr>\n",
              "    <tr>\n",
              "      <td>5</td>\n",
              "      <td>0.444900</td>\n",
              "      <td>0.370739</td>\n",
              "      <td>0.956693</td>\n",
              "      <td>0.633333</td>\n",
              "      <td>0.612903</td>\n",
              "      <td>0.655172</td>\n",
              "    </tr>\n",
              "    <tr>\n",
              "      <td>6</td>\n",
              "      <td>0.470100</td>\n",
              "      <td>0.363638</td>\n",
              "      <td>0.959646</td>\n",
              "      <td>0.643478</td>\n",
              "      <td>0.649123</td>\n",
              "      <td>0.637931</td>\n",
              "    </tr>\n",
              "    <tr>\n",
              "      <td>7</td>\n",
              "      <td>0.641100</td>\n",
              "      <td>0.352345</td>\n",
              "      <td>0.960630</td>\n",
              "      <td>0.655172</td>\n",
              "      <td>0.655172</td>\n",
              "      <td>0.655172</td>\n",
              "    </tr>\n",
              "    <tr>\n",
              "      <td>8</td>\n",
              "      <td>0.399500</td>\n",
              "      <td>0.356382</td>\n",
              "      <td>0.963583</td>\n",
              "      <td>0.672566</td>\n",
              "      <td>0.690909</td>\n",
              "      <td>0.655172</td>\n",
              "    </tr>\n",
              "  </tbody>\n",
              "</table><p>"
            ]
          },
          "metadata": {}
        },
        {
          "output_type": "display_data",
          "data": {
            "text/plain": [
              "<IPython.core.display.HTML object>"
            ],
            "text/html": [
              "\n",
              "    <div>\n",
              "      \n",
              "      <progress value='64' max='64' style='width:300px; height:20px; vertical-align: middle;'></progress>\n",
              "      [64/64 00:07]\n",
              "    </div>\n",
              "    "
            ]
          },
          "metadata": {}
        },
        {
          "output_type": "stream",
          "name": "stderr",
          "text": [
            "[I 2025-10-17 10:26:17,198] Trial 5 finished with value: 0.672566371681416 and parameters: {'lora_r': 8, 'lora_alpha': 64, 'lora_dropout': 0.0, 'learning_rate': 3e-05, 'warmup_ratio': 0.1, 'batch_size': 16}. Best is trial 2 with value: 0.6774193548387096.\n"
          ]
        },
        {
          "output_type": "display_data",
          "data": {
            "text/plain": [
              "<IPython.core.display.HTML object>"
            ],
            "text/html": [
              "Finishing previous runs because reinit is set to True."
            ]
          },
          "metadata": {}
        },
        {
          "output_type": "display_data",
          "data": {
            "text/plain": [
              "<IPython.core.display.HTML object>"
            ],
            "text/html": []
          },
          "metadata": {}
        },
        {
          "output_type": "display_data",
          "data": {
            "text/plain": [
              "<IPython.core.display.HTML object>"
            ],
            "text/html": [
              "<br>    <style><br>        .wandb-row {<br>            display: flex;<br>            flex-direction: row;<br>            flex-wrap: wrap;<br>            justify-content: flex-start;<br>            width: 100%;<br>        }<br>        .wandb-col {<br>            display: flex;<br>            flex-direction: column;<br>            flex-basis: 100%;<br>            flex: 1;<br>            padding: 10px;<br>        }<br>    </style><br><div class=\"wandb-row\"><div class=\"wandb-col\"><h3>Run history:</h3><br/><table class=\"wandb\"><tr><td>eval/accuracy</td><td>▁▆▇▇█████</td></tr><tr><td>eval/f1</td><td>▁▅▆▇▇▇███</td></tr><tr><td>eval/loss</td><td>█▂▂▂▂▂▁▁▁</td></tr><tr><td>eval/precision</td><td>▁▄▅▆▇▇███</td></tr><tr><td>eval/recall</td><td>▁█▁▅█▅███</td></tr><tr><td>eval/runtime</td><td>▇▅█▇▃▇▆▁▄</td></tr><tr><td>eval/samples_per_second</td><td>▂▄▁▂▆▂▃█▅</td></tr><tr><td>eval/steps_per_second</td><td>▂▄▁▂▆▂▃█▅</td></tr><tr><td>train/epoch</td><td>▁▁▁▁▁▂▂▂▂▂▃▃▃▃▃▄▄▄▄▄▅▅▅▅▅▅▅▆▆▆▇▇▇▇▇█████</td></tr><tr><td>train/global_step</td><td>▁▁▁▁▂▂▂▂▂▂▃▃▃▄▄▄▄▄▄▅▅▅▅▆▆▆▆▆▆▇▇▇▇▇▇█████</td></tr><tr><td>+3</td><td>...</td></tr></table><br/></div><div class=\"wandb-col\"><h3>Run summary:</h3><br/><table class=\"wandb\"><tr><td>eval/accuracy</td><td>0.96358</td></tr><tr><td>eval/f1</td><td>0.67257</td></tr><tr><td>eval/loss</td><td>0.35638</td></tr><tr><td>eval/precision</td><td>0.69091</td></tr><tr><td>eval/recall</td><td>0.65517</td></tr><tr><td>eval/runtime</td><td>7.6214</td></tr><tr><td>eval/samples_per_second</td><td>133.309</td></tr><tr><td>eval/steps_per_second</td><td>8.397</td></tr><tr><td>total_flos</td><td>4294049738096640.0</td></tr><tr><td>train/epoch</td><td>8</td></tr><tr><td>+8</td><td>...</td></tr></table><br/></div></div>"
            ]
          },
          "metadata": {}
        },
        {
          "output_type": "display_data",
          "data": {
            "text/plain": [
              "<IPython.core.display.HTML object>"
            ],
            "text/html": [
              " View run <strong style=\"color:#cdcd00\">trial_5</strong> at: <a href='https://wandb.ai/cassieyfd-/bert-lora-optuna/runs/eta8ks4n' target=\"_blank\">https://wandb.ai/cassieyfd-/bert-lora-optuna/runs/eta8ks4n</a><br> View project at: <a href='https://wandb.ai/cassieyfd-/bert-lora-optuna' target=\"_blank\">https://wandb.ai/cassieyfd-/bert-lora-optuna</a><br>Synced 5 W&B file(s), 0 media file(s), 0 artifact file(s) and 0 other file(s)"
            ]
          },
          "metadata": {}
        },
        {
          "output_type": "display_data",
          "data": {
            "text/plain": [
              "<IPython.core.display.HTML object>"
            ],
            "text/html": [
              "Find logs at: <code>./wandb/run-20251017_100837-eta8ks4n/logs</code>"
            ]
          },
          "metadata": {}
        },
        {
          "output_type": "display_data",
          "data": {
            "text/plain": [
              "<IPython.core.display.HTML object>"
            ],
            "text/html": []
          },
          "metadata": {}
        },
        {
          "output_type": "display_data",
          "data": {
            "text/plain": [
              "<IPython.core.display.HTML object>"
            ],
            "text/html": [
              "Tracking run with wandb version 0.22.2"
            ]
          },
          "metadata": {}
        },
        {
          "output_type": "display_data",
          "data": {
            "text/plain": [
              "<IPython.core.display.HTML object>"
            ],
            "text/html": [
              "Run data is saved locally in <code>/content/wandb/run-20251017_102617-5pitc15w</code>"
            ]
          },
          "metadata": {}
        },
        {
          "output_type": "display_data",
          "data": {
            "text/plain": [
              "<IPython.core.display.HTML object>"
            ],
            "text/html": [
              "Syncing run <strong><a href='https://wandb.ai/cassieyfd-/bert-lora-optuna/runs/5pitc15w' target=\"_blank\">trial_6</a></strong> to <a href='https://wandb.ai/cassieyfd-/bert-lora-optuna' target=\"_blank\">Weights & Biases</a> (<a href='https://wandb.me/developer-guide' target=\"_blank\">docs</a>)<br>"
            ]
          },
          "metadata": {}
        },
        {
          "output_type": "display_data",
          "data": {
            "text/plain": [
              "<IPython.core.display.HTML object>"
            ],
            "text/html": [
              " View project at <a href='https://wandb.ai/cassieyfd-/bert-lora-optuna' target=\"_blank\">https://wandb.ai/cassieyfd-/bert-lora-optuna</a>"
            ]
          },
          "metadata": {}
        },
        {
          "output_type": "display_data",
          "data": {
            "text/plain": [
              "<IPython.core.display.HTML object>"
            ],
            "text/html": [
              " View run at <a href='https://wandb.ai/cassieyfd-/bert-lora-optuna/runs/5pitc15w' target=\"_blank\">https://wandb.ai/cassieyfd-/bert-lora-optuna/runs/5pitc15w</a>"
            ]
          },
          "metadata": {}
        },
        {
          "output_type": "stream",
          "name": "stderr",
          "text": [
            "Some weights of BertForSequenceClassification were not initialized from the model checkpoint at google-bert/bert-base-uncased and are newly initialized: ['classifier.bias', 'classifier.weight']\n",
            "You should probably TRAIN this model on a down-stream task to be able to use it for predictions and inference.\n",
            "/tmp/ipython-input-2755200925.py:3: FutureWarning: `tokenizer` is deprecated and will be removed in version 5.0.0 for `WeightedTrainer.__init__`. Use `processing_class` instead.\n",
            "  super().__init__(*args, **kwargs)\n",
            "Some weights of BertForSequenceClassification were not initialized from the model checkpoint at google-bert/bert-base-uncased and are newly initialized: ['classifier.bias', 'classifier.weight']\n",
            "You should probably TRAIN this model on a down-stream task to be able to use it for predictions and inference.\n",
            "Some weights of BertForSequenceClassification were not initialized from the model checkpoint at google-bert/bert-base-uncased and are newly initialized: ['classifier.bias', 'classifier.weight']\n",
            "You should probably TRAIN this model on a down-stream task to be able to use it for predictions and inference.\n"
          ]
        },
        {
          "output_type": "display_data",
          "data": {
            "text/plain": [
              "<IPython.core.display.HTML object>"
            ],
            "text/html": [
              "\n",
              "    <div>\n",
              "      \n",
              "      <progress value='4072' max='4072' style='width:300px; height:20px; vertical-align: middle;'></progress>\n",
              "      [4072/4072 17:23, Epoch 8/8]\n",
              "    </div>\n",
              "    <table border=\"1\" class=\"dataframe\">\n",
              "  <thead>\n",
              " <tr style=\"text-align: left;\">\n",
              "      <th>Epoch</th>\n",
              "      <th>Training Loss</th>\n",
              "      <th>Validation Loss</th>\n",
              "      <th>Accuracy</th>\n",
              "      <th>F1</th>\n",
              "      <th>Precision</th>\n",
              "      <th>Recall</th>\n",
              "    </tr>\n",
              "  </thead>\n",
              "  <tbody>\n",
              "    <tr>\n",
              "      <td>1</td>\n",
              "      <td>0.523000</td>\n",
              "      <td>0.439626</td>\n",
              "      <td>0.866142</td>\n",
              "      <td>0.358491</td>\n",
              "      <td>0.246753</td>\n",
              "      <td>0.655172</td>\n",
              "    </tr>\n",
              "    <tr>\n",
              "      <td>2</td>\n",
              "      <td>0.544300</td>\n",
              "      <td>0.342142</td>\n",
              "      <td>0.914370</td>\n",
              "      <td>0.479042</td>\n",
              "      <td>0.366972</td>\n",
              "      <td>0.689655</td>\n",
              "    </tr>\n",
              "    <tr>\n",
              "      <td>3</td>\n",
              "      <td>0.758700</td>\n",
              "      <td>0.326163</td>\n",
              "      <td>0.941929</td>\n",
              "      <td>0.575540</td>\n",
              "      <td>0.493827</td>\n",
              "      <td>0.689655</td>\n",
              "    </tr>\n",
              "    <tr>\n",
              "      <td>4</td>\n",
              "      <td>0.384000</td>\n",
              "      <td>0.327302</td>\n",
              "      <td>0.952756</td>\n",
              "      <td>0.625000</td>\n",
              "      <td>0.571429</td>\n",
              "      <td>0.689655</td>\n",
              "    </tr>\n",
              "    <tr>\n",
              "      <td>5</td>\n",
              "      <td>0.386800</td>\n",
              "      <td>0.323642</td>\n",
              "      <td>0.958661</td>\n",
              "      <td>0.644068</td>\n",
              "      <td>0.633333</td>\n",
              "      <td>0.655172</td>\n",
              "    </tr>\n",
              "    <tr>\n",
              "      <td>6</td>\n",
              "      <td>0.454500</td>\n",
              "      <td>0.269819</td>\n",
              "      <td>0.953740</td>\n",
              "      <td>0.656934</td>\n",
              "      <td>0.569620</td>\n",
              "      <td>0.775862</td>\n",
              "    </tr>\n",
              "    <tr>\n",
              "      <td>7</td>\n",
              "      <td>0.297700</td>\n",
              "      <td>0.295508</td>\n",
              "      <td>0.964567</td>\n",
              "      <td>0.704918</td>\n",
              "      <td>0.671875</td>\n",
              "      <td>0.741379</td>\n",
              "    </tr>\n",
              "    <tr>\n",
              "      <td>8</td>\n",
              "      <td>0.433100</td>\n",
              "      <td>0.300258</td>\n",
              "      <td>0.964567</td>\n",
              "      <td>0.700000</td>\n",
              "      <td>0.677419</td>\n",
              "      <td>0.724138</td>\n",
              "    </tr>\n",
              "  </tbody>\n",
              "</table><p>"
            ]
          },
          "metadata": {}
        },
        {
          "output_type": "display_data",
          "data": {
            "text/plain": [
              "<IPython.core.display.HTML object>"
            ],
            "text/html": [
              "\n",
              "    <div>\n",
              "      \n",
              "      <progress value='64' max='64' style='width:300px; height:20px; vertical-align: middle;'></progress>\n",
              "      [64/64 00:07]\n",
              "    </div>\n",
              "    "
            ]
          },
          "metadata": {}
        },
        {
          "output_type": "stream",
          "name": "stderr",
          "text": [
            "[I 2025-10-17 10:43:52,864] Trial 6 finished with value: 0.7049180327868853 and parameters: {'lora_r': 16, 'lora_alpha': 32, 'lora_dropout': 0.1, 'learning_rate': 3e-05, 'warmup_ratio': 0.0, 'batch_size': 16}. Best is trial 6 with value: 0.7049180327868853.\n"
          ]
        },
        {
          "output_type": "display_data",
          "data": {
            "text/plain": [
              "<IPython.core.display.HTML object>"
            ],
            "text/html": [
              "Finishing previous runs because reinit is set to True."
            ]
          },
          "metadata": {}
        },
        {
          "output_type": "display_data",
          "data": {
            "text/plain": [
              "<IPython.core.display.HTML object>"
            ],
            "text/html": []
          },
          "metadata": {}
        },
        {
          "output_type": "display_data",
          "data": {
            "text/plain": [
              "<IPython.core.display.HTML object>"
            ],
            "text/html": [
              "<br>    <style><br>        .wandb-row {<br>            display: flex;<br>            flex-direction: row;<br>            flex-wrap: wrap;<br>            justify-content: flex-start;<br>            width: 100%;<br>        }<br>        .wandb-col {<br>            display: flex;<br>            flex-direction: column;<br>            flex-basis: 100%;<br>            flex: 1;<br>            padding: 10px;<br>        }<br>    </style><br><div class=\"wandb-row\"><div class=\"wandb-col\"><h3>Run history:</h3><br/><table class=\"wandb\"><tr><td>eval/accuracy</td><td>▁▄▆▇█▇███</td></tr><tr><td>eval/f1</td><td>▁▃▅▆▇▇███</td></tr><tr><td>eval/loss</td><td>█▄▃▃▃▁▂▂▂</td></tr><tr><td>eval/precision</td><td>▁▃▅▆▇▆███</td></tr><tr><td>eval/recall</td><td>▁▃▃▃▁█▆▅▆</td></tr><tr><td>eval/runtime</td><td>█▆▄▆▆▁▇▇▅</td></tr><tr><td>eval/samples_per_second</td><td>▁▃▅▃▃█▂▂▄</td></tr><tr><td>eval/steps_per_second</td><td>▁▃▅▃▃█▂▂▄</td></tr><tr><td>train/epoch</td><td>▁▁▂▂▂▂▃▃▃▃▃▄▄▄▄▄▄▄▅▅▅▅▅▅▆▆▆▆▆▆▇▇▇▇▇█████</td></tr><tr><td>train/global_step</td><td>▁▁▂▂▂▂▂▂▂▃▃▃▄▄▄▄▄▄▄▅▅▅▅▅▆▆▆▆▆▆▇▇▇▇▇▇████</td></tr><tr><td>+3</td><td>...</td></tr></table><br/></div><div class=\"wandb-col\"><h3>Run summary:</h3><br/><table class=\"wandb\"><tr><td>eval/accuracy</td><td>0.96457</td></tr><tr><td>eval/f1</td><td>0.70492</td></tr><tr><td>eval/loss</td><td>0.29551</td></tr><tr><td>eval/precision</td><td>0.67188</td></tr><tr><td>eval/recall</td><td>0.74138</td></tr><tr><td>eval/runtime</td><td>7.6341</td></tr><tr><td>eval/samples_per_second</td><td>133.088</td></tr><tr><td>eval/steps_per_second</td><td>8.383</td></tr><tr><td>total_flos</td><td>4294049738096640.0</td></tr><tr><td>train/epoch</td><td>8</td></tr><tr><td>+8</td><td>...</td></tr></table><br/></div></div>"
            ]
          },
          "metadata": {}
        },
        {
          "output_type": "display_data",
          "data": {
            "text/plain": [
              "<IPython.core.display.HTML object>"
            ],
            "text/html": [
              " View run <strong style=\"color:#cdcd00\">trial_6</strong> at: <a href='https://wandb.ai/cassieyfd-/bert-lora-optuna/runs/5pitc15w' target=\"_blank\">https://wandb.ai/cassieyfd-/bert-lora-optuna/runs/5pitc15w</a><br> View project at: <a href='https://wandb.ai/cassieyfd-/bert-lora-optuna' target=\"_blank\">https://wandb.ai/cassieyfd-/bert-lora-optuna</a><br>Synced 5 W&B file(s), 0 media file(s), 0 artifact file(s) and 0 other file(s)"
            ]
          },
          "metadata": {}
        },
        {
          "output_type": "display_data",
          "data": {
            "text/plain": [
              "<IPython.core.display.HTML object>"
            ],
            "text/html": [
              "Find logs at: <code>./wandb/run-20251017_102617-5pitc15w/logs</code>"
            ]
          },
          "metadata": {}
        },
        {
          "output_type": "display_data",
          "data": {
            "text/plain": [
              "<IPython.core.display.HTML object>"
            ],
            "text/html": []
          },
          "metadata": {}
        },
        {
          "output_type": "display_data",
          "data": {
            "text/plain": [
              "<IPython.core.display.HTML object>"
            ],
            "text/html": [
              "Tracking run with wandb version 0.22.2"
            ]
          },
          "metadata": {}
        },
        {
          "output_type": "display_data",
          "data": {
            "text/plain": [
              "<IPython.core.display.HTML object>"
            ],
            "text/html": [
              "Run data is saved locally in <code>/content/wandb/run-20251017_104352-2bcw7ntg</code>"
            ]
          },
          "metadata": {}
        },
        {
          "output_type": "display_data",
          "data": {
            "text/plain": [
              "<IPython.core.display.HTML object>"
            ],
            "text/html": [
              "Syncing run <strong><a href='https://wandb.ai/cassieyfd-/bert-lora-optuna/runs/2bcw7ntg' target=\"_blank\">trial_7</a></strong> to <a href='https://wandb.ai/cassieyfd-/bert-lora-optuna' target=\"_blank\">Weights & Biases</a> (<a href='https://wandb.me/developer-guide' target=\"_blank\">docs</a>)<br>"
            ]
          },
          "metadata": {}
        },
        {
          "output_type": "display_data",
          "data": {
            "text/plain": [
              "<IPython.core.display.HTML object>"
            ],
            "text/html": [
              " View project at <a href='https://wandb.ai/cassieyfd-/bert-lora-optuna' target=\"_blank\">https://wandb.ai/cassieyfd-/bert-lora-optuna</a>"
            ]
          },
          "metadata": {}
        },
        {
          "output_type": "display_data",
          "data": {
            "text/plain": [
              "<IPython.core.display.HTML object>"
            ],
            "text/html": [
              " View run at <a href='https://wandb.ai/cassieyfd-/bert-lora-optuna/runs/2bcw7ntg' target=\"_blank\">https://wandb.ai/cassieyfd-/bert-lora-optuna/runs/2bcw7ntg</a>"
            ]
          },
          "metadata": {}
        },
        {
          "output_type": "stream",
          "name": "stderr",
          "text": [
            "Some weights of BertForSequenceClassification were not initialized from the model checkpoint at google-bert/bert-base-uncased and are newly initialized: ['classifier.bias', 'classifier.weight']\n",
            "You should probably TRAIN this model on a down-stream task to be able to use it for predictions and inference.\n",
            "/tmp/ipython-input-2755200925.py:3: FutureWarning: `tokenizer` is deprecated and will be removed in version 5.0.0 for `WeightedTrainer.__init__`. Use `processing_class` instead.\n",
            "  super().__init__(*args, **kwargs)\n",
            "Some weights of BertForSequenceClassification were not initialized from the model checkpoint at google-bert/bert-base-uncased and are newly initialized: ['classifier.bias', 'classifier.weight']\n",
            "You should probably TRAIN this model on a down-stream task to be able to use it for predictions and inference.\n",
            "Some weights of BertForSequenceClassification were not initialized from the model checkpoint at google-bert/bert-base-uncased and are newly initialized: ['classifier.bias', 'classifier.weight']\n",
            "You should probably TRAIN this model on a down-stream task to be able to use it for predictions and inference.\n"
          ]
        },
        {
          "output_type": "display_data",
          "data": {
            "text/plain": [
              "<IPython.core.display.HTML object>"
            ],
            "text/html": [
              "\n",
              "    <div>\n",
              "      \n",
              "      <progress value='2040' max='2040' style='width:300px; height:20px; vertical-align: middle;'></progress>\n",
              "      [2040/2040 16:16, Epoch 8/8]\n",
              "    </div>\n",
              "    <table border=\"1\" class=\"dataframe\">\n",
              "  <thead>\n",
              " <tr style=\"text-align: left;\">\n",
              "      <th>Epoch</th>\n",
              "      <th>Training Loss</th>\n",
              "      <th>Validation Loss</th>\n",
              "      <th>Accuracy</th>\n",
              "      <th>F1</th>\n",
              "      <th>Precision</th>\n",
              "      <th>Recall</th>\n",
              "    </tr>\n",
              "  </thead>\n",
              "  <tbody>\n",
              "    <tr>\n",
              "      <td>1</td>\n",
              "      <td>0.650300</td>\n",
              "      <td>0.640189</td>\n",
              "      <td>0.647638</td>\n",
              "      <td>0.171296</td>\n",
              "      <td>0.098930</td>\n",
              "      <td>0.637931</td>\n",
              "    </tr>\n",
              "    <tr>\n",
              "      <td>2</td>\n",
              "      <td>0.513600</td>\n",
              "      <td>0.463501</td>\n",
              "      <td>0.814961</td>\n",
              "      <td>0.303704</td>\n",
              "      <td>0.193396</td>\n",
              "      <td>0.706897</td>\n",
              "    </tr>\n",
              "    <tr>\n",
              "      <td>3</td>\n",
              "      <td>0.396300</td>\n",
              "      <td>0.337392</td>\n",
              "      <td>0.897638</td>\n",
              "      <td>0.474747</td>\n",
              "      <td>0.335714</td>\n",
              "      <td>0.810345</td>\n",
              "    </tr>\n",
              "    <tr>\n",
              "      <td>4</td>\n",
              "      <td>0.372600</td>\n",
              "      <td>0.292122</td>\n",
              "      <td>0.903543</td>\n",
              "      <td>0.510000</td>\n",
              "      <td>0.359155</td>\n",
              "      <td>0.879310</td>\n",
              "    </tr>\n",
              "    <tr>\n",
              "      <td>5</td>\n",
              "      <td>0.395100</td>\n",
              "      <td>0.272027</td>\n",
              "      <td>0.902559</td>\n",
              "      <td>0.507463</td>\n",
              "      <td>0.356643</td>\n",
              "      <td>0.879310</td>\n",
              "    </tr>\n",
              "    <tr>\n",
              "      <td>6</td>\n",
              "      <td>0.297600</td>\n",
              "      <td>0.252171</td>\n",
              "      <td>0.916339</td>\n",
              "      <td>0.540541</td>\n",
              "      <td>0.393701</td>\n",
              "      <td>0.862069</td>\n",
              "    </tr>\n",
              "    <tr>\n",
              "      <td>7</td>\n",
              "      <td>0.356800</td>\n",
              "      <td>0.247860</td>\n",
              "      <td>0.909449</td>\n",
              "      <td>0.525773</td>\n",
              "      <td>0.375000</td>\n",
              "      <td>0.879310</td>\n",
              "    </tr>\n",
              "    <tr>\n",
              "      <td>8</td>\n",
              "      <td>0.277300</td>\n",
              "      <td>0.244718</td>\n",
              "      <td>0.914370</td>\n",
              "      <td>0.539683</td>\n",
              "      <td>0.389313</td>\n",
              "      <td>0.879310</td>\n",
              "    </tr>\n",
              "  </tbody>\n",
              "</table><p>"
            ]
          },
          "metadata": {}
        },
        {
          "output_type": "display_data",
          "data": {
            "text/plain": [
              "<IPython.core.display.HTML object>"
            ],
            "text/html": [
              "\n",
              "    <div>\n",
              "      \n",
              "      <progress value='32' max='32' style='width:300px; height:20px; vertical-align: middle;'></progress>\n",
              "      [32/32 00:06]\n",
              "    </div>\n",
              "    "
            ]
          },
          "metadata": {}
        },
        {
          "output_type": "stream",
          "name": "stderr",
          "text": [
            "[I 2025-10-17 11:00:20,872] Trial 7 finished with value: 0.5405405405405406 and parameters: {'lora_r': 8, 'lora_alpha': 32, 'lora_dropout': 0.1, 'learning_rate': 3e-05, 'warmup_ratio': 0.1, 'batch_size': 32}. Best is trial 6 with value: 0.7049180327868853.\n"
          ]
        },
        {
          "output_type": "stream",
          "name": "stdout",
          "text": [
            "Best trial:\n",
            "{'lora_r': 16, 'lora_alpha': 32, 'lora_dropout': 0.1, 'learning_rate': 3e-05, 'warmup_ratio': 0.0, 'batch_size': 16}\n"
          ]
        }
      ]
    },
    {
      "cell_type": "markdown",
      "source": [
        "### model with best-performing parameters"
      ],
      "metadata": {
        "id": "OmX4kuxjLyZr"
      }
    },
    {
      "cell_type": "code",
      "source": [
        "lora_study.best_trial.params"
      ],
      "metadata": {
        "colab": {
          "base_uri": "https://localhost:8080/"
        },
        "id": "pklf1sWOMECi",
        "outputId": "59d8b315-6c3a-4bf8-8776-0f3a68a6f359"
      },
      "execution_count": 32,
      "outputs": [
        {
          "output_type": "execute_result",
          "data": {
            "text/plain": [
              "{'lora_r': 16,\n",
              " 'lora_alpha': 32,\n",
              " 'lora_dropout': 0.1,\n",
              " 'learning_rate': 3e-05,\n",
              " 'warmup_ratio': 0.0,\n",
              " 'batch_size': 16}"
            ]
          },
          "metadata": {},
          "execution_count": 32
        }
      ]
    },
    {
      "cell_type": "code",
      "source": [
        "lora_model = model_init_lora(6)"
      ],
      "metadata": {
        "colab": {
          "base_uri": "https://localhost:8080/"
        },
        "id": "AIIextkS1SK_",
        "outputId": "0f206a4a-5d06-4d52-a357-021522d256a2"
      },
      "execution_count": 33,
      "outputs": [
        {
          "output_type": "stream",
          "name": "stderr",
          "text": [
            "Some weights of BertForSequenceClassification were not initialized from the model checkpoint at google-bert/bert-base-uncased and are newly initialized: ['classifier.bias', 'classifier.weight']\n",
            "You should probably TRAIN this model on a down-stream task to be able to use it for predictions and inference.\n"
          ]
        }
      ]
    },
    {
      "cell_type": "code",
      "source": [
        "training_args = TrainingArguments(\n",
        "        #output_dir=f\"./results/trial_{trial.number}\",\n",
        "        learning_rate=3e-05,\n",
        "        per_device_train_batch_size=16,\n",
        "        per_device_eval_batch_size=16,\n",
        "        num_train_epochs=6,\n",
        "        eval_strategy=\"epoch\",\n",
        "        save_strategy=\"epoch\",\n",
        "        load_best_model_at_end=True,\n",
        "        metric_for_best_model=\"f1\",\n",
        "        greater_is_better=True,\n",
        "        warmup_ratio=0,\n",
        "        #logging_dir=f\"./logs/trial_{trial.number}\",\n",
        "        report_to=[\"wandb\"],\n",
        "        #run_name=f\"trial_{trial.number}\",\n",
        "        logging_steps=50,\n",
        "        save_total_limit=2,\n",
        "        seed=42\n",
        "    )\n",
        "\n",
        "trainer = WeightedTrainer(\n",
        "        model=lora_model,\n",
        "        args=training_args,\n",
        "        train_dataset=train_dataset,\n",
        "        eval_dataset=val_dataset,\n",
        "        tokenizer=tokenizer,\n",
        "        compute_metrics=compute_metrics,\n",
        "        callbacks=[early_stopping],\n",
        "        class_weights=class_weights\n",
        "    )\n",
        "\n",
        "trainer.train()"
      ],
      "metadata": {
        "colab": {
          "base_uri": "https://localhost:8080/",
          "height": 418
        },
        "id": "q_0lRz3hLf3b",
        "outputId": "5e2e9432-1891-437a-a850-e474e45ba0a4"
      },
      "execution_count": 34,
      "outputs": [
        {
          "output_type": "stream",
          "name": "stderr",
          "text": [
            "/tmp/ipython-input-2755200925.py:3: FutureWarning: `tokenizer` is deprecated and will be removed in version 5.0.0 for `WeightedTrainer.__init__`. Use `processing_class` instead.\n",
            "  super().__init__(*args, **kwargs)\n"
          ]
        },
        {
          "output_type": "display_data",
          "data": {
            "text/plain": [
              "<IPython.core.display.HTML object>"
            ],
            "text/html": [
              "\n",
              "    <div>\n",
              "      \n",
              "      <progress value='4072' max='4072' style='width:300px; height:20px; vertical-align: middle;'></progress>\n",
              "      [4072/4072 18:16, Epoch 8/8]\n",
              "    </div>\n",
              "    <table border=\"1\" class=\"dataframe\">\n",
              "  <thead>\n",
              " <tr style=\"text-align: left;\">\n",
              "      <th>Epoch</th>\n",
              "      <th>Training Loss</th>\n",
              "      <th>Validation Loss</th>\n",
              "      <th>Accuracy</th>\n",
              "      <th>F1</th>\n",
              "      <th>Precision</th>\n",
              "      <th>Recall</th>\n",
              "    </tr>\n",
              "  </thead>\n",
              "  <tbody>\n",
              "    <tr>\n",
              "      <td>1</td>\n",
              "      <td>0.536200</td>\n",
              "      <td>0.452943</td>\n",
              "      <td>0.883858</td>\n",
              "      <td>0.351648</td>\n",
              "      <td>0.258065</td>\n",
              "      <td>0.551724</td>\n",
              "    </tr>\n",
              "    <tr>\n",
              "      <td>2</td>\n",
              "      <td>0.576800</td>\n",
              "      <td>0.433692</td>\n",
              "      <td>0.922244</td>\n",
              "      <td>0.447552</td>\n",
              "      <td>0.376471</td>\n",
              "      <td>0.551724</td>\n",
              "    </tr>\n",
              "    <tr>\n",
              "      <td>3</td>\n",
              "      <td>0.625800</td>\n",
              "      <td>0.599513</td>\n",
              "      <td>0.948819</td>\n",
              "      <td>0.458333</td>\n",
              "      <td>0.578947</td>\n",
              "      <td>0.379310</td>\n",
              "    </tr>\n",
              "    <tr>\n",
              "      <td>4</td>\n",
              "      <td>0.464400</td>\n",
              "      <td>0.404598</td>\n",
              "      <td>0.943898</td>\n",
              "      <td>0.551181</td>\n",
              "      <td>0.507246</td>\n",
              "      <td>0.603448</td>\n",
              "    </tr>\n",
              "    <tr>\n",
              "      <td>5</td>\n",
              "      <td>0.466700</td>\n",
              "      <td>0.416397</td>\n",
              "      <td>0.948819</td>\n",
              "      <td>0.559322</td>\n",
              "      <td>0.550000</td>\n",
              "      <td>0.568966</td>\n",
              "    </tr>\n",
              "    <tr>\n",
              "      <td>6</td>\n",
              "      <td>0.535100</td>\n",
              "      <td>0.401082</td>\n",
              "      <td>0.954724</td>\n",
              "      <td>0.603448</td>\n",
              "      <td>0.603448</td>\n",
              "      <td>0.603448</td>\n",
              "    </tr>\n",
              "    <tr>\n",
              "      <td>7</td>\n",
              "      <td>0.393700</td>\n",
              "      <td>0.398808</td>\n",
              "      <td>0.954724</td>\n",
              "      <td>0.603448</td>\n",
              "      <td>0.603448</td>\n",
              "      <td>0.603448</td>\n",
              "    </tr>\n",
              "    <tr>\n",
              "      <td>8</td>\n",
              "      <td>0.460200</td>\n",
              "      <td>0.370487</td>\n",
              "      <td>0.954724</td>\n",
              "      <td>0.616667</td>\n",
              "      <td>0.596774</td>\n",
              "      <td>0.637931</td>\n",
              "    </tr>\n",
              "  </tbody>\n",
              "</table><p>"
            ]
          },
          "metadata": {}
        },
        {
          "output_type": "execute_result",
          "data": {
            "text/plain": [
              "TrainOutput(global_step=4072, training_loss=0.524549515167716, metrics={'train_runtime': 1096.9943, 'train_samples_per_second': 59.304, 'train_steps_per_second': 3.712, 'total_flos': 4294049738096640.0, 'train_loss': 0.524549515167716, 'epoch': 8.0})"
            ]
          },
          "metadata": {},
          "execution_count": 34
        }
      ]
    },
    {
      "cell_type": "code",
      "source": [
        "trainer.evaluate(test_dataset)"
      ],
      "metadata": {
        "colab": {
          "base_uri": "https://localhost:8080/",
          "height": 198
        },
        "id": "BaUfPMMKLnEm",
        "outputId": "cbb44c48-0e9b-4e0f-cc96-e576ac1e5174"
      },
      "execution_count": 35,
      "outputs": [
        {
          "output_type": "display_data",
          "data": {
            "text/plain": [
              "<IPython.core.display.HTML object>"
            ],
            "text/html": [
              "\n",
              "    <div>\n",
              "      \n",
              "      <progress value='64' max='64' style='width:300px; height:20px; vertical-align: middle;'></progress>\n",
              "      [64/64 00:07]\n",
              "    </div>\n",
              "    "
            ]
          },
          "metadata": {}
        },
        {
          "output_type": "execute_result",
          "data": {
            "text/plain": [
              "{'eval_loss': 0.4931780993938446,\n",
              " 'eval_accuracy': 0.9262536873156342,\n",
              " 'eval_f1': 0.5341614906832298,\n",
              " 'eval_precision': 0.5,\n",
              " 'eval_recall': 0.5733333333333334,\n",
              " 'eval_runtime': 7.5961,\n",
              " 'eval_samples_per_second': 133.884,\n",
              " 'eval_steps_per_second': 8.425,\n",
              " 'epoch': 8.0}"
            ]
          },
          "metadata": {},
          "execution_count": 35
        }
      ]
    },
    {
      "cell_type": "markdown",
      "source": [
        "# Full fine-tuning"
      ],
      "metadata": {
        "id": "GsAcsnoFRDvx"
      }
    },
    {
      "cell_type": "code",
      "source": [
        "def full_model_init(trial):\n",
        "    return AutoModelForSequenceClassification.from_pretrained(\"google-bert/bert-base-uncased\", num_labels=2)"
      ],
      "metadata": {
        "id": "JnWJFnN8WG9Y"
      },
      "execution_count": 29,
      "outputs": []
    },
    {
      "cell_type": "code",
      "source": [
        "def full_objective(trial):\n",
        "    wandb.init(\n",
        "        project=\"bert-full-optuna\",\n",
        "        name=f\"trial_{trial.number}\",\n",
        "        reinit=True\n",
        "    )\n",
        "\n",
        "    # Sample hyperparameters\n",
        "    learning_rate = trial.suggest_categorical(\"learning_rate\", [1e-6,1e-5,3e-5] )\n",
        "    warmup_ratio = trial.suggest_categorical(\"warmup_ratio\", [0.0, 0.1])\n",
        "    batch_size = trial.suggest_categorical(\"batch_size\", [16, 32])\n",
        "\n",
        "    # Reinitialize base model every trial\n",
        "    #model = AutoModelForSequenceClassification.from_pretrained(\"google-bert/bert-base-uncased\", num_labels=2)\n",
        "\n",
        "    # Build training args\n",
        "    training_args = TrainingArguments(\n",
        "        output_dir=f\"./results/trial_{trial.number}\",\n",
        "        learning_rate=learning_rate,\n",
        "        per_device_train_batch_size=batch_size,\n",
        "        per_device_eval_batch_size=batch_size,\n",
        "        num_train_epochs=8,\n",
        "        eval_strategy=\"epoch\",\n",
        "        save_strategy=\"epoch\",\n",
        "        load_best_model_at_end=True,\n",
        "        metric_for_best_model=\"f1\",\n",
        "        greater_is_better=True,\n",
        "        warmup_ratio=warmup_ratio,\n",
        "        logging_dir=f\"./logs/trial_{trial.number}\",\n",
        "        report_to=[\"wandb\"],\n",
        "        run_name=f\"trial_{trial.number}\",\n",
        "        logging_steps=50,\n",
        "        save_total_limit=2,\n",
        "        seed=trial.number\n",
        "    )\n",
        "\n",
        "    trainer = WeightedTrainer(\n",
        "        model_init=full_model_init,\n",
        "        args=training_args,\n",
        "        train_dataset=train_dataset,\n",
        "        eval_dataset=val_dataset,\n",
        "        tokenizer=tokenizer,\n",
        "        compute_metrics=compute_metrics,\n",
        "        callbacks=[early_stopping],\n",
        "        class_weights=class_weights\n",
        "    )\n",
        "\n",
        "    trainer.train()\n",
        "    metrics = trainer.evaluate()\n",
        "    return metrics[\"eval_f1\"]\n"
      ],
      "metadata": {
        "id": "5KWaAEweRT9A"
      },
      "execution_count": 30,
      "outputs": []
    },
    {
      "cell_type": "code",
      "source": [
        "full_study = optuna.create_study(direction=\"maximize\")\n",
        "full_study.optimize(full_objective, n_trials=4)\n",
        "\n",
        "print(\"Best trial:\")\n",
        "print(full_study.best_trial.params)"
      ],
      "metadata": {
        "colab": {
          "base_uri": "https://localhost:8080/",
          "height": 1000
        },
        "id": "c36YbJxgSwZX",
        "outputId": "abad3f55-d053-43ca-ed44-5cc87343738f"
      },
      "execution_count": 31,
      "outputs": [
        {
          "output_type": "stream",
          "name": "stderr",
          "text": [
            "[I 2025-10-17 11:03:29,668] A new study created in memory with name: no-name-7e3acc5d-15da-4f1a-b490-739f7d60a389\n"
          ]
        },
        {
          "output_type": "display_data",
          "data": {
            "text/plain": [
              "<IPython.core.display.HTML object>"
            ],
            "text/html": [
              "Finishing previous runs because reinit is set to True."
            ]
          },
          "metadata": {}
        },
        {
          "output_type": "display_data",
          "data": {
            "text/plain": [
              "<IPython.core.display.HTML object>"
            ],
            "text/html": []
          },
          "metadata": {}
        },
        {
          "output_type": "display_data",
          "data": {
            "text/plain": [
              "<IPython.core.display.HTML object>"
            ],
            "text/html": [
              "<br>    <style><br>        .wandb-row {<br>            display: flex;<br>            flex-direction: row;<br>            flex-wrap: wrap;<br>            justify-content: flex-start;<br>            width: 100%;<br>        }<br>        .wandb-col {<br>            display: flex;<br>            flex-direction: column;<br>            flex-basis: 100%;<br>            flex: 1;<br>            padding: 10px;<br>        }<br>    </style><br><div class=\"wandb-row\"><div class=\"wandb-col\"><h3>Run history:</h3><br/><table class=\"wandb\"><tr><td>eval/accuracy</td><td>▁▅███████</td></tr><tr><td>eval/f1</td><td>▁▄▇▇▇████</td></tr><tr><td>eval/loss</td><td>█▅▃▂▁▁▁▁▁</td></tr><tr><td>eval/precision</td><td>▁▃▇▇▇████</td></tr><tr><td>eval/recall</td><td>▁▃▆██▇██▇</td></tr><tr><td>eval/runtime</td><td>▅▂█▃▁▅▄▂▅</td></tr><tr><td>eval/samples_per_second</td><td>▄▇▁▆█▄▄▇▄</td></tr><tr><td>eval/steps_per_second</td><td>▄▇▁▆█▄▅▇▄</td></tr><tr><td>train/epoch</td><td>▁▁▂▂▂▂▂▂▃▃▃▃▃▃▄▄▄▄▄▄▅▅▅▅▅▆▆▆▆▆▆▇▇▇▇▇████</td></tr><tr><td>train/global_step</td><td>▁▁▁▂▂▂▂▂▃▃▃▃▃▃▄▄▄▄▄▄▅▅▅▅▅▆▆▆▆▆▇▇▇▇▇█████</td></tr><tr><td>+3</td><td>...</td></tr></table><br/></div><div class=\"wandb-col\"><h3>Run summary:</h3><br/><table class=\"wandb\"><tr><td>eval/accuracy</td><td>0.91634</td></tr><tr><td>eval/f1</td><td>0.54054</td></tr><tr><td>eval/loss</td><td>0.25217</td></tr><tr><td>eval/precision</td><td>0.3937</td></tr><tr><td>eval/recall</td><td>0.86207</td></tr><tr><td>eval/runtime</td><td>7.1371</td></tr><tr><td>eval/samples_per_second</td><td>142.355</td></tr><tr><td>eval/steps_per_second</td><td>4.484</td></tr><tr><td>total_flos</td><td>4294049738096640.0</td></tr><tr><td>train/epoch</td><td>8</td></tr><tr><td>+8</td><td>...</td></tr></table><br/></div></div>"
            ]
          },
          "metadata": {}
        },
        {
          "output_type": "display_data",
          "data": {
            "text/plain": [
              "<IPython.core.display.HTML object>"
            ],
            "text/html": [
              " View run <strong style=\"color:#cdcd00\">trial_7</strong> at: <a href='https://wandb.ai/cassieyfd-/bert-lora-optuna/runs/2bcw7ntg' target=\"_blank\">https://wandb.ai/cassieyfd-/bert-lora-optuna/runs/2bcw7ntg</a><br> View project at: <a href='https://wandb.ai/cassieyfd-/bert-lora-optuna' target=\"_blank\">https://wandb.ai/cassieyfd-/bert-lora-optuna</a><br>Synced 5 W&B file(s), 0 media file(s), 0 artifact file(s) and 0 other file(s)"
            ]
          },
          "metadata": {}
        },
        {
          "output_type": "display_data",
          "data": {
            "text/plain": [
              "<IPython.core.display.HTML object>"
            ],
            "text/html": [
              "Find logs at: <code>./wandb/run-20251017_104352-2bcw7ntg/logs</code>"
            ]
          },
          "metadata": {}
        },
        {
          "output_type": "display_data",
          "data": {
            "text/plain": [
              "<IPython.core.display.HTML object>"
            ],
            "text/html": []
          },
          "metadata": {}
        },
        {
          "output_type": "display_data",
          "data": {
            "text/plain": [
              "<IPython.core.display.HTML object>"
            ],
            "text/html": [
              "Tracking run with wandb version 0.22.2"
            ]
          },
          "metadata": {}
        },
        {
          "output_type": "display_data",
          "data": {
            "text/plain": [
              "<IPython.core.display.HTML object>"
            ],
            "text/html": [
              "Run data is saved locally in <code>/content/wandb/run-20251017_110329-azrnd7mi</code>"
            ]
          },
          "metadata": {}
        },
        {
          "output_type": "display_data",
          "data": {
            "text/plain": [
              "<IPython.core.display.HTML object>"
            ],
            "text/html": [
              "Syncing run <strong><a href='https://wandb.ai/cassieyfd-/bert-full-optuna/runs/azrnd7mi' target=\"_blank\">trial_0</a></strong> to <a href='https://wandb.ai/cassieyfd-/bert-full-optuna' target=\"_blank\">Weights & Biases</a> (<a href='https://wandb.me/developer-guide' target=\"_blank\">docs</a>)<br>"
            ]
          },
          "metadata": {}
        },
        {
          "output_type": "display_data",
          "data": {
            "text/plain": [
              "<IPython.core.display.HTML object>"
            ],
            "text/html": [
              " View project at <a href='https://wandb.ai/cassieyfd-/bert-full-optuna' target=\"_blank\">https://wandb.ai/cassieyfd-/bert-full-optuna</a>"
            ]
          },
          "metadata": {}
        },
        {
          "output_type": "display_data",
          "data": {
            "text/plain": [
              "<IPython.core.display.HTML object>"
            ],
            "text/html": [
              " View run at <a href='https://wandb.ai/cassieyfd-/bert-full-optuna/runs/azrnd7mi' target=\"_blank\">https://wandb.ai/cassieyfd-/bert-full-optuna/runs/azrnd7mi</a>"
            ]
          },
          "metadata": {}
        },
        {
          "output_type": "stream",
          "name": "stderr",
          "text": [
            "/tmp/ipython-input-2755200925.py:3: FutureWarning: `tokenizer` is deprecated and will be removed in version 5.0.0 for `WeightedTrainer.__init__`. Use `processing_class` instead.\n",
            "  super().__init__(*args, **kwargs)\n",
            "Some weights of BertForSequenceClassification were not initialized from the model checkpoint at google-bert/bert-base-uncased and are newly initialized: ['classifier.bias', 'classifier.weight']\n",
            "You should probably TRAIN this model on a down-stream task to be able to use it for predictions and inference.\n",
            "Some weights of BertForSequenceClassification were not initialized from the model checkpoint at google-bert/bert-base-uncased and are newly initialized: ['classifier.bias', 'classifier.weight']\n",
            "You should probably TRAIN this model on a down-stream task to be able to use it for predictions and inference.\n"
          ]
        },
        {
          "output_type": "display_data",
          "data": {
            "text/plain": [
              "<IPython.core.display.HTML object>"
            ],
            "text/html": [
              "\n",
              "    <div>\n",
              "      \n",
              "      <progress value='1785' max='2040' style='width:300px; height:20px; vertical-align: middle;'></progress>\n",
              "      [1785/2040 27:01 < 03:51, 1.10 it/s, Epoch 7/8]\n",
              "    </div>\n",
              "    <table border=\"1\" class=\"dataframe\">\n",
              "  <thead>\n",
              " <tr style=\"text-align: left;\">\n",
              "      <th>Epoch</th>\n",
              "      <th>Training Loss</th>\n",
              "      <th>Validation Loss</th>\n",
              "      <th>Accuracy</th>\n",
              "      <th>F1</th>\n",
              "      <th>Precision</th>\n",
              "      <th>Recall</th>\n",
              "    </tr>\n",
              "  </thead>\n",
              "  <tbody>\n",
              "    <tr>\n",
              "      <td>1</td>\n",
              "      <td>0.416900</td>\n",
              "      <td>0.238278</td>\n",
              "      <td>0.953740</td>\n",
              "      <td>0.680272</td>\n",
              "      <td>0.561798</td>\n",
              "      <td>0.862069</td>\n",
              "    </tr>\n",
              "    <tr>\n",
              "      <td>2</td>\n",
              "      <td>0.261700</td>\n",
              "      <td>0.246220</td>\n",
              "      <td>0.972441</td>\n",
              "      <td>0.762712</td>\n",
              "      <td>0.750000</td>\n",
              "      <td>0.775862</td>\n",
              "    </tr>\n",
              "    <tr>\n",
              "      <td>3</td>\n",
              "      <td>0.166200</td>\n",
              "      <td>0.237955</td>\n",
              "      <td>0.970472</td>\n",
              "      <td>0.769231</td>\n",
              "      <td>0.694444</td>\n",
              "      <td>0.862069</td>\n",
              "    </tr>\n",
              "    <tr>\n",
              "      <td>4</td>\n",
              "      <td>0.133700</td>\n",
              "      <td>0.299136</td>\n",
              "      <td>0.977362</td>\n",
              "      <td>0.806723</td>\n",
              "      <td>0.786885</td>\n",
              "      <td>0.827586</td>\n",
              "    </tr>\n",
              "    <tr>\n",
              "      <td>5</td>\n",
              "      <td>0.073700</td>\n",
              "      <td>0.348467</td>\n",
              "      <td>0.980315</td>\n",
              "      <td>0.824561</td>\n",
              "      <td>0.839286</td>\n",
              "      <td>0.810345</td>\n",
              "    </tr>\n",
              "    <tr>\n",
              "      <td>6</td>\n",
              "      <td>0.122700</td>\n",
              "      <td>0.389272</td>\n",
              "      <td>0.979331</td>\n",
              "      <td>0.817391</td>\n",
              "      <td>0.824561</td>\n",
              "      <td>0.810345</td>\n",
              "    </tr>\n",
              "    <tr>\n",
              "      <td>7</td>\n",
              "      <td>0.023300</td>\n",
              "      <td>0.447210</td>\n",
              "      <td>0.978346</td>\n",
              "      <td>0.807018</td>\n",
              "      <td>0.821429</td>\n",
              "      <td>0.793103</td>\n",
              "    </tr>\n",
              "  </tbody>\n",
              "</table><p>"
            ]
          },
          "metadata": {}
        },
        {
          "output_type": "display_data",
          "data": {
            "text/plain": [
              "<IPython.core.display.HTML object>"
            ],
            "text/html": [
              "\n",
              "    <div>\n",
              "      \n",
              "      <progress value='32' max='32' style='width:300px; height:20px; vertical-align: middle;'></progress>\n",
              "      [32/32 00:06]\n",
              "    </div>\n",
              "    "
            ]
          },
          "metadata": {}
        },
        {
          "output_type": "stream",
          "name": "stderr",
          "text": [
            "[I 2025-10-17 11:30:42,807] Trial 0 finished with value: 0.8245614035087719 and parameters: {'learning_rate': 1e-05, 'warmup_ratio': 0.0, 'batch_size': 32}. Best is trial 0 with value: 0.8245614035087719.\n"
          ]
        },
        {
          "output_type": "display_data",
          "data": {
            "text/plain": [
              "<IPython.core.display.HTML object>"
            ],
            "text/html": [
              "Finishing previous runs because reinit is set to True."
            ]
          },
          "metadata": {}
        },
        {
          "output_type": "display_data",
          "data": {
            "text/plain": [
              "<IPython.core.display.HTML object>"
            ],
            "text/html": []
          },
          "metadata": {}
        },
        {
          "output_type": "display_data",
          "data": {
            "text/plain": [
              "<IPython.core.display.HTML object>"
            ],
            "text/html": [
              "<br>    <style><br>        .wandb-row {<br>            display: flex;<br>            flex-direction: row;<br>            flex-wrap: wrap;<br>            justify-content: flex-start;<br>            width: 100%;<br>        }<br>        .wandb-col {<br>            display: flex;<br>            flex-direction: column;<br>            flex-basis: 100%;<br>            flex: 1;<br>            padding: 10px;<br>        }<br>    </style><br><div class=\"wandb-row\"><div class=\"wandb-col\"><h3>Run history:</h3><br/><table class=\"wandb\"><tr><td>eval/accuracy</td><td>▁▆▅▇██▇█</td></tr><tr><td>eval/f1</td><td>▁▅▅▇██▇█</td></tr><tr><td>eval/loss</td><td>▁▁▁▃▅▆█▅</td></tr><tr><td>eval/precision</td><td>▁▆▄▇████</td></tr><tr><td>eval/recall</td><td>█▁█▅▄▄▂▄</td></tr><tr><td>eval/runtime</td><td>▆▆▁▄▃▆▆█</td></tr><tr><td>eval/samples_per_second</td><td>▃▃█▅▆▃▃▁</td></tr><tr><td>eval/steps_per_second</td><td>▃▃█▅▆▃▃▁</td></tr><tr><td>train/epoch</td><td>▁▁▁▂▂▂▂▂▂▃▃▃▃▃▄▄▄▄▄▄▅▅▅▅▅▆▆▆▆▆▇▇▇▇▇▇████</td></tr><tr><td>train/global_step</td><td>▁▁▁▂▂▂▂▂▂▃▃▃▃▃▄▄▄▄▄▄▅▅▅▅▅▆▆▆▆▆▇▇▇▇▇▇████</td></tr><tr><td>+3</td><td>...</td></tr></table><br/></div><div class=\"wandb-col\"><h3>Run summary:</h3><br/><table class=\"wandb\"><tr><td>eval/accuracy</td><td>0.98031</td></tr><tr><td>eval/f1</td><td>0.82456</td></tr><tr><td>eval/loss</td><td>0.34847</td></tr><tr><td>eval/precision</td><td>0.83929</td></tr><tr><td>eval/recall</td><td>0.81034</td></tr><tr><td>eval/runtime</td><td>6.8412</td></tr><tr><td>eval/samples_per_second</td><td>148.511</td></tr><tr><td>eval/steps_per_second</td><td>4.678</td></tr><tr><td>total_flos</td><td>3744333428828160.0</td></tr><tr><td>train/epoch</td><td>7</td></tr><tr><td>+8</td><td>...</td></tr></table><br/></div></div>"
            ]
          },
          "metadata": {}
        },
        {
          "output_type": "display_data",
          "data": {
            "text/plain": [
              "<IPython.core.display.HTML object>"
            ],
            "text/html": [
              " View run <strong style=\"color:#cdcd00\">trial_0</strong> at: <a href='https://wandb.ai/cassieyfd-/bert-full-optuna/runs/azrnd7mi' target=\"_blank\">https://wandb.ai/cassieyfd-/bert-full-optuna/runs/azrnd7mi</a><br> View project at: <a href='https://wandb.ai/cassieyfd-/bert-full-optuna' target=\"_blank\">https://wandb.ai/cassieyfd-/bert-full-optuna</a><br>Synced 5 W&B file(s), 0 media file(s), 0 artifact file(s) and 0 other file(s)"
            ]
          },
          "metadata": {}
        },
        {
          "output_type": "display_data",
          "data": {
            "text/plain": [
              "<IPython.core.display.HTML object>"
            ],
            "text/html": [
              "Find logs at: <code>./wandb/run-20251017_110329-azrnd7mi/logs</code>"
            ]
          },
          "metadata": {}
        },
        {
          "output_type": "display_data",
          "data": {
            "text/plain": [
              "<IPython.core.display.HTML object>"
            ],
            "text/html": []
          },
          "metadata": {}
        },
        {
          "output_type": "display_data",
          "data": {
            "text/plain": [
              "<IPython.core.display.HTML object>"
            ],
            "text/html": [
              "Tracking run with wandb version 0.22.2"
            ]
          },
          "metadata": {}
        },
        {
          "output_type": "display_data",
          "data": {
            "text/plain": [
              "<IPython.core.display.HTML object>"
            ],
            "text/html": [
              "Run data is saved locally in <code>/content/wandb/run-20251017_113042-2rdhkzc4</code>"
            ]
          },
          "metadata": {}
        },
        {
          "output_type": "display_data",
          "data": {
            "text/plain": [
              "<IPython.core.display.HTML object>"
            ],
            "text/html": [
              "Syncing run <strong><a href='https://wandb.ai/cassieyfd-/bert-full-optuna/runs/2rdhkzc4' target=\"_blank\">trial_1</a></strong> to <a href='https://wandb.ai/cassieyfd-/bert-full-optuna' target=\"_blank\">Weights & Biases</a> (<a href='https://wandb.me/developer-guide' target=\"_blank\">docs</a>)<br>"
            ]
          },
          "metadata": {}
        },
        {
          "output_type": "display_data",
          "data": {
            "text/plain": [
              "<IPython.core.display.HTML object>"
            ],
            "text/html": [
              " View project at <a href='https://wandb.ai/cassieyfd-/bert-full-optuna' target=\"_blank\">https://wandb.ai/cassieyfd-/bert-full-optuna</a>"
            ]
          },
          "metadata": {}
        },
        {
          "output_type": "display_data",
          "data": {
            "text/plain": [
              "<IPython.core.display.HTML object>"
            ],
            "text/html": [
              " View run at <a href='https://wandb.ai/cassieyfd-/bert-full-optuna/runs/2rdhkzc4' target=\"_blank\">https://wandb.ai/cassieyfd-/bert-full-optuna/runs/2rdhkzc4</a>"
            ]
          },
          "metadata": {}
        },
        {
          "output_type": "stream",
          "name": "stderr",
          "text": [
            "/tmp/ipython-input-2755200925.py:3: FutureWarning: `tokenizer` is deprecated and will be removed in version 5.0.0 for `WeightedTrainer.__init__`. Use `processing_class` instead.\n",
            "  super().__init__(*args, **kwargs)\n",
            "Some weights of BertForSequenceClassification were not initialized from the model checkpoint at google-bert/bert-base-uncased and are newly initialized: ['classifier.bias', 'classifier.weight']\n",
            "You should probably TRAIN this model on a down-stream task to be able to use it for predictions and inference.\n",
            "Some weights of BertForSequenceClassification were not initialized from the model checkpoint at google-bert/bert-base-uncased and are newly initialized: ['classifier.bias', 'classifier.weight']\n",
            "You should probably TRAIN this model on a down-stream task to be able to use it for predictions and inference.\n"
          ]
        },
        {
          "output_type": "display_data",
          "data": {
            "text/plain": [
              "<IPython.core.display.HTML object>"
            ],
            "text/html": [
              "\n",
              "    <div>\n",
              "      \n",
              "      <progress value='1275' max='2040' style='width:300px; height:20px; vertical-align: middle;'></progress>\n",
              "      [1275/2040 19:32 < 11:44, 1.09 it/s, Epoch 5/8]\n",
              "    </div>\n",
              "    <table border=\"1\" class=\"dataframe\">\n",
              "  <thead>\n",
              " <tr style=\"text-align: left;\">\n",
              "      <th>Epoch</th>\n",
              "      <th>Training Loss</th>\n",
              "      <th>Validation Loss</th>\n",
              "      <th>Accuracy</th>\n",
              "      <th>F1</th>\n",
              "      <th>Precision</th>\n",
              "      <th>Recall</th>\n",
              "    </tr>\n",
              "  </thead>\n",
              "  <tbody>\n",
              "    <tr>\n",
              "      <td>1</td>\n",
              "      <td>0.350500</td>\n",
              "      <td>0.248169</td>\n",
              "      <td>0.975394</td>\n",
              "      <td>0.786325</td>\n",
              "      <td>0.779661</td>\n",
              "      <td>0.793103</td>\n",
              "    </tr>\n",
              "    <tr>\n",
              "      <td>2</td>\n",
              "      <td>0.196300</td>\n",
              "      <td>0.231124</td>\n",
              "      <td>0.970472</td>\n",
              "      <td>0.769231</td>\n",
              "      <td>0.694444</td>\n",
              "      <td>0.862069</td>\n",
              "    </tr>\n",
              "    <tr>\n",
              "      <td>3</td>\n",
              "      <td>0.190000</td>\n",
              "      <td>0.271414</td>\n",
              "      <td>0.978346</td>\n",
              "      <td>0.810345</td>\n",
              "      <td>0.810345</td>\n",
              "      <td>0.810345</td>\n",
              "    </tr>\n",
              "    <tr>\n",
              "      <td>4</td>\n",
              "      <td>0.073600</td>\n",
              "      <td>0.447467</td>\n",
              "      <td>0.977362</td>\n",
              "      <td>0.788991</td>\n",
              "      <td>0.843137</td>\n",
              "      <td>0.741379</td>\n",
              "    </tr>\n",
              "    <tr>\n",
              "      <td>5</td>\n",
              "      <td>0.094500</td>\n",
              "      <td>0.446993</td>\n",
              "      <td>0.979331</td>\n",
              "      <td>0.807339</td>\n",
              "      <td>0.862745</td>\n",
              "      <td>0.758621</td>\n",
              "    </tr>\n",
              "  </tbody>\n",
              "</table><p>"
            ]
          },
          "metadata": {}
        },
        {
          "output_type": "display_data",
          "data": {
            "text/plain": [
              "<IPython.core.display.HTML object>"
            ],
            "text/html": [
              "\n",
              "    <div>\n",
              "      \n",
              "      <progress value='32' max='32' style='width:300px; height:20px; vertical-align: middle;'></progress>\n",
              "      [32/32 00:06]\n",
              "    </div>\n",
              "    "
            ]
          },
          "metadata": {}
        },
        {
          "output_type": "stream",
          "name": "stderr",
          "text": [
            "[I 2025-10-17 11:50:27,592] Trial 1 finished with value: 0.8103448275862069 and parameters: {'learning_rate': 3e-05, 'warmup_ratio': 0.0, 'batch_size': 32}. Best is trial 0 with value: 0.8245614035087719.\n"
          ]
        },
        {
          "output_type": "display_data",
          "data": {
            "text/plain": [
              "<IPython.core.display.HTML object>"
            ],
            "text/html": [
              "Finishing previous runs because reinit is set to True."
            ]
          },
          "metadata": {}
        },
        {
          "output_type": "display_data",
          "data": {
            "text/plain": [
              "<IPython.core.display.HTML object>"
            ],
            "text/html": []
          },
          "metadata": {}
        },
        {
          "output_type": "display_data",
          "data": {
            "text/plain": [
              "<IPython.core.display.HTML object>"
            ],
            "text/html": [
              "<br>    <style><br>        .wandb-row {<br>            display: flex;<br>            flex-direction: row;<br>            flex-wrap: wrap;<br>            justify-content: flex-start;<br>            width: 100%;<br>        }<br>        .wandb-col {<br>            display: flex;<br>            flex-direction: column;<br>            flex-basis: 100%;<br>            flex: 1;<br>            padding: 10px;<br>        }<br>    </style><br><div class=\"wandb-row\"><div class=\"wandb-col\"><h3>Run history:</h3><br/><table class=\"wandb\"><tr><td>eval/accuracy</td><td>▅▁▇▆█▇</td></tr><tr><td>eval/f1</td><td>▄▁█▄▇█</td></tr><tr><td>eval/loss</td><td>▂▁▂██▂</td></tr><tr><td>eval/precision</td><td>▅▁▆▇█▆</td></tr><tr><td>eval/recall</td><td>▄█▅▁▂▅</td></tr><tr><td>eval/runtime</td><td>█▆▃▁▄▄</td></tr><tr><td>eval/samples_per_second</td><td>▁▃▆█▅▅</td></tr><tr><td>eval/steps_per_second</td><td>▁▃▆█▅▅</td></tr><tr><td>train/epoch</td><td>▁▁▂▂▂▂▂▃▃▃▄▄▄▄▄▅▅▅▅▆▆▆▆▇▇▇▇█████</td></tr><tr><td>train/global_step</td><td>▁▁▂▂▂▂▂▃▃▃▄▄▄▄▄▅▅▅▅▆▆▆▆▇▇▇▇█████</td></tr><tr><td>+3</td><td>...</td></tr></table><br/></div><div class=\"wandb-col\"><h3>Run summary:</h3><br/><table class=\"wandb\"><tr><td>eval/accuracy</td><td>0.97835</td></tr><tr><td>eval/f1</td><td>0.81034</td></tr><tr><td>eval/loss</td><td>0.27141</td></tr><tr><td>eval/precision</td><td>0.81034</td></tr><tr><td>eval/recall</td><td>0.81034</td></tr><tr><td>eval/runtime</td><td>6.786</td></tr><tr><td>eval/samples_per_second</td><td>149.72</td></tr><tr><td>eval/steps_per_second</td><td>4.716</td></tr><tr><td>total_flos</td><td>2674523877734400.0</td></tr><tr><td>train/epoch</td><td>5</td></tr><tr><td>+8</td><td>...</td></tr></table><br/></div></div>"
            ]
          },
          "metadata": {}
        },
        {
          "output_type": "display_data",
          "data": {
            "text/plain": [
              "<IPython.core.display.HTML object>"
            ],
            "text/html": [
              " View run <strong style=\"color:#cdcd00\">trial_1</strong> at: <a href='https://wandb.ai/cassieyfd-/bert-full-optuna/runs/2rdhkzc4' target=\"_blank\">https://wandb.ai/cassieyfd-/bert-full-optuna/runs/2rdhkzc4</a><br> View project at: <a href='https://wandb.ai/cassieyfd-/bert-full-optuna' target=\"_blank\">https://wandb.ai/cassieyfd-/bert-full-optuna</a><br>Synced 5 W&B file(s), 0 media file(s), 0 artifact file(s) and 0 other file(s)"
            ]
          },
          "metadata": {}
        },
        {
          "output_type": "display_data",
          "data": {
            "text/plain": [
              "<IPython.core.display.HTML object>"
            ],
            "text/html": [
              "Find logs at: <code>./wandb/run-20251017_113042-2rdhkzc4/logs</code>"
            ]
          },
          "metadata": {}
        },
        {
          "output_type": "display_data",
          "data": {
            "text/plain": [
              "<IPython.core.display.HTML object>"
            ],
            "text/html": []
          },
          "metadata": {}
        },
        {
          "output_type": "display_data",
          "data": {
            "text/plain": [
              "<IPython.core.display.HTML object>"
            ],
            "text/html": [
              "Tracking run with wandb version 0.22.2"
            ]
          },
          "metadata": {}
        },
        {
          "output_type": "display_data",
          "data": {
            "text/plain": [
              "<IPython.core.display.HTML object>"
            ],
            "text/html": [
              "Run data is saved locally in <code>/content/wandb/run-20251017_115027-de4mq9w5</code>"
            ]
          },
          "metadata": {}
        },
        {
          "output_type": "display_data",
          "data": {
            "text/plain": [
              "<IPython.core.display.HTML object>"
            ],
            "text/html": [
              "Syncing run <strong><a href='https://wandb.ai/cassieyfd-/bert-full-optuna/runs/de4mq9w5' target=\"_blank\">trial_2</a></strong> to <a href='https://wandb.ai/cassieyfd-/bert-full-optuna' target=\"_blank\">Weights & Biases</a> (<a href='https://wandb.me/developer-guide' target=\"_blank\">docs</a>)<br>"
            ]
          },
          "metadata": {}
        },
        {
          "output_type": "display_data",
          "data": {
            "text/plain": [
              "<IPython.core.display.HTML object>"
            ],
            "text/html": [
              " View project at <a href='https://wandb.ai/cassieyfd-/bert-full-optuna' target=\"_blank\">https://wandb.ai/cassieyfd-/bert-full-optuna</a>"
            ]
          },
          "metadata": {}
        },
        {
          "output_type": "display_data",
          "data": {
            "text/plain": [
              "<IPython.core.display.HTML object>"
            ],
            "text/html": [
              " View run at <a href='https://wandb.ai/cassieyfd-/bert-full-optuna/runs/de4mq9w5' target=\"_blank\">https://wandb.ai/cassieyfd-/bert-full-optuna/runs/de4mq9w5</a>"
            ]
          },
          "metadata": {}
        },
        {
          "output_type": "stream",
          "name": "stderr",
          "text": [
            "/tmp/ipython-input-2755200925.py:3: FutureWarning: `tokenizer` is deprecated and will be removed in version 5.0.0 for `WeightedTrainer.__init__`. Use `processing_class` instead.\n",
            "  super().__init__(*args, **kwargs)\n",
            "Some weights of BertForSequenceClassification were not initialized from the model checkpoint at google-bert/bert-base-uncased and are newly initialized: ['classifier.bias', 'classifier.weight']\n",
            "You should probably TRAIN this model on a down-stream task to be able to use it for predictions and inference.\n",
            "Some weights of BertForSequenceClassification were not initialized from the model checkpoint at google-bert/bert-base-uncased and are newly initialized: ['classifier.bias', 'classifier.weight']\n",
            "You should probably TRAIN this model on a down-stream task to be able to use it for predictions and inference.\n"
          ]
        },
        {
          "output_type": "display_data",
          "data": {
            "text/plain": [
              "<IPython.core.display.HTML object>"
            ],
            "text/html": [
              "\n",
              "    <div>\n",
              "      \n",
              "      <progress value='3563' max='4072' style='width:300px; height:20px; vertical-align: middle;'></progress>\n",
              "      [3563/4072 26:55 < 03:50, 2.20 it/s, Epoch 7/8]\n",
              "    </div>\n",
              "    <table border=\"1\" class=\"dataframe\">\n",
              "  <thead>\n",
              " <tr style=\"text-align: left;\">\n",
              "      <th>Epoch</th>\n",
              "      <th>Training Loss</th>\n",
              "      <th>Validation Loss</th>\n",
              "      <th>Accuracy</th>\n",
              "      <th>F1</th>\n",
              "      <th>Precision</th>\n",
              "      <th>Recall</th>\n",
              "    </tr>\n",
              "  </thead>\n",
              "  <tbody>\n",
              "    <tr>\n",
              "      <td>1</td>\n",
              "      <td>0.381100</td>\n",
              "      <td>0.416637</td>\n",
              "      <td>0.968504</td>\n",
              "      <td>0.686275</td>\n",
              "      <td>0.795455</td>\n",
              "      <td>0.603448</td>\n",
              "    </tr>\n",
              "    <tr>\n",
              "      <td>2</td>\n",
              "      <td>0.313300</td>\n",
              "      <td>0.315756</td>\n",
              "      <td>0.973425</td>\n",
              "      <td>0.765217</td>\n",
              "      <td>0.771930</td>\n",
              "      <td>0.758621</td>\n",
              "    </tr>\n",
              "    <tr>\n",
              "      <td>3</td>\n",
              "      <td>0.239400</td>\n",
              "      <td>0.374399</td>\n",
              "      <td>0.975394</td>\n",
              "      <td>0.778761</td>\n",
              "      <td>0.800000</td>\n",
              "      <td>0.758621</td>\n",
              "    </tr>\n",
              "    <tr>\n",
              "      <td>4</td>\n",
              "      <td>0.191900</td>\n",
              "      <td>0.352422</td>\n",
              "      <td>0.973425</td>\n",
              "      <td>0.773109</td>\n",
              "      <td>0.754098</td>\n",
              "      <td>0.793103</td>\n",
              "    </tr>\n",
              "    <tr>\n",
              "      <td>5</td>\n",
              "      <td>0.105800</td>\n",
              "      <td>0.407289</td>\n",
              "      <td>0.977362</td>\n",
              "      <td>0.796460</td>\n",
              "      <td>0.818182</td>\n",
              "      <td>0.775862</td>\n",
              "    </tr>\n",
              "    <tr>\n",
              "      <td>6</td>\n",
              "      <td>0.006400</td>\n",
              "      <td>0.520913</td>\n",
              "      <td>0.977362</td>\n",
              "      <td>0.788991</td>\n",
              "      <td>0.843137</td>\n",
              "      <td>0.741379</td>\n",
              "    </tr>\n",
              "    <tr>\n",
              "      <td>7</td>\n",
              "      <td>0.091500</td>\n",
              "      <td>0.546155</td>\n",
              "      <td>0.977362</td>\n",
              "      <td>0.788991</td>\n",
              "      <td>0.843137</td>\n",
              "      <td>0.741379</td>\n",
              "    </tr>\n",
              "  </tbody>\n",
              "</table><p>"
            ]
          },
          "metadata": {}
        },
        {
          "output_type": "display_data",
          "data": {
            "text/plain": [
              "<IPython.core.display.HTML object>"
            ],
            "text/html": [
              "\n",
              "    <div>\n",
              "      \n",
              "      <progress value='64' max='64' style='width:300px; height:20px; vertical-align: middle;'></progress>\n",
              "      [64/64 00:07]\n",
              "    </div>\n",
              "    "
            ]
          },
          "metadata": {}
        },
        {
          "output_type": "stream",
          "name": "stderr",
          "text": [
            "[I 2025-10-17 12:17:34,898] Trial 2 finished with value: 0.7964601769911505 and parameters: {'learning_rate': 1e-05, 'warmup_ratio': 0.0, 'batch_size': 16}. Best is trial 0 with value: 0.8245614035087719.\n"
          ]
        },
        {
          "output_type": "display_data",
          "data": {
            "text/plain": [
              "<IPython.core.display.HTML object>"
            ],
            "text/html": [
              "Finishing previous runs because reinit is set to True."
            ]
          },
          "metadata": {}
        },
        {
          "output_type": "display_data",
          "data": {
            "text/plain": [
              "<IPython.core.display.HTML object>"
            ],
            "text/html": []
          },
          "metadata": {}
        },
        {
          "output_type": "display_data",
          "data": {
            "text/plain": [
              "<IPython.core.display.HTML object>"
            ],
            "text/html": [
              "<br>    <style><br>        .wandb-row {<br>            display: flex;<br>            flex-direction: row;<br>            flex-wrap: wrap;<br>            justify-content: flex-start;<br>            width: 100%;<br>        }<br>        .wandb-col {<br>            display: flex;<br>            flex-direction: column;<br>            flex-basis: 100%;<br>            flex: 1;<br>            padding: 10px;<br>        }<br>    </style><br><div class=\"wandb-row\"><div class=\"wandb-col\"><h3>Run history:</h3><br/><table class=\"wandb\"><tr><td>eval/accuracy</td><td>▁▅▆▅████</td></tr><tr><td>eval/f1</td><td>▁▆▇▇████</td></tr><tr><td>eval/loss</td><td>▄▁▃▂▄▇█▄</td></tr><tr><td>eval/precision</td><td>▄▂▅▁▆██▆</td></tr><tr><td>eval/recall</td><td>▁▇▇█▇▆▆▇</td></tr><tr><td>eval/runtime</td><td>█▅▄▃▃▄▁▂</td></tr><tr><td>eval/samples_per_second</td><td>▁▄▅▆▆▅█▇</td></tr><tr><td>eval/steps_per_second</td><td>▁▄▅▆▆▅█▇</td></tr><tr><td>train/epoch</td><td>▁▁▁▁▂▂▂▂▂▃▃▃▃▃▃▃▄▄▄▄▄▄▅▅▅▅▆▆▆▆▆▆▆▇▇▇▇███</td></tr><tr><td>train/global_step</td><td>▁▁▁▁▁▂▂▂▂▂▃▃▃▃▃▃▄▄▄▄▅▅▅▅▅▅▅▆▆▆▇▇▇▇▇█████</td></tr><tr><td>+3</td><td>...</td></tr></table><br/></div><div class=\"wandb-col\"><h3>Run summary:</h3><br/><table class=\"wandb\"><tr><td>eval/accuracy</td><td>0.97736</td></tr><tr><td>eval/f1</td><td>0.79646</td></tr><tr><td>eval/loss</td><td>0.40729</td></tr><tr><td>eval/precision</td><td>0.81818</td></tr><tr><td>eval/recall</td><td>0.77586</td></tr><tr><td>eval/runtime</td><td>7.2449</td></tr><tr><td>eval/samples_per_second</td><td>140.236</td></tr><tr><td>eval/steps_per_second</td><td>8.834</td></tr><tr><td>total_flos</td><td>3744333428828160.0</td></tr><tr><td>train/epoch</td><td>7</td></tr><tr><td>+8</td><td>...</td></tr></table><br/></div></div>"
            ]
          },
          "metadata": {}
        },
        {
          "output_type": "display_data",
          "data": {
            "text/plain": [
              "<IPython.core.display.HTML object>"
            ],
            "text/html": [
              " View run <strong style=\"color:#cdcd00\">trial_2</strong> at: <a href='https://wandb.ai/cassieyfd-/bert-full-optuna/runs/de4mq9w5' target=\"_blank\">https://wandb.ai/cassieyfd-/bert-full-optuna/runs/de4mq9w5</a><br> View project at: <a href='https://wandb.ai/cassieyfd-/bert-full-optuna' target=\"_blank\">https://wandb.ai/cassieyfd-/bert-full-optuna</a><br>Synced 5 W&B file(s), 0 media file(s), 0 artifact file(s) and 0 other file(s)"
            ]
          },
          "metadata": {}
        },
        {
          "output_type": "display_data",
          "data": {
            "text/plain": [
              "<IPython.core.display.HTML object>"
            ],
            "text/html": [
              "Find logs at: <code>./wandb/run-20251017_115027-de4mq9w5/logs</code>"
            ]
          },
          "metadata": {}
        },
        {
          "output_type": "display_data",
          "data": {
            "text/plain": [
              "<IPython.core.display.HTML object>"
            ],
            "text/html": []
          },
          "metadata": {}
        },
        {
          "output_type": "display_data",
          "data": {
            "text/plain": [
              "<IPython.core.display.HTML object>"
            ],
            "text/html": [
              "Tracking run with wandb version 0.22.2"
            ]
          },
          "metadata": {}
        },
        {
          "output_type": "display_data",
          "data": {
            "text/plain": [
              "<IPython.core.display.HTML object>"
            ],
            "text/html": [
              "Run data is saved locally in <code>/content/wandb/run-20251017_121734-doeftloj</code>"
            ]
          },
          "metadata": {}
        },
        {
          "output_type": "display_data",
          "data": {
            "text/plain": [
              "<IPython.core.display.HTML object>"
            ],
            "text/html": [
              "Syncing run <strong><a href='https://wandb.ai/cassieyfd-/bert-full-optuna/runs/doeftloj' target=\"_blank\">trial_3</a></strong> to <a href='https://wandb.ai/cassieyfd-/bert-full-optuna' target=\"_blank\">Weights & Biases</a> (<a href='https://wandb.me/developer-guide' target=\"_blank\">docs</a>)<br>"
            ]
          },
          "metadata": {}
        },
        {
          "output_type": "display_data",
          "data": {
            "text/plain": [
              "<IPython.core.display.HTML object>"
            ],
            "text/html": [
              " View project at <a href='https://wandb.ai/cassieyfd-/bert-full-optuna' target=\"_blank\">https://wandb.ai/cassieyfd-/bert-full-optuna</a>"
            ]
          },
          "metadata": {}
        },
        {
          "output_type": "display_data",
          "data": {
            "text/plain": [
              "<IPython.core.display.HTML object>"
            ],
            "text/html": [
              " View run at <a href='https://wandb.ai/cassieyfd-/bert-full-optuna/runs/doeftloj' target=\"_blank\">https://wandb.ai/cassieyfd-/bert-full-optuna/runs/doeftloj</a>"
            ]
          },
          "metadata": {}
        },
        {
          "output_type": "stream",
          "name": "stderr",
          "text": [
            "/tmp/ipython-input-2755200925.py:3: FutureWarning: `tokenizer` is deprecated and will be removed in version 5.0.0 for `WeightedTrainer.__init__`. Use `processing_class` instead.\n",
            "  super().__init__(*args, **kwargs)\n",
            "Some weights of BertForSequenceClassification were not initialized from the model checkpoint at google-bert/bert-base-uncased and are newly initialized: ['classifier.bias', 'classifier.weight']\n",
            "You should probably TRAIN this model on a down-stream task to be able to use it for predictions and inference.\n",
            "Some weights of BertForSequenceClassification were not initialized from the model checkpoint at google-bert/bert-base-uncased and are newly initialized: ['classifier.bias', 'classifier.weight']\n",
            "You should probably TRAIN this model on a down-stream task to be able to use it for predictions and inference.\n"
          ]
        },
        {
          "output_type": "display_data",
          "data": {
            "text/plain": [
              "<IPython.core.display.HTML object>"
            ],
            "text/html": [
              "\n",
              "    <div>\n",
              "      \n",
              "      <progress value='1275' max='2040' style='width:300px; height:20px; vertical-align: middle;'></progress>\n",
              "      [1275/2040 19:51 < 11:56, 1.07 it/s, Epoch 5/8]\n",
              "    </div>\n",
              "    <table border=\"1\" class=\"dataframe\">\n",
              "  <thead>\n",
              " <tr style=\"text-align: left;\">\n",
              "      <th>Epoch</th>\n",
              "      <th>Training Loss</th>\n",
              "      <th>Validation Loss</th>\n",
              "      <th>Accuracy</th>\n",
              "      <th>F1</th>\n",
              "      <th>Precision</th>\n",
              "      <th>Recall</th>\n",
              "    </tr>\n",
              "  </thead>\n",
              "  <tbody>\n",
              "    <tr>\n",
              "      <td>1</td>\n",
              "      <td>0.371400</td>\n",
              "      <td>0.217469</td>\n",
              "      <td>0.956693</td>\n",
              "      <td>0.694444</td>\n",
              "      <td>0.581395</td>\n",
              "      <td>0.862069</td>\n",
              "    </tr>\n",
              "    <tr>\n",
              "      <td>2</td>\n",
              "      <td>0.286100</td>\n",
              "      <td>0.239428</td>\n",
              "      <td>0.972441</td>\n",
              "      <td>0.758621</td>\n",
              "      <td>0.758621</td>\n",
              "      <td>0.758621</td>\n",
              "    </tr>\n",
              "    <tr>\n",
              "      <td>3</td>\n",
              "      <td>0.202800</td>\n",
              "      <td>0.311935</td>\n",
              "      <td>0.975394</td>\n",
              "      <td>0.782609</td>\n",
              "      <td>0.789474</td>\n",
              "      <td>0.775862</td>\n",
              "    </tr>\n",
              "    <tr>\n",
              "      <td>4</td>\n",
              "      <td>0.119800</td>\n",
              "      <td>0.261001</td>\n",
              "      <td>0.974409</td>\n",
              "      <td>0.790323</td>\n",
              "      <td>0.742424</td>\n",
              "      <td>0.844828</td>\n",
              "    </tr>\n",
              "    <tr>\n",
              "      <td>5</td>\n",
              "      <td>0.134500</td>\n",
              "      <td>0.428391</td>\n",
              "      <td>0.977362</td>\n",
              "      <td>0.785047</td>\n",
              "      <td>0.857143</td>\n",
              "      <td>0.724138</td>\n",
              "    </tr>\n",
              "  </tbody>\n",
              "</table><p>"
            ]
          },
          "metadata": {}
        },
        {
          "output_type": "display_data",
          "data": {
            "text/plain": [
              "<IPython.core.display.HTML object>"
            ],
            "text/html": [
              "\n",
              "    <div>\n",
              "      \n",
              "      <progress value='32' max='32' style='width:300px; height:20px; vertical-align: middle;'></progress>\n",
              "      [32/32 00:06]\n",
              "    </div>\n",
              "    "
            ]
          },
          "metadata": {}
        },
        {
          "output_type": "stream",
          "name": "stderr",
          "text": [
            "[I 2025-10-17 12:37:38,024] Trial 3 finished with value: 0.7903225806451613 and parameters: {'learning_rate': 1e-05, 'warmup_ratio': 0.0, 'batch_size': 32}. Best is trial 0 with value: 0.8245614035087719.\n"
          ]
        },
        {
          "output_type": "stream",
          "name": "stdout",
          "text": [
            "Best trial:\n",
            "{'learning_rate': 1e-05, 'warmup_ratio': 0.0, 'batch_size': 32}\n"
          ]
        }
      ]
    },
    {
      "cell_type": "markdown",
      "source": [
        "### model with best-performing hyperparameters"
      ],
      "metadata": {
        "id": "LvsfEl2nM2Lb"
      }
    },
    {
      "cell_type": "code",
      "source": [
        "full_study.best_trial.params"
      ],
      "metadata": {
        "colab": {
          "base_uri": "https://localhost:8080/"
        },
        "id": "XIezM48fMzIW",
        "outputId": "92057f62-ddee-4f02-da50-6c994fbe38da"
      },
      "execution_count": 36,
      "outputs": [
        {
          "output_type": "execute_result",
          "data": {
            "text/plain": [
              "{'learning_rate': 1e-05, 'warmup_ratio': 0.0, 'batch_size': 32}"
            ]
          },
          "metadata": {},
          "execution_count": 36
        }
      ]
    },
    {
      "cell_type": "code",
      "source": [
        "full_model=AutoModelForSequenceClassification.from_pretrained(\"google-bert/bert-base-uncased\", num_labels=2)\n"
      ],
      "metadata": {
        "colab": {
          "base_uri": "https://localhost:8080/"
        },
        "id": "zirs-qZiM6xf",
        "outputId": "ce033931-1275-4a8e-cb96-9cc3699420bf"
      },
      "execution_count": 41,
      "outputs": [
        {
          "output_type": "stream",
          "name": "stderr",
          "text": [
            "Some weights of BertForSequenceClassification were not initialized from the model checkpoint at google-bert/bert-base-uncased and are newly initialized: ['classifier.bias', 'classifier.weight']\n",
            "You should probably TRAIN this model on a down-stream task to be able to use it for predictions and inference.\n"
          ]
        }
      ]
    },
    {
      "cell_type": "code",
      "source": [
        "full_training_args = TrainingArguments(\n",
        "        #output_dir=f\"./results/trial_{trial.number}\",\n",
        "        learning_rate=1e-5,\n",
        "        per_device_train_batch_size=16,\n",
        "        per_device_eval_batch_size=16,\n",
        "        num_train_epochs=6,\n",
        "        eval_strategy=\"epoch\",\n",
        "        save_strategy=\"epoch\",\n",
        "        load_best_model_at_end=True,\n",
        "        metric_for_best_model=\"f1\",\n",
        "        greater_is_better=True,\n",
        "        warmup_ratio=0.1,\n",
        "        #logging_dir=f\"./logs/trial_{trial.number}\",\n",
        "        report_to=[\"wandb\"],\n",
        "        #run_name=f\"trial_{trial.number}\",\n",
        "        logging_steps=50,\n",
        "        save_total_limit=2,\n",
        "        seed=42\n",
        "    )\n",
        "full_trainer = WeightedTrainer(\n",
        "        model=model,\n",
        "        args=full_training_args,\n",
        "        train_dataset=train_dataset,\n",
        "        eval_dataset=val_dataset,\n",
        "        tokenizer=tokenizer,\n",
        "        compute_metrics=compute_metrics,\n",
        "        callbacks=[early_stopping],\n",
        "        class_weights=class_weights\n",
        "    )\n",
        "\n",
        "full_trainer.train()"
      ],
      "metadata": {
        "colab": {
          "base_uri": "https://localhost:8080/",
          "height": 257
        },
        "id": "mLblDiaVNL-t",
        "outputId": "3be96e98-6350-489a-9ded-7a2784890d88"
      },
      "execution_count": null,
      "outputs": [
        {
          "output_type": "stream",
          "name": "stderr",
          "text": [
            "/tmp/ipython-input-2755200925.py:3: FutureWarning: `tokenizer` is deprecated and will be removed in version 5.0.0 for `WeightedTrainer.__init__`. Use `processing_class` instead.\n",
            "  super().__init__(*args, **kwargs)\n"
          ]
        },
        {
          "output_type": "display_data",
          "data": {
            "text/plain": [
              "<IPython.core.display.HTML object>"
            ],
            "text/html": [
              "\n",
              "    <div>\n",
              "      \n",
              "      <progress value='2037' max='3054' style='width:300px; height:20px; vertical-align: middle;'></progress>\n",
              "      [2037/3054 13:12 < 06:36, 2.57 it/s, Epoch 4/6]\n",
              "    </div>\n",
              "    <table border=\"1\" class=\"dataframe\">\n",
              "  <thead>\n",
              " <tr style=\"text-align: left;\">\n",
              "      <th>Epoch</th>\n",
              "      <th>Training Loss</th>\n",
              "      <th>Validation Loss</th>\n",
              "      <th>Accuracy</th>\n",
              "      <th>F1</th>\n",
              "      <th>Precision</th>\n",
              "      <th>Recall</th>\n",
              "    </tr>\n",
              "  </thead>\n",
              "  <tbody>\n",
              "    <tr>\n",
              "      <td>1</td>\n",
              "      <td>0.210700</td>\n",
              "      <td>0.255939</td>\n",
              "      <td>0.967520</td>\n",
              "      <td>0.740157</td>\n",
              "      <td>0.681159</td>\n",
              "      <td>0.810345</td>\n",
              "    </tr>\n",
              "    <tr>\n",
              "      <td>2</td>\n",
              "      <td>0.246900</td>\n",
              "      <td>0.292424</td>\n",
              "      <td>0.978346</td>\n",
              "      <td>0.813559</td>\n",
              "      <td>0.800000</td>\n",
              "      <td>0.827586</td>\n",
              "    </tr>\n",
              "    <tr>\n",
              "      <td>3</td>\n",
              "      <td>0.083400</td>\n",
              "      <td>0.444560</td>\n",
              "      <td>0.975394</td>\n",
              "      <td>0.774775</td>\n",
              "      <td>0.811321</td>\n",
              "      <td>0.741379</td>\n",
              "    </tr>\n",
              "    <tr>\n",
              "      <td>4</td>\n",
              "      <td>0.077200</td>\n",
              "      <td>0.473400</td>\n",
              "      <td>0.975394</td>\n",
              "      <td>0.778761</td>\n",
              "      <td>0.800000</td>\n",
              "      <td>0.758621</td>\n",
              "    </tr>\n",
              "  </tbody>\n",
              "</table><p>"
            ]
          },
          "metadata": {}
        }
      ]
    },
    {
      "cell_type": "code",
      "source": [
        "full_trainer.evaluate(test_dataset)"
      ],
      "metadata": {
        "id": "dgcZ4LhLNOFG"
      },
      "execution_count": null,
      "outputs": []
    }
  ]
}